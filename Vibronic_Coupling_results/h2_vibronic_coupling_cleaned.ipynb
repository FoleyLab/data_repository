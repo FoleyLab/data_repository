{
 "cells": [
  {
   "cell_type": "markdown",
   "id": "583e2fa1",
   "metadata": {},
   "source": [
    "# 1. Import Packages and Read Data"
   ]
  },
  {
   "cell_type": "code",
   "execution_count": 1,
   "id": "886a4c99",
   "metadata": {},
   "outputs": [],
   "source": [
    "import json\n",
    "import numpy as np\n",
    "import matplotlib.pyplot as plt"
   ]
  },
  {
   "cell_type": "markdown",
   "id": "f59b6378",
   "metadata": {},
   "source": [
    "## Read QED-TDDFT Data"
   ]
  },
  {
   "cell_type": "code",
   "execution_count": 2,
   "id": "ce5498d3",
   "metadata": {},
   "outputs": [],
   "source": [
    "h2_tddft_pes = np.loadtxt(\"H2/H2_PBE.txt\")"
   ]
  },
  {
   "cell_type": "code",
   "execution_count": 3,
   "id": "d32e3021",
   "metadata": {},
   "outputs": [],
   "source": [
    "# store the bondlength scan values in an array in Bohr units"
   ]
  },
  {
   "cell_type": "code",
   "execution_count": 4,
   "id": "896c7801",
   "metadata": {},
   "outputs": [],
   "source": [
    "# Define your method names"
   ]
  },
  {
   "cell_type": "code",
   "execution_count": 5,
   "id": "bc672186",
   "metadata": {},
   "outputs": [],
   "source": [
    "with open(\"Uncoupled_molecules_data.json\", \"r\") as json_file:\n",
    "    uncoupled_data = json.load(json_file)"
   ]
  },
  {
   "cell_type": "markdown",
   "id": "d02a433c",
   "metadata": {},
   "source": [
    "# 2. Analysis and Calculation of FC Factors"
   ]
  },
  {
   "cell_type": "code",
   "execution_count": 6,
   "id": "bc328a05",
   "metadata": {},
   "outputs": [],
   "source": [
    "# qed-tddft"
   ]
  },
  {
   "cell_type": "code",
   "execution_count": 7,
   "id": "b1a96740",
   "metadata": {},
   "outputs": [],
   "source": [
    "# calculate Huang Rhys, FC-Limit between S0 and LP and S0 and UP"
   ]
  },
  {
   "cell_type": "code",
   "execution_count": 8,
   "id": "99633230",
   "metadata": {},
   "outputs": [
    {
     "ename": "NameError",
     "evalue": "name 'lambda_values' is not defined",
     "output_type": "error",
     "traceback": [
      "\u001b[0;31m---------------------------------------------------------------------------\u001b[0m",
      "\u001b[0;31mNameError\u001b[0m                                 Traceback (most recent call last)",
      "\u001b[0;32m/var/folders/hs/493lh3390kv8z7b8n8zv_p580000gp/T/ipykernel_58056/929981006.py\u001b[0m in \u001b[0;36m<module>\u001b[0;34m\u001b[0m\n\u001b[1;32m      1\u001b[0m \u001b[0mlambda_value_to_plot\u001b[0m \u001b[0;34m=\u001b[0m \u001b[0;34m[\u001b[0m\u001b[0;36m0.01\u001b[0m\u001b[0;34m,\u001b[0m \u001b[0;36m0.05\u001b[0m\u001b[0;34m,\u001b[0m \u001b[0;36m0.1\u001b[0m\u001b[0;34m]\u001b[0m\u001b[0;34m\u001b[0m\u001b[0;34m\u001b[0m\u001b[0m\n\u001b[0;32m----> 2\u001b[0;31m \u001b[0mindices\u001b[0m \u001b[0;34m=\u001b[0m \u001b[0;34m[\u001b[0m\u001b[0mnp\u001b[0m\u001b[0;34m.\u001b[0m\u001b[0mwhere\u001b[0m\u001b[0;34m(\u001b[0m\u001b[0mnp\u001b[0m\u001b[0;34m.\u001b[0m\u001b[0misclose\u001b[0m\u001b[0;34m(\u001b[0m\u001b[0mlambda_values\u001b[0m \u001b[0;34m,\u001b[0m\u001b[0melement\u001b[0m\u001b[0;34m)\u001b[0m\u001b[0;34m)\u001b[0m\u001b[0;34m[\u001b[0m\u001b[0;36m0\u001b[0m\u001b[0;34m]\u001b[0m\u001b[0;34m[\u001b[0m\u001b[0;36m0\u001b[0m\u001b[0;34m]\u001b[0m \u001b[0;32mfor\u001b[0m \u001b[0melement\u001b[0m \u001b[0;32min\u001b[0m \u001b[0mlambda_value_to_plot\u001b[0m\u001b[0;34m]\u001b[0m\u001b[0;34m\u001b[0m\u001b[0;34m\u001b[0m\u001b[0m\n\u001b[0m\u001b[1;32m      3\u001b[0m \u001b[0;34m\u001b[0m\u001b[0m\n\u001b[1;32m      4\u001b[0m \u001b[0mfcl_qedci\u001b[0m \u001b[0;34m=\u001b[0m \u001b[0;34m[\u001b[0m\u001b[0;36m0.134\u001b[0m\u001b[0;34m,\u001b[0m \u001b[0;36m0.185\u001b[0m\u001b[0;34m,\u001b[0m \u001b[0;36m0.236\u001b[0m\u001b[0;34m]\u001b[0m\u001b[0;34m\u001b[0m\u001b[0;34m\u001b[0m\u001b[0m\n\u001b[1;32m      5\u001b[0m \u001b[0mfcl_pqed\u001b[0m \u001b[0;34m=\u001b[0m \u001b[0;34m[\u001b[0m\u001b[0;36m0.137\u001b[0m\u001b[0;34m,\u001b[0m \u001b[0;36m0.188\u001b[0m\u001b[0;34m,\u001b[0m \u001b[0;36m0.240\u001b[0m\u001b[0;34m]\u001b[0m\u001b[0;34m\u001b[0m\u001b[0;34m\u001b[0m\u001b[0m\n",
      "\u001b[0;32m/var/folders/hs/493lh3390kv8z7b8n8zv_p580000gp/T/ipykernel_58056/929981006.py\u001b[0m in \u001b[0;36m<listcomp>\u001b[0;34m(.0)\u001b[0m\n\u001b[1;32m      1\u001b[0m \u001b[0mlambda_value_to_plot\u001b[0m \u001b[0;34m=\u001b[0m \u001b[0;34m[\u001b[0m\u001b[0;36m0.01\u001b[0m\u001b[0;34m,\u001b[0m \u001b[0;36m0.05\u001b[0m\u001b[0;34m,\u001b[0m \u001b[0;36m0.1\u001b[0m\u001b[0;34m]\u001b[0m\u001b[0;34m\u001b[0m\u001b[0;34m\u001b[0m\u001b[0m\n\u001b[0;32m----> 2\u001b[0;31m \u001b[0mindices\u001b[0m \u001b[0;34m=\u001b[0m \u001b[0;34m[\u001b[0m\u001b[0mnp\u001b[0m\u001b[0;34m.\u001b[0m\u001b[0mwhere\u001b[0m\u001b[0;34m(\u001b[0m\u001b[0mnp\u001b[0m\u001b[0;34m.\u001b[0m\u001b[0misclose\u001b[0m\u001b[0;34m(\u001b[0m\u001b[0mlambda_values\u001b[0m \u001b[0;34m,\u001b[0m\u001b[0melement\u001b[0m\u001b[0;34m)\u001b[0m\u001b[0;34m)\u001b[0m\u001b[0;34m[\u001b[0m\u001b[0;36m0\u001b[0m\u001b[0;34m]\u001b[0m\u001b[0;34m[\u001b[0m\u001b[0;36m0\u001b[0m\u001b[0;34m]\u001b[0m \u001b[0;32mfor\u001b[0m \u001b[0melement\u001b[0m \u001b[0;32min\u001b[0m \u001b[0mlambda_value_to_plot\u001b[0m\u001b[0;34m]\u001b[0m\u001b[0;34m\u001b[0m\u001b[0;34m\u001b[0m\u001b[0m\n\u001b[0m\u001b[1;32m      3\u001b[0m \u001b[0;34m\u001b[0m\u001b[0m\n\u001b[1;32m      4\u001b[0m \u001b[0mfcl_qedci\u001b[0m \u001b[0;34m=\u001b[0m \u001b[0;34m[\u001b[0m\u001b[0;36m0.134\u001b[0m\u001b[0;34m,\u001b[0m \u001b[0;36m0.185\u001b[0m\u001b[0;34m,\u001b[0m \u001b[0;36m0.236\u001b[0m\u001b[0;34m]\u001b[0m\u001b[0;34m\u001b[0m\u001b[0;34m\u001b[0m\u001b[0m\n\u001b[1;32m      5\u001b[0m \u001b[0mfcl_pqed\u001b[0m \u001b[0;34m=\u001b[0m \u001b[0;34m[\u001b[0m\u001b[0;36m0.137\u001b[0m\u001b[0;34m,\u001b[0m \u001b[0;36m0.188\u001b[0m\u001b[0;34m,\u001b[0m \u001b[0;36m0.240\u001b[0m\u001b[0;34m]\u001b[0m\u001b[0;34m\u001b[0m\u001b[0;34m\u001b[0m\u001b[0m\n",
      "\u001b[0;31mNameError\u001b[0m: name 'lambda_values' is not defined"
     ]
    }
   ],
   "source": [
    "lambda_value_to_plot = [0.01, 0.05, 0.1]\n",
    "indices = [np.where(np.isclose(lambda_values ,element))[0][0] for element in lambda_value_to_plot]\n",
    "\n",
    "fcl_qedci = [0.134, 0.185, 0.236]\n",
    "fcl_pqed = [0.137, 0.188, 0.240]\n",
    "fcl_pqed_minimal = [0.135, 0.185, 0.237]\n",
    "fcl_tddft = [0.112, 0.152, 0.190]"
   ]
  },
  {
   "cell_type": "code",
   "execution_count": null,
   "id": "a5726276",
   "metadata": {},
   "outputs": [],
   "source": [
    "# store the FC factors"
   ]
  },
  {
   "cell_type": "markdown",
   "id": "23be1b69",
   "metadata": {},
   "source": [
    "# 3. Format and Display Output Tables"
   ]
  },
  {
   "cell_type": "code",
   "execution_count": null,
   "id": "90744921",
   "metadata": {},
   "outputs": [],
   "source": [
    "def format_latex_sci(value):\n",
    "    return f\"{value:.2e}\""
   ]
  },
  {
   "cell_type": "code",
   "execution_count": null,
   "id": "54ae1ca5",
   "metadata": {},
   "outputs": [],
   "source": [
    "def format_scalar(value):\n",
    "    return f\"{value:.3f}\""
   ]
  },
  {
   "cell_type": "code",
   "execution_count": null,
   "id": "d6cece7e",
   "metadata": {},
   "outputs": [],
   "source": [
    "def format_latex_sci(value):\n",
    "    return f\"{value:.2e}\""
   ]
  },
  {
   "cell_type": "code",
   "execution_count": null,
   "id": "dd38819d",
   "metadata": {},
   "outputs": [],
   "source": [
    "# grab the desired fcl values"
   ]
  }
 ],
 "metadata": {
  "kernelspec": {
   "display_name": "Python 3 (ipykernel)",
   "language": "python",
   "name": "python3"
  },
  "language_info": {
   "codemirror_mode": {
    "name": "ipython",
    "version": 3
   },
   "file_extension": ".py",
   "mimetype": "text/x-python",
   "name": "python",
   "nbconvert_exporter": "python",
   "pygments_lexer": "ipython3",
   "version": "3.9.7"
  }
 },
 "nbformat": 4,
 "nbformat_minor": 5
}
