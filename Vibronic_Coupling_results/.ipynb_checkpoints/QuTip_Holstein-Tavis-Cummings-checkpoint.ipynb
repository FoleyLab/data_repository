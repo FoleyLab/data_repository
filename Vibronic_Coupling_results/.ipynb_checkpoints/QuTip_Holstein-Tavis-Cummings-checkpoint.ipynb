{
 "cells": [
  {
   "cell_type": "markdown",
   "id": "165b1836-a9f7-4113-ae6d-95985540ddad",
   "metadata": {},
   "source": [
    "$$\n",
    "H_{\\rm Holstein} = \\hbar\\omega_v b^\\dagger b + \\hbar\\omega_e\\,\\sigma^\\dagger\\sigma - \\hbar\\lambda\\,\\omega_v(b^\\dagger + b)\\,\\sigma^\\dagger\\sigma,\n",
    "$$\n",
    "\n",
    "\n",
    "\\begin{aligned}\n",
    "H &= \\hbar\\omega_c\\,a^\\dagger a \n",
    "   + \\sum_{i=1}^N \\Bigl[\n",
    "       \\hbar\\omega_x\\,\\sigma^+_i\\sigma^-_i \n",
    "       + g\\bigl(\\sigma^+_i\\,a + \\sigma^-_i\\,a^\\dagger\\bigr)\n",
    "       + \\hbar\\omega_v\\,b_i^\\dagger b_i \n",
    "       - \\hbar\\lambda\\,\\omega_v\\,(b_i^\\dagger + b_i)\\,\\sigma^+_i\\sigma^-_i\n",
    "   \\Bigr],\n",
    "\\end{aligned}\n",
    "\n",
    "where $ a $ ($ a^\\dagger $) annihilates a cavity photon of frequency $\\omega_c $, and each molecule $ i $ has an electronic excitation $ \\sigma_i^\\pm $ (raising/lowering operator) of frequency $\\omega_x $, and a vibrational mode $b_i $ ($b_i^\\dagger$ ) of frequency $\\omega_v $.\n",
    "\n",
    "The first sum is the standard Tavis–Cummings part: each excited molecule couples to the cavity photon with strength $ g $. The second sum is $ N $ copies of the Holstein term: when molecule $i $ is excited ($ \\sigma^+_i\\sigma^-_i=1 $), its vibrational mode is displaced by $ \\lambda$ (the Huang–Rhys factor)."
   ]
  },
  {
   "cell_type": "code",
   "execution_count": null,
   "id": "4c9ec211-928f-4a92-a854-5041576ef16d",
   "metadata": {},
   "outputs": [],
   "source": [
    "#imports\n",
    "from qutip import *\n",
    "import numpy as np"
   ]
  },
  {
   "cell_type": "code",
   "execution_count": null,
   "id": "49047986-5751-458b-a89c-a7263a4ae989",
   "metadata": {},
   "outputs": [],
   "source": [
    "# System parameters in atomic units\n",
    "wc = 1.0 # cavity photon freq.\n",
    "wx = 1.0 # exciton transition freq.\n",
    "wv = 0.5 # vibrational mode freq.\n",
    "\n",
    "g = 0.2 # light-matter coupling\n",
    "lam = 0.2 # Huang-Rhys factor (vibronic coupling)\n",
    "\n",
    "# Truncate Fock spaces\n",
    "N_vib = 5 # vibrational levels\n",
    "N_ph = 5 # photon levels\n",
    "\n",
    "#helper function\n",
    "def kron3(a, b, c):\n",
    "    return tensor(tensor(a,b),c)\n",
    "\n",
    "#create operators\n",
    "a  = kron3(qeye(2), qeye(N_vib), destroy(N_vib))\n",
    "b = kron3(qeye(2), destroy(N_ph), qeye(N_ph))\n",
    "\n",
    "### JJF Comment: Can you find a way to buld proj_e in terms of the built-in sigmap() and sigmam() functions?\n",
    "### Question/Hint: Can you explain what the proj_e operator does with respect to the basis states |g> and |e>\n",
    "### Similarly, what do the operators sigmap() and sigmam() do to the basis functions |g> and |e>?\n",
    "q = np.array([[0, 0],[0, 1]], dtype=complex) # |e><e|\n",
    "proj_e = Qobj(q)\n",
    "\n",
    "proj_e_global = kron3(proj_e, qeye(N_vib), qeye(N_ph))\n",
    "\n",
    "sm = kron3(sigmap(), qeye(N_vib), qeye(N_ph))\n",
    "sp = kron3(sigmam(), qeye(N_vib), qeye(N_ph))\n",
    "\n",
    "#make Hamiltonian\n",
    "H = wc * a.dag() * a + wx * proj_e_global + g * (sp * a + sm * a.dag()) + wv * b.dag() * b - lam * (b.dag() + b) * proj_e_global\n",
    "\n",
    "#diagonalize and print energies\n",
    "energies = H.eigenenergies()\n",
    "print(\"Lowest energies:\", np.round(energies[:5], 5))"
   ]
  },
  {
   "cell_type": "code",
   "execution_count": null,
   "id": "2655d3e9-c914-48dd-b06b-cb31c4e76f7f",
   "metadata": {},
   "outputs": [],
   "source": []
  }
 ],
 "metadata": {
  "kernelspec": {
   "display_name": "Python 3 (ipykernel)",
   "language": "python",
   "name": "python3"
  },
  "language_info": {
   "codemirror_mode": {
    "name": "ipython",
    "version": 3
   },
   "file_extension": ".py",
   "mimetype": "text/x-python",
   "name": "python",
   "nbconvert_exporter": "python",
   "pygments_lexer": "ipython3",
   "version": "3.12.8"
  }
 },
 "nbformat": 4,
 "nbformat_minor": 5
}
