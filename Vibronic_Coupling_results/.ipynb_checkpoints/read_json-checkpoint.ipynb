{
 "cells": [
  {
   "cell_type": "code",
   "execution_count": null,
   "id": "0d65c85d-3c36-4717-9cdb-f861dc0c3b56",
   "metadata": {},
   "outputs": [],
   "source": [
    "import json\n",
    "import numpy as np\n",
    "\n",
    "\n"
   ]
  },
  {
   "cell_type": "code",
   "execution_count": null,
   "id": "5ea52bbb-e837-429e-ad8b-f6597972cde6",
   "metadata": {},
   "outputs": [],
   "source": [
    "# read from json file Uncoupled_molecules_data_with_casscf.json\n",
    "def read_json(file_path):\n",
    "    with open(file_path, 'r') as file:\n",
    "        data = json.load(file)\n",
    "    return data\n",
    "\n"
   ]
  },
  {
   "cell_type": "code",
   "execution_count": null,
   "id": "86f57e34-603f-4dfc-9c9c-6cb2d4520e76",
   "metadata": {},
   "outputs": [],
   "source": [
    "file_1 = '/Users/jfoley19/Code/data_repository/Vibronic_Coupling_results/Uncoupled_molecules_data_with_casscf.json'\n",
    "file_2 = '/Users/jfoley19/Code/data_repository/Vibronic_Coupling_results/Uncoupled_molecules_data.json'\n",
    "\n"
   ]
  },
  {
   "cell_type": "code",
   "execution_count": null,
   "id": "da47ab6c-2a75-4d06-bc2f-e9a419e01416",
   "metadata": {},
   "outputs": [],
   "source": [
    "# read data from the json file\n",
    "data_w_casscf = read_json(file_1)\n",
    "data_wo_casscf = read_json(file_2)"
   ]
  }
 ],
 "metadata": {
  "kernelspec": {
   "display_name": "Python 3 (ipykernel)",
   "language": "python",
   "name": "python3"
  },
  "language_info": {
   "codemirror_mode": {
    "name": "ipython",
    "version": 3
   },
   "file_extension": ".py",
   "mimetype": "text/x-python",
   "name": "python",
   "nbconvert_exporter": "python",
   "pygments_lexer": "ipython3",
   "version": "3.9.18"
  }
 },
 "nbformat": 4,
 "nbformat_minor": 5
}
