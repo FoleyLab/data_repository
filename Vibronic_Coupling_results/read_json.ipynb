{
 "cells": [
  {
   "cell_type": "code",
   "execution_count": 5,
   "id": "0d65c85d-3c36-4717-9cdb-f861dc0c3b56",
   "metadata": {},
   "outputs": [],
   "source": [
    "import json\n",
    "import numpy as np"
   ]
  },
  {
   "cell_type": "code",
   "execution_count": 6,
   "id": "5ea52bbb-e837-429e-ad8b-f6597972cde6",
   "metadata": {},
   "outputs": [],
   "source": [
    "# read from json file Uncoupled_molecules_data_with_casscf.json\n",
    "def read_json(file_path):\n",
    "    with open(file_path, 'r') as file:\n",
    "        data = json.load(file)\n",
    "    return data"
   ]
  },
  {
   "cell_type": "code",
   "execution_count": 7,
   "id": "86f57e34-603f-4dfc-9c9c-6cb2d4520e76",
   "metadata": {},
   "outputs": [],
   "source": [
    "file_1 = '/Users/jfoley19/Code/data_repository/Vibronic_Coupling_results/Uncoupled_molecules_data_with_casscf.json'\n",
    "file_2 = '/Users/jfoley19/Code/data_repository/Vibronic_Coupling_results/Uncoupled_molecules_data.json'\n",
    "\n",
    "r_list_h2 = np.linspace(0.25, 2.0, 100)\n",
    "r_list_lih = np.linspace(1.0, 3.5, 100)\n",
    "r_list_mghp = np.linspace(1.0, 3.5, 100)"
   ]
  },
  {
   "cell_type": "code",
   "execution_count": 8,
   "id": "da47ab6c-2a75-4d06-bc2f-e9a419e01416",
   "metadata": {},
   "outputs": [],
   "source": [
    "# read data from the json file\n",
    "data_w_casscf = read_json(file_1)\n",
    "data_wo_casscf = read_json(file_2)"
   ]
  },
  {
   "cell_type": "code",
   "execution_count": 31,
   "id": "f4efc553",
   "metadata": {},
   "outputs": [
    {
     "name": "stdout",
     "output_type": "stream",
     "text": [
      "(100, 3)\n"
     ]
    }
   ],
   "source": [
    "# grap LiH PES data, store to numpy array for easier manipulation\n",
    "lih_pes = np.array(data_w_casscf['H2']['Uncoupled_Surfaces'])\n",
    "\n",
    "print(np.shape(lih_pes))\n",
    "# store E0, E1, and E2 surfaces to lists\n",
    "lih_e0 = lih_pes[:,0].tolist()\n",
    "lih_e1 = lih_pes[:,0].tolist()\n",
    "lih_e2 = lih_pes[:,0].tolist()\n"
   ]
  },
  {
   "cell_type": "code",
   "execution_count": 29,
   "id": "bce0bc38-b45f-49ae-a68b-aecedd59307e",
   "metadata": {},
   "outputs": [],
   "source": [
    "import json\n",
    "import copy\n",
    "\n",
    "def generate_combined_dataset(\n",
    "    template,\n",
    "    atom_labels,\n",
    "    bond_lengths,\n",
    "    energy_levels,\n",
    "    cavity_extras=None,\n",
    "    output_filename=\"combined_output.json\",\n",
    "    provenance_creator=None,\n",
    "    provenance_routine=None,\n",
    "    max_photon_occupation=None,\n",
    "    molecule_charge=None,\n",
    "    molecule_multiplicity=None,\n",
    "    method=None,\n",
    "    basis=None,\n",
    "    photonic_basis=None\n",
    "):\n",
    "    data = copy.deepcopy(template)\n",
    "\n",
    "    # Molecule section\n",
    "    data[\"molecule\"][\"symbols\"] = atom_labels\n",
    "    data[\"molecule\"][\"geometry\"] = [\n",
    "        [0.0, 0.0, 0.0],\n",
    "        [0.0, 0.0, None]\n",
    "    ]\n",
    "    if molecule_charge is not None:\n",
    "        data[\"molecule\"][\"charge\"] = str(molecule_charge)\n",
    "    if molecule_multiplicity is not None:\n",
    "        data[\"molecule\"][\"multiplicity\"] = str(molecule_multiplicity)\n",
    "\n",
    "    # Input data: bond scan\n",
    "    data[\"input_data\"][\"bond_lengths\"] = bond_lengths\n",
    "\n",
    "    # Energies\n",
    "    for level in energy_levels:\n",
    "        if level in data[\"properties\"][\"energies\"]:\n",
    "            if len(energy_levels[level]) != len(bond_lengths):\n",
    "                raise ValueError(f\"Length mismatch for {level}\")\n",
    "            data[\"properties\"][\"energies\"][level] = energy_levels[level]\n",
    "        else:\n",
    "            raise KeyError(f\"Unexpected energy level '{level}'\")\n",
    "\n",
    "    # Extras\n",
    "    if cavity_extras:\n",
    "        data[\"extras\"].update(cavity_extras)\n",
    "    if max_photon_occupation is not None:\n",
    "        data[\"extras\"][\"maximum_photon_occupation\"] = max_photon_occupation\n",
    "    if photonic_basis is not None:\n",
    "        data[\"extras\"][\"photonic_basis\"] = photonic_basis\n",
    "\n",
    "    # Provenance\n",
    "    if provenance_creator is not None:\n",
    "        data[\"provenance\"][\"creator\"] = provenance_creator\n",
    "    if provenance_routine is not None:\n",
    "        data[\"provenance\"][\"routine\"] = provenance_routine\n",
    "\n",
    "    # Keywords\n",
    "    if method is not None:\n",
    "        data[\"keywords\"][\"method\"] = method\n",
    "    if basis is not None:\n",
    "        data[\"keywords\"][\"basis\"] = basis\n",
    "\n",
    "    # Save to file\n",
    "    with open(output_filename, \"w\") as f:\n",
    "        json.dump(data, f, indent=4)\n",
    "    print(f\"Saved combined dataset to {output_filename}\")\n",
    "\n"
   ]
  },
  {
   "cell_type": "code",
   "execution_count": 32,
   "id": "2c2137b4-ad34-43c5-884c-558bb6abb220",
   "metadata": {},
   "outputs": [
    {
     "name": "stdout",
     "output_type": "stream",
     "text": [
      "Saved combined dataset to h2_fci_pVTZ_r_scan.json\n"
     ]
    }
   ],
   "source": [
    "# ==========================\n",
    "# Example usage based on reading a MgH+ QED-CASSCF File and using LiH data\n",
    "# ==========================\n",
    "if __name__ == \"__main__\":\n",
    "    with open(\"/Users/jfoley19/Code/data_repository/Mapol/QED-CASSCF_Results/MgHplus/PES/QED-CASSCF/mghplus_casscf_ccpVDZ_lz_0_om_0.json\", \"r\") as f:\n",
    "        template_data = json.load(f)\n",
    "\n",
    "    atom_labels = [\"H\", \"H\"]\n",
    "    \n",
    "    bond_lengths = r_list_h2.tolist() #[1.0, 1.1, 1.2]\n",
    "    energies = {\n",
    "        \"E0\": lih_e0,\n",
    "        \"E1\": lih_e1,\n",
    "        \"E2\": lih_e2\n",
    "    }\n",
    "    cavity_extras = {\n",
    "        \"cavity_frequency\": 0.0,\n",
    "        \"cavity_coupling_vector\": [0.0, 0.0, 0.0]\n",
    "    }\n",
    "\n",
    "    generate_combined_dataset(\n",
    "        template=template_data,\n",
    "        atom_labels=atom_labels,\n",
    "        bond_lengths=bond_lengths,\n",
    "        energy_levels=energies,\n",
    "        cavity_extras=cavity_extras,\n",
    "        output_filename=\"h2_fci_pVTZ_r_scan.json\",\n",
    "        provenance_creator=\"qed-ci\",\n",
    "        provenance_routine=\"pes_scan\",\n",
    "        max_photon_occupation=0,\n",
    "        molecule_charge=1,\n",
    "        molecule_multiplicity=1,\n",
    "        method=\"FCI\",\n",
    "        basis=\"cc-pVTZ\",\n",
    "        photonic_basis=None\n",
    "    )\n"
   ]
  },
  {
   "cell_type": "code",
   "execution_count": null,
   "id": "5b951279-fe04-4da2-a570-4d358ca3dc95",
   "metadata": {},
   "outputs": [],
   "source": []
  }
 ],
 "metadata": {
  "kernelspec": {
   "display_name": "Python 3 (ipykernel)",
   "language": "python",
   "name": "python3"
  },
  "language_info": {
   "codemirror_mode": {
    "name": "ipython",
    "version": 3
   },
   "file_extension": ".py",
   "mimetype": "text/x-python",
   "name": "python",
   "nbconvert_exporter": "python",
   "pygments_lexer": "ipython3",
   "version": "3.9.18"
  }
 },
 "nbformat": 4,
 "nbformat_minor": 5
}
