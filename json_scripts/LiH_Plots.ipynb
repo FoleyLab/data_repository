{
 "cells": [
  {
   "cell_type": "code",
   "execution_count": null,
   "id": "e1252ad4-8482-468e-b176-c8b330c96121",
   "metadata": {},
   "outputs": [],
   "source": [
    "from matplotlib import pyplot as plt\n",
    "from matplotlib import cm\n",
    "from matplotlib import rcParams\n",
    "import sys\n",
    "np.set_printoptions(threshold=sys.maxsize)\n",
    "rcParams['font.family'] = 'serif'\n",
    "rcParams['font.size'] = 12"
   ]
  },
  {
   "cell_type": "code",
   "execution_count": null,
   "id": "dcac5129-9ee1-49c9-b725-6a6c4b4a4619",
   "metadata": {},
   "outputs": [],
   "source": [
    "COLOUR1 = \"firebrick\"\n",
    "COLOUR2 = \"darkgreen\"\n",
    "COLOUR3 = \"royalblue\"\n",
    "COLOUR4 = \"rebeccapurple\"\n",
    "COLOUR5 = 'darkorchid'\n",
    "COLOUR6 = 'olivedrab'\n",
    "\n",
    "plt.plot(l_arraydz[:,2], (energydz[:,0]-rdz_g) * 1, color=COLOUR1, marker=\"s\", ms=\"8\", mfc=\"none\", label=\"pPF(60,10)/cc-pVDZ\")\n",
    "plt.plot(l_arraydz[:,2], (energytz[:,0]-rtz_g) * 1, color=COLOUR2, marker=\"s\", ms=\"8\", mfc=\"none\", label=\"pPF(468,10)/cc-pVTZ\")\n",
    "plt.plot(l_arraydz[:,2], (energyqz[:,0]-rqz_g) * 1, color=COLOUR4, marker=\"s\", ms=\"8\", mfc=\"none\", label=\"pPF(2880,10)/cc-pVQZ\")\n",
    "plt.yscale(\"log\")\n",
    "plt.xlabel(\"Coupling Strength (atomic units)\")\n",
    "plt.ylabel(\"Energy Error (Hartree)\")\n",
    "plt.xticks([0, 0.025, 0.050, 0.075, 0.100])\n",
    "plt.xlim(0.00, 0.1)\n",
    "plt.ylim(1e-9, 1e-3)\n",
    "plt.legend()\n",
    "plt.savefig(\"HHep_Error_vs_Coupling.png\", dpi=200)\n",
    "plt.show()\n"
   ]
  }
 ],
 "metadata": {
  "kernelspec": {
   "display_name": "Python 3 (ipykernel)",
   "language": "python",
   "name": "python3"
  },
  "language_info": {
   "codemirror_mode": {
    "name": "ipython",
    "version": 3
   },
   "file_extension": ".py",
   "mimetype": "text/x-python",
   "name": "python",
   "nbconvert_exporter": "python",
   "pygments_lexer": "ipython3",
   "version": "3.9.18"
  }
 },
 "nbformat": 4,
 "nbformat_minor": 5
}
