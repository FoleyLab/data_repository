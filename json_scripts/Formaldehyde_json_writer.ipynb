{
 "cells": [
  {
   "cell_type": "code",
   "execution_count": null,
   "id": "a4d953fd",
   "metadata": {},
   "outputs": [],
   "source": [
    "import numpy as np\n",
    "from matplotlib import pyplot as plt\n",
    "import json"
   ]
  },
  {
   "cell_type": "code",
   "execution_count": null,
   "id": "8bc34079",
   "metadata": {},
   "outputs": [],
   "source": [
    "# array of bondlengths used to generate this data\n",
    "r_array = np.linspace(1.0, 1.8, 50)\n",
    "\n",
    "# numpy write of the energy eigenvalues at each bondlength\n",
    "E = np.load(\"CH2O_ccPVDZ_CASCI_88_E_Array.npy\")\n",
    "# numpy write of the dipole moments at each bondlength for each pair of states \n",
    "Mu = np.load(\"CH2O_ccPVDZ_CASCI_88_MU_Array.npy\")\n",
    "\n",
    "# commit number of the qed-ci canonical_mo_option branch\n",
    "sha = '36377939e45c5bcf9d1b6c8d2ecdd6dc29e8ecdd'\n",
    "\n",
    "# get number of electronic states\n",
    "N_el = len(E[0,:])"
   ]
  },
  {
   "cell_type": "code",
   "execution_count": null,
   "id": "d85fd127",
   "metadata": {},
   "outputs": [],
   "source": [
    "# equilibrium geometry of formaldehyde - determined from B3LYP/cc-pVDZ\n",
    "formaldehyde_ccpVDZ_b3lyp_opt = \"\"\"\n",
    "0 1\n",
    "O\n",
    "C             1    1.203950\n",
    "H             2    1.120350      1  122.478805\n",
    "H             2    1.120350      1  122.478805      3  180.000000\n",
    "symmetry c1\n",
    "\"\"\"\n",
    "\n",
    "# template for performing CO bond-stretch with all other coordintes frozen at equilibrium values\n",
    "mol_tmpl = \"\"\"\n",
    "0 1\n",
    "O\n",
    "C             1    **R**\n",
    "H             2    1.120350      1  122.478805\n",
    "H             2    1.120350      1  122.478805      3  180.000000\n",
    "symmetry c1\n",
    "\"\"\"\n",
    "\n",
    "# basic psi4 options\n",
    "options_dict = {\n",
    "    \"basis\": \"cc-pVDZ\",\n",
    "    \"scf_type\": \"pk\",\n",
    "    \"e_convergence\": 1e-10,\n",
    "    \"d_convergence\": 1e-10,\n",
    "}"
   ]
  },
  {
   "cell_type": "code",
   "execution_count": null,
   "id": "3c628b7a",
   "metadata": {},
   "outputs": [],
   "source": [
    "# set up base dictionary - some of this will be updated with each calculation\n",
    "dictionary = {\n",
    "  \"repo\" : {\n",
    "      \n",
    "      \"repository_url\" : \" https://github.com/mapol-chem/qed-ci\",\n",
    "      \"branch\" : \"canonical-mo\",\n",
    "      \"commit\" : sha\n",
    "  },\n",
    "    \n",
    "  \"molecule\" : {\n",
    "    \"molecule_name\": \"CH2O\",\n",
    "    \"symbols\": [\n",
    "      \"O\",\n",
    "      \"C\", \n",
    "      \"H\",\n",
    "      \"H\",\n",
    "    ],\n",
    "    \"z-matrix\" : [],\n",
    "    \"bond_length\" : [],\n",
    "  },\n",
    "    \"driver\": \"energy\",\n",
    "    \"model\" : {\n",
    "        \"method\" : \"casci\",\n",
    "        \"orbital_basis\"  : options_dict[\"basis\"],\n",
    "        \"active_orbitals\" : 8,\n",
    "        \"active_electrons\" : 8,\n",
    "    },\n",
    "    \n",
    "    \"return_result\" : [\n",
    "        \n",
    "    ],\n",
    "    \"dipole_data\" : \"CH2O_ccPVDZ_CASCI_88_MU_Array.npy\"\n",
    "}\n",
    "\n",
    "\n",
    "# function to generate file names based on system details\n",
    "def generate_file_name(dic):\n",
    "    \n",
    "    file_name = dic[\"molecule\"][\"molecule_name\"] + \"_\"\n",
    "    file_name += \"CO_Stretch\" + \"_\"\n",
    "    file_name += str(dictionary[\"model\"][\"method\"]) + \"_\"\n",
    "    file_name += str(dictionary[\"model\"][\"orbital_basis\"]) + \"_\"\n",
    "    file_name += 'n_act_els_' + str(dictionary[\"model\"][\"active_electrons\"]) + \"_\"\n",
    "    file_name += 'n_act_orbs_' + str(dictionary[\"model\"][\"active_orbitals\"]) + \".json\"\n",
    "    return file_name"
   ]
  },
  {
   "cell_type": "code",
   "execution_count": null,
   "id": "494ea5c6",
   "metadata": {},
   "outputs": [],
   "source": [
    "# loop through bondlengths and update relevant dictionary entries\n",
    "idx = 0\n",
    "for r in r_array:\n",
    "    mol_str = mol_tmpl.replace(\"**R**\", str(r))\n",
    "    dictionary[\"molecule\"][\"z-matrix\"].append(mol_str)\n",
    "    dictionary[\"molecule\"][\"bond_length\"].append(r)\n",
    "    \n",
    "    # going to loop over all N_el states and capture all electronic energy eigenvalues\n",
    "    en = []\n",
    "    for i in range(N_el):\n",
    "        en.append(E[idx, i])\n",
    "    dictionary[\"return_result\"].append(en)\n",
    "    idx += 1\n",
    "    \n",
    "\n",
    "    "
   ]
  },
  {
   "cell_type": "code",
   "execution_count": null,
   "id": "c98e2425",
   "metadata": {},
   "outputs": [],
   "source": [
    "# write to json file\n",
    "file_name = generate_file_name(dictionary)\n",
    "json_object = json.dumps(dictionary, indent=4)\n",
    "with open(file_name, \"w\") as outfile:\n",
    "    outfile.write(json_object)"
   ]
  },
  {
   "cell_type": "code",
   "execution_count": null,
   "id": "28112843",
   "metadata": {},
   "outputs": [],
   "source": []
  }
 ],
 "metadata": {
  "kernelspec": {
   "display_name": "Python 3 (ipykernel)",
   "language": "python",
   "name": "python3"
  },
  "language_info": {
   "codemirror_mode": {
    "name": "ipython",
    "version": 3
   },
   "file_extension": ".py",
   "mimetype": "text/x-python",
   "name": "python",
   "nbconvert_exporter": "python",
   "pygments_lexer": "ipython3",
   "version": "3.9.17"
  }
 },
 "nbformat": 4,
 "nbformat_minor": 5
}
