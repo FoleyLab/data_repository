{
 "cells": [
  {
   "cell_type": "code",
   "execution_count": null,
   "id": "a3dc0c23-83d3-4b43-ab92-27036a0467f1",
   "metadata": {},
   "outputs": [],
   "source": [
    "import json\n",
    "import numpy as np\n"
   ]
  },
  {
   "cell_type": "code",
   "execution_count": null,
   "id": "6499dae0-4381-410e-94df-d608a5b315af",
   "metadata": {},
   "outputs": [],
   "source": [
    "# json file name\n",
    "cs_dir = \"/Users/jfoley19/Code/data_repository/Mapol/BH3/qed_cas/6-31g/coherent_state_basis/\"\n",
    "cs_dir = \"/Users/jfoley19/Code/data_repository/Mapol/BH3/qed_cas/6-31g/coherent_state_basis/\"\n",
    "cas_6_14_file = cs_dir + \"bh3_qed-cas_6-31g_coherent_state_basis_1_6_14_omega_0.4812826106029995.json\"\n",
    "cas_6_11_file = cs_dir + \"bh3_qed-cas_6-31g_coherent_state_basis_1_6_11_omega_0.48725549307999927.json\"\n",
    "cas_6_7_file = cs_dir + \"bh3_qed-cas_6-31g_coherent_state_basis_1_6_7_omega_0.5017350816120008.json\"\n",
    "cas_6_7_file2 = cs_dir + \"bh3_qed-cas_6-31g_coherent_state_basis_1_6_7_omega_0.4812826106029995.json\"\n",
    "\n",
    "\n",
    "cas_6_14_data = json.load(open(cas_6_14_file))\n",
    "cas_6_11_data = json.load(open(cas_6_11_file))\n",
    "cas_6_7_data = json.load(open(cas_6_7_file))\n",
    "cas_6_7_data2 = json.load(open(cas_6_7_file2))"
   ]
  },
  {
   "cell_type": "code",
   "execution_count": null,
   "id": "5513223e-b2f8-4a70-a882-1784e52160dc",
   "metadata": {},
   "outputs": [],
   "source": [
    "\n",
    "cas_6_14_energy = np.array(cas_6_14_data[\"return_result\"])\n",
    "cas_6_11_energy = np.array(cas_6_11_data[\"return_result\"])\n",
    "cas_6_7_energy = np.array(cas_6_7_data[\"return_result\"])\n",
    "cas_6_7_energy2 = np.array(cas_6_7_data2[\"return_result\"])\n",
    "\n",
    "omega_6_14 = cas_6_14_data[\"model\"][\"omega\"]\n",
    "omega_6_11 = cas_6_11_data[\"model\"][\"omega\"]\n",
    "omega_6_7 = cas_6_7_data[\"model\"][\"omega\"]\n",
    "\n",
    "l_data = np.array(cas_6_14_data[\"model\"][\"lambda\"])\n"
   ]
  },
  {
   "cell_type": "code",
   "execution_count": null,
   "id": "7e38ddee-0de6-4770-b5f9-c8e87a6c14fc",
   "metadata": {},
   "outputs": [],
   "source": [
    "lp_cas_6_14 = np.copy(cas_6_14_energy[:,10])\n",
    "lp_cas_6_14[8:] = np.copy(cas_6_14_energy[8:,9])\n",
    "up_cas_6_14 = np.copy(cas_6_14_energy[:,11])\n",
    "up_cas_6_14[3:] = np.copy(cas_6_14_energy[3:,14])\n",
    "up_cas_6_14[4:] = np.copy(cas_6_14_energy[4:,16])\n",
    "up_cas_6_14[7:] = np.copy(cas_6_14_energy[7:,17])"
   ]
  },
  {
   "cell_type": "code",
   "execution_count": null,
   "id": "ea2778b7-d2ef-4128-9412-0a97207387d6",
   "metadata": {},
   "outputs": [],
   "source": [
    "from matplotlib import pyplot as plt\n",
    "from matplotlib import cm\n",
    "from matplotlib import rcParams\n",
    "\n",
    "rcParams['font.family'] = 'serif'\n",
    "rcParams['font.size'] = 12\n",
    "\n",
    "plt.plot(l_data[:,1], cas_6_14_energy[:,0]+omega_6_14)\n",
    "plt.plot(l_data[:,1], lp_cas_6_14, 'r--')\n",
    "plt.plot(l_data[:,1], up_cas_6_14, 'r--')\n",
    "#plt.plot(l_data[:,1], cas_6_11_energy[:,0]+omega_6_11)\n",
    "#plt.plot(l_data[:,1], cas_6_11_energy[:,10])\n",
    "#plt.plot(l_data[:,1], cas_6_11_energy[:,11])\n",
    "#plt.plot(l_data[:,1], cas_6_7_energy[:,0]+omega_6_7)\n",
    "#plt.plot(l_data[:,1], cas_6_7_energy[:,10])\n",
    "#plt.plot(l_data[:,1], cas_6_7_energy[:,11])\n",
    "\n",
    "#plt.plot(l_data[:,1], cas_6_11_energy[:,0]+omega_6_11)\n",
    "#plt.plot(l_data[:,1], cas_6_7_energy[:,0]+omega_6_7)\n",
    "plt.show()\n"
   ]
  },
  {
   "cell_type": "code",
   "execution_count": null,
   "id": "0a153eb1-569d-40ea-8df8-67b59a15aaf8",
   "metadata": {},
   "outputs": [],
   "source": [
    "\n",
    "\n",
    "plt.plot(numph[:_N], np_mae[:_N], \"red\", linestyle=\"dashed\", marker=\"s\", ms=\"8\", mfc=\"none\", label=\"Minimal Photon Number Basis\")\n",
    "plt.plot(numph[:_N], cs_mae[:_N], \"blue\", linestyle=\"dashed\", marker=\"s\", ms=\"8\", mfc=\"none\", label=\"Mininal Coherent State Basis\")\n",
    "plt.plot(numph[:_N], np_mae10[:_N], \"red\",  marker=\"o\", ms=\"8\",  label=\"Converged Photon Number Basis\")\n",
    "plt.plot(numph[:_N], cs_mae10[:_N], \"blue\",  marker=\"o\", ms=\"8\",  label=\"Converged Coherent State Basis\")\n",
    "plt.yscale(\"log\")\n",
    "plt.xlabel(\"Number of active orbitals\")\n",
    "plt.ylabel(\"NPE (Hartrees)\")\n",
    "plt.ylim(5e-4, 1e-2)\n",
    "plt.legend()\n",
    "plt.tight_layout()\n",
    "plt.savefig(\"LiH_npe_vs_nact.png\", dpi=150)\n",
    "plt.show()\n"
   ]
  },
  {
   "cell_type": "code",
   "execution_count": null,
   "id": "ff49297a-b063-43b1-9c52-e945d6e0695e",
   "metadata": {},
   "outputs": [],
   "source": []
  }
 ],
 "metadata": {
  "kernelspec": {
   "display_name": "Python 3 (ipykernel)",
   "language": "python",
   "name": "python3"
  },
  "language_info": {
   "codemirror_mode": {
    "name": "ipython",
    "version": 3
   },
   "file_extension": ".py",
   "mimetype": "text/x-python",
   "name": "python",
   "nbconvert_exporter": "python",
   "pygments_lexer": "ipython3",
   "version": "3.9.7"
  }
 },
 "nbformat": 4,
 "nbformat_minor": 5
}
