{
 "cells": [
  {
   "cell_type": "code",
   "execution_count": null,
   "id": "a4d953fd",
   "metadata": {},
   "outputs": [],
   "source": [
    "import numpy as np\n",
    "from matplotlib import pyplot as plt\n",
    "import json"
   ]
  },
  {
   "cell_type": "code",
   "execution_count": null,
   "id": "cddb509e",
   "metadata": {},
   "outputs": [],
   "source": [
    "# json file name\n",
    "filename = \"CH2O_CO_Stretch_casci_cc-pVDZ_n_act_els_8_n_act_orbs_8.json\""
   ]
  },
  {
   "cell_type": "code",
   "execution_count": null,
   "id": "606206c9",
   "metadata": {},
   "outputs": [],
   "source": [
    "# load json file into a dictionary called data\n",
    "f = open(filename)\n",
    "data = json.load(f)"
   ]
  },
  {
   "cell_type": "code",
   "execution_count": null,
   "id": "365fbfec",
   "metadata": {},
   "outputs": [],
   "source": [
    "# get the bondlength data\n",
    "r_data = np.array(data[\"molecule\"][\"bond_length\"])\n",
    "# get the energy data vs bondlength \n",
    "E_data = np.array(data[\"return_result\"])\n",
    "# get the filename where the dipole data is stored\n",
    "Mu_file = data[\"dipole_data\"]\n",
    "# load dipole data\n",
    "Mu_data = np.load(Mu_file)"
   ]
  },
  {
   "cell_type": "code",
   "execution_count": null,
   "id": "e3611d57",
   "metadata": {},
   "outputs": [],
   "source": [
    "# get the minimum value of the ground-state energy along the CO stretch coordinate\n",
    "E_min = np.min(E_data[:,0])\n"
   ]
  },
  {
   "cell_type": "code",
   "execution_count": null,
   "id": "8d92f0fa",
   "metadata": {},
   "outputs": [],
   "source": [
    "# plot some excited-state surfaces\n",
    "#plt.plot(r_data, E_data[:,0], label=\"E1\")\n",
    "#plt.plot(r_data, E_data[:,1], label=\"E2\")\n",
    "#plt.plot(r_data, E_data[:,2], label=\"E3\")\n",
    "plt.plot(r_data, (E_data[:,3]-E_min)*27.211, label=\"E4\")\n",
    "plt.plot(r_data, (E_data[:,4]-E_min)*27.211, label=\"E5\")\n",
    "plt.plot(r_data, (E_data[:,5]-E_min)*27.211, label=\"E6\")\n",
    "plt.plot(r_data, (E_data[:,6]-E_min)*27.211, label=\"E7\")\n",
    "plt.plot(r_data, (E_data[:,7]-E_min)*27.211, label=\"E8\")\n",
    "plt.plot(r_data, (E_data[:,8]-E_min)*27.211, label=\"E9\")\n",
    "plt.plot(r_data, (E_data[:,9]-E_min)*27.211, label=\"E10\")\n",
    "plt.plot(r_data, (E_data[:,10]-E_min)*27.211, label=\"E11\")\n",
    "plt.plot(r_data, (E_data[:,11]-E_min)*27.211, label=\"E12\")\n",
    "plt.ylabel(\"Energy relative to $E_{min}$ (eV)\")\n",
    "plt.xlabel(\"CO Bondlength (Angstroms)\")\n",
    "plt.legend()\n",
    "plt.show()"
   ]
  },
  {
   "cell_type": "code",
   "execution_count": null,
   "id": "eb1775dd",
   "metadata": {},
   "outputs": [],
   "source": [
    "# plot the absolute value of the z-component of mu_1j \n",
    "# this gives us some hint about how to continue surfaces\n",
    "plt.plot(r_data, np.abs(Mu_data[:,0,1,2]), label=\"mu12\")\n",
    "plt.plot(r_data, np.abs(Mu_data[:,0,2,2]), label=\"mu13\")\n",
    "plt.plot(r_data, np.abs(Mu_data[:,0,3,2]), label=\"mu14\")\n",
    "plt.plot(r_data, np.abs(Mu_data[:,0,4,2]), label=\"mu15\")\n",
    "plt.plot(r_data, np.abs(Mu_data[:,0,5,2]), label=\"mu16\")\n",
    "plt.plot(r_data, np.abs(Mu_data[:,0,6,2]), label=\"mu17\")\n",
    "plt.legend()\n",
    "plt.show()"
   ]
  }
 ],
 "metadata": {
  "kernelspec": {
   "display_name": "Python 3 (ipykernel)",
   "language": "python",
   "name": "python3"
  },
  "language_info": {
   "codemirror_mode": {
    "name": "ipython",
    "version": 3
   },
   "file_extension": ".py",
   "mimetype": "text/x-python",
   "name": "python",
   "nbconvert_exporter": "python",
   "pygments_lexer": "ipython3",
   "version": "3.9.17"
  }
 },
 "nbformat": 4,
 "nbformat_minor": 5
}
