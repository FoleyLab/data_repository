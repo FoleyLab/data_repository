{
 "cells": [
  {
   "cell_type": "code",
   "execution_count": null,
   "id": "bcfb1aaa-7c63-4ffc-b87b-74908d36dece",
   "metadata": {},
   "outputs": [],
   "source": [
    "import numpy as np\n",
    "from matplotlib import pyplot as plt\n",
    "import json\n",
    "\n",
    "from matplotlib import cm\n",
    "from matplotlib import rcParams\n",
    "\n",
    "rcParams['font.family'] = 'serif'\n",
    "rcParams['font.size'] = 12\n",
    "\n",
    "path = \"/Users/jfoley19/Code/data_repository/Mapol/LiH/qed_fci/bond_stretch_50_points/6311g/number_basis/\""
   ]
  },
  {
   "cell_type": "code",
   "execution_count": null,
   "id": "1f79a32f-aeae-423a-9efc-b561d75994ee",
   "metadata": {},
   "outputs": [],
   "source": [
    "file_lih_small_g_w_dse = path + \"LiH_qed-fci_6-311g_photon_number_basis_w_dse_10_lambda_0.0_0.0_0.01_omega_0.12086.json\"\n",
    "file_lih_small_g_wout_dse = path + \"LiH_qed-fci_6-311g_photon_number_basis_no_dse_10_lambda_0.0_0.0_0.01_omega_0.12086.json\"\n",
    "file_lih_large_g_w_dse = path + \"LiH_qed-fci_6-311g_photon_number_basis_w_dse_10_lambda_0.0_0.0_0.05_omega_0.12086.json\"\n",
    "file_lih_large_g_wout_dse = path + \"LiH_qed-fci_6-311g_photon_number_basis_no_dse_10_lambda_0.0_0.0_0.05_omega_0.12086.json\"\n",
    "\n",
    "\n",
    "\n",
    "data_lih_small_g_w_dse = json.load(open(file_lih_small_g_w_dse))\n",
    "data_lih_small_g_wout_dse = json.load(open(file_lih_small_g_wout_dse))\n",
    "data_lih_large_g_w_dse = json.load(open(file_lih_large_g_w_dse))\n",
    "data_lih_large_g_wout_dse = json.load(open(file_lih_large_g_wout_dse))\n"
   ]
  },
  {
   "cell_type": "code",
   "execution_count": null,
   "id": "0c928cec-4a57-4ffc-bc59-7b98e87098fa",
   "metadata": {},
   "outputs": [],
   "source": [
    "r_array = np.array(data_lih_small_g_w_dse['molecule']['bond_length'])\n",
    "\n",
    "energy_lih_small_g_w_dse = np.array(data_lih_small_g_w_dse['return_result'])\n",
    "energy_lih_small_g_wout_dse = np.array(data_lih_small_g_wout_dse['return_result'])\n",
    "energy_lih_large_g_w_dse = np.array(data_lih_large_g_w_dse['return_result'])\n",
    "energy_lih_large_g_wout_dse = np.array(data_lih_large_g_wout_dse['return_result'])\n"
   ]
  },
  {
   "cell_type": "code",
   "execution_count": null,
   "id": "a4b1ff7f-eae6-469f-b5ed-62220e1cedfd",
   "metadata": {},
   "outputs": [],
   "source": [
    "plt.plot(r_array, energy_lih_small_g_w_dse[:,0],  \"blue\", marker=\"s\", ms=\"5\", mfc=\"none\", label='PN-QEDFCI-10')\n",
    "plt.plot(r_array, energy_lih_small_g_wout_dse[:,0], \"red\", marker=\"s\", ms=\"5\", mfc=\"none\", label='PN-QEDFCI-10, No DSE')\n",
    "plt.legend()\n",
    "plt.xlabel(\"Bondlength (Angstroms)\")\n",
    "plt.ylabel(\"Energy (Hartrees)\")\n",
    "plt.xlim(1.4, 2.2)\n",
    "plt.legend()\n",
    "plt.tight_layout()\n",
    "# when ready to save, change \"filename.png\" to something descriptive\n",
    "#plt.savefig(\"filename.png\", dpi=150)\n",
    "plt.show()\n",
    "\n"
   ]
  },
  {
   "cell_type": "code",
   "execution_count": null,
   "id": "2340c6a7-db52-47ad-91f3-03cb1e00a910",
   "metadata": {},
   "outputs": [],
   "source": [
    "plt.plot(r_array, energy_lih_large_g_w_dse[:,0],  \"blue\", marker=\"s\", ms=\"5\", mfc=\"none\", label='PN-QEDFCI-10')\n",
    "plt.plot(r_array, energy_lih_large_g_wout_dse[:,0], \"red\", marker=\"s\", ms=\"5\", mfc=\"none\", label='PN-QEDFCI-10, No DSE')\n",
    "plt.legend()\n",
    "plt.xlabel(\"Bondlength (Angstroms)\")\n",
    "plt.ylabel(\"Energy (Hartrees)\")\n",
    "plt.xlim(1.4, 2.2)\n",
    "plt.legend()\n",
    "plt.tight_layout()\n",
    "# when ready to save, change \"filename.png\" to something descriptive\n",
    "#plt.savefig(\"filename.png\", dpi=150)\n",
    "plt.show()"
   ]
  },
  {
   "cell_type": "code",
   "execution_count": null,
   "id": "1740132b-eb75-4cac-b51a-2ef364a4ae75",
   "metadata": {},
   "outputs": [],
   "source": []
  }
 ],
 "metadata": {
  "kernelspec": {
   "display_name": "Python 3 (ipykernel)",
   "language": "python",
   "name": "python3"
  },
  "language_info": {
   "codemirror_mode": {
    "name": "ipython",
    "version": 3
   },
   "file_extension": ".py",
   "mimetype": "text/x-python",
   "name": "python",
   "nbconvert_exporter": "python",
   "pygments_lexer": "ipython3",
   "version": "3.11.5"
  }
 },
 "nbformat": 4,
 "nbformat_minor": 5
}
