{
 "cells": [
  {
   "cell_type": "code",
   "execution_count": null,
   "id": "7cfb92d1",
   "metadata": {},
   "outputs": [],
   "source": [
    "from __future__ import print_function\n",
    "\n",
    "\"\"\"\n",
    "A script to run cqed_rhf method on the formaldehyde molecule in a cc-pVDZ basis set\n",
    "and plot the HOMO and LUMO+1 orbitals under strong and no-coupling to a photon\n",
    "polarized along the $y-z$ axis, as shown in Figure 1 of McTague and Foley.\n",
    "\"\"\"\n",
    "\n",
    "__authors__   = [\"Jon McTague\", \"Jonathan Foley\"]\n",
    "__credits__   = [\"Jon McTague\", \"Jonathan Foley\"]\n",
    "\n",
    "__copyright_amp__ = \"(c) 2014-2018, The Psi4NumPy Developers\"\n",
    "__license__   = \"BSD-3-Clause\"\n",
    "__date__      = \"2021-01-15\"\n",
    "\n",
    "# ==> Import Psi4, NumPy, & SciPy <==\n",
    "import psi4\n",
    "import numpy as np\n",
    "from helper_cqed_rhf import *\n",
    "from matplotlib import pyplot as plt\n",
    "import fortecubeview\n",
    "\n",
    "# Set Psi4 & NumPy Memory Options\n",
    "psi4.set_memory('2 GB')\n",
    "#psi4.core.set_output_file('output.dat', False)\n",
    "\n",
    "numpy_memory = 2\n"
   ]
  },
  {
   "cell_type": "code",
   "execution_count": null,
   "id": "db398eee",
   "metadata": {},
   "outputs": [],
   "source": [
    "molstr = \"\"\"\n",
    "0 1\n",
    "C      0.000004551444  -0.711108766560   0.000010757138\n",
    "C      -0.000004765464   0.711109074728   0.000001509641\n",
    "C      1.231111212344  -1.392932324772  -0.000008872321\n",
    "C      1.231092818353   1.392949010021  -0.000005886632\n",
    "C      -1.231092617348  -1.392949084219   0.000002684292\n",
    "C      -1.231111293835   1.392932340511   0.000007560162\n",
    "C      2.416252154882  -0.702767074233  -0.000017781801\n",
    "C      2.416242565430   0.702799552187  -0.000000723902\n",
    "C      -2.416242703804  -0.702799153654   0.000010510747\n",
    "C      -2.416251802225   0.702766484279   0.000002457080\n",
    "H      1.229116150588  -2.471858679894  -0.000015215757\n",
    "H      1.229083140542   2.471874840369  -0.000007074480\n",
    "H      -1.229084430358  -2.471875468868  -0.000008700875\n",
    "H      -1.229118355038   2.471858460776   0.000007352885\n",
    "H      3.350158261997  -1.238508894745  -0.000013806252\n",
    "H      3.350141246250   1.238554060765   0.000000769827\n",
    "H      -3.350140729721  -1.238555163085   0.000018452996\n",
    "H      -3.350156710411   1.238510150658  -0.000008144872\n",
    "symmetry c1\n",
    "\"\"\"\n",
    "options_dict = {'basis': 'cc-pVDZ',\n",
    "         'scf_type': 'pk',\n",
    "         'e_convergence': 1e-11,\n",
    "         'd_convergence': 1e-11\n",
    "         }\n",
    "\n",
    "psi4.set_options(options_dict)\n",
    "\n",
    "mol = psi4.geometry(molstr)\n",
    "energy, wfn = psi4.energy(\"scf/cc-pVDZ\", molecule=mol, return_wfn=True)\n",
    "#psi4.set_options({\n",
    "#    'CUBEPROP_TASKS': ['ORBITALS'], \n",
    "#    'CUBEPROP_ORBITALS': [29,30,31,32,33,34,35,36,37,38,39,40]\n",
    "#})\n"
   ]
  },
  {
   "cell_type": "code",
   "execution_count": null,
   "id": "47550b04",
   "metadata": {},
   "outputs": [],
   "source": [
    "cube = psi4.cubeprop(wfn)\n",
    "fortecubeview.plot(width=500,height=800,colorscheme='emory', sumlevel=0.6)"
   ]
  },
  {
   "cell_type": "code",
   "execution_count": null,
   "id": "e6996994-cffd-47b6-bb24-8bfc1c35d8c6",
   "metadata": {},
   "outputs": [],
   "source": [
    "lam = np.array([0, 0.02, 0.0])\n",
    "# run our CQED-RHF calculation and store the results in a dictionary called 'yz_dict'\n",
    "dict = cqed_rhf(lam, molstr, options_dict)\n",
    "\n",
    "# get the CQED-RHF orbitals from yz_dict\n",
    "C = dict['CQED-RHF C']\n",
    "\n",
    "# get the psi4 wavefunction as a dictionary\n",
    "rhf_wfn_dict = psi4.core.Wavefunction.to_file(wfn)\n",
    "\n",
    "# swap out orbitals in the dictionary with our orbitals from CQED-RHF\n",
    "rhf_wfn_dict['matrix']['Ca'] = C\n",
    "rhf_wfn_dict['matrix']['Cb'] = C\n",
    "\n",
    "# Now create a new wavefunction object that has the CQED-RHF orbitals 'cqedrhf_wfn'\n",
    "cqedrhf_wfn = psi4.core.Wavefunction.from_file(rhf_wfn_dict) "
   ]
  },
  {
   "cell_type": "code",
   "execution_count": null,
   "id": "0c0c263e-8770-41df-8362-0110363e9b48",
   "metadata": {},
   "outputs": [],
   "source": [
    "psi4.set_options({\n",
    "    'CUBEPROP_TASKS': ['ORBITALS'], \n",
    "    'CUBEPROP_ORBITALS': [29,30,31,32,33,34,35,36,37,38,39,40]\n",
    "})\n",
    "cube = psi4.cubeprop(cqedrhf_wfn)\n",
    "fortecubeview.plot(width=500,height=800,colorscheme='emory')"
   ]
  },
  {
   "cell_type": "code",
   "execution_count": null,
   "id": "9cf782a1-888f-4b98-bdb2-d8cde3980927",
   "metadata": {},
   "outputs": [],
   "source": []
  }
 ],
 "metadata": {
  "kernelspec": {
   "display_name": "Python 3 (ipykernel)",
   "language": "python",
   "name": "python3"
  },
  "language_info": {
   "codemirror_mode": {
    "name": "ipython",
    "version": 3
   },
   "file_extension": ".py",
   "mimetype": "text/x-python",
   "name": "python",
   "nbconvert_exporter": "python",
   "pygments_lexer": "ipython3",
   "version": "3.9.7"
  }
 },
 "nbformat": 4,
 "nbformat_minor": 5
}
