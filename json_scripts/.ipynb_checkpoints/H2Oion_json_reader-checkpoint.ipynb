{
 "cells": [
  {
   "cell_type": "code",
   "execution_count": null,
   "id": "8b41f21a-d8df-4060-b810-5b0a9434a15d",
   "metadata": {},
   "outputs": [],
   "source": [
    "import numpy as np\n",
    "from matplotlib import pyplot as plt\n",
    "import json\n",
    "import psi4\n",
    "\n",
    "print(4.5/27.2114)"
   ]
  },
  {
   "cell_type": "code",
   "execution_count": null,
   "id": "da8899c0-48db-4283-a882-68df068e8bd8",
   "metadata": {},
   "outputs": [],
   "source": [
    "cas_dir = \"/Users/jfoley19/Code/data_repository/Mapol/MgHplus/casci/\"\n",
    "\n",
    "ref_file = cas_dir + \"MgH_qed-cas_cc-pVTZ_photon_number_basis_0_12_10_lambda_0.0_0.0_0.0_omega_0.json\"\n",
    "\n",
    "\n",
    "rdata = json.load(open(ref_file))\n",
    "\n",
    "cas_energy = np.array(rdata[\"return_result\"])\n",
    "r_data = np.array(rdata[\"molecule\"][\"bond_length\"])\n"
   ]
  },
  {
   "cell_type": "code",
   "execution_count": null,
   "id": "cb5d1441-6045-4177-b125-0c0088807cf8",
   "metadata": {},
   "outputs": [],
   "source": [
    "cs_dir = \"/Users/jfoley19/Code/data_repository/Mapol/MgHplus/qed-casci/coherent_state_basis/\"\n",
    "pn_dir = \"/Users/jfoley19/Code/data_repository/Mapol/MgHplus/qed-casci/number_state_basis/\"\n",
    "\n",
    "# photon number basis file names\n",
    "pn_1_file = pn_dir + \"MgH_qed-cas_cc-pVTZ_photon_number_basis_1_12_10_lambda_0.0_0.0_0.05_omega_0.16537186620313543.json\"\n",
    "pn_10_file = pn_dir + \"MgH_qed-cas_cc-pVTZ_photon_number_basis_10_12_10_lambda_0.0_0.0_0.05_omega_0.16537186620313543.json\"\n",
    "pn_20_file = pn_dir + \"MgH_qed-cas_cc-pVTZ_photon_number_basis_20_12_10_lambda_0.0_0.0_0.05_omega_0.16537186620313543.json\"\n",
    "\n",
    "# coherent state basis file names\n",
    "cs_1_file = cs_dir + \"MgH_qed-cas_cc-pVTZ_coherent_state_basis_1_12_10_lambda_0.0_0.0_0.05_omega_0.16537186620313543.json\"\n",
    "cs_10_file = cs_dir + \"MgH_qed-cas_cc-pVTZ_coherent_state_basis_10_12_10_lambda_0.0_0.0_0.05_omega_0.16537186620313543.json\"\n",
    "\n",
    "# photon number basis data\n",
    "pn1_data = json.load(open(pn_1_file))\n",
    "pn10_data = json.load(open(pn_10_file))\n",
    "pn20_data = json.load(open(pn_20_file))\n",
    "\n",
    "# photon number basis eigenvalues\n",
    "pn1_eig = np.array(pn1_data[\"return_result\"])\n",
    "pn10_eig = np.array(pn10_data[\"return_result\"])\n",
    "pn20_eig = np.array(pn20_data[\"return_result\"])\n",
    "\n",
    "# coherent state basis data\n",
    "cs1_data = json.load(open(cs_1_file))\n",
    "cs10_data = json.load(open(cs_10_file))\n",
    "\n",
    "# coherent state basis eigenvalues\n",
    "cs1_eig = np.array(cs1_data[\"return_result\"])\n",
    "cs10_eig = np.array(cs10_data[\"return_result\"])"
   ]
  },
  {
   "cell_type": "code",
   "execution_count": null,
   "id": "6fb81317-f878-4066-86f0-3b040ed0b407",
   "metadata": {},
   "outputs": [],
   "source": [
    "E_min = np.min(cas_energy[:,0])\n"
   ]
  },
  {
   "cell_type": "code",
   "execution_count": null,
   "id": "01674caf-ed01-4d14-8df6-81a11402bd58",
   "metadata": {},
   "outputs": [],
   "source": [
    "plt.plot(r_data, (cas_energy[:,0]-E_min)*27.2114+4.5, 'black', linestyle=\"dashed\")\n",
    "plt.plot(r_data, (cas_energy[:,2]-E_min)*27.2114, 'black', linestyle=\"dashed\")\n",
    "plt.plot(r_data, (cs10_eig[:,1]-E_min)*27.2114, \"blue\")\n",
    "plt.plot(r_data, (cs10_eig[:,2]-E_min)*27.2114, \"blue\")\n",
    "plt.plot(r_data, (cs10_eig[:,3]-E_min)*27.2114, \"blue\")\n",
    "plt.plot(r_data, (cs10_eig[:,4]-E_min)*27.2114, \"blue\")\n",
    "plt.plot(r_data, (pn10_eig[:,1]-E_min)*27.2114, \"red\")\n",
    "plt.plot(r_data, (pn10_eig[:,2]-E_min)*27.2114, \"red\")\n",
    "plt.plot(r_data, (pn10_eig[:,3]-E_min)*27.2114, \"red\")\n",
    "plt.plot(r_data, (pn10_eig[:,4]-E_min)*27.2114, \"red\")\n"
   ]
  },
  {
   "cell_type": "code",
   "execution_count": null,
   "id": "f108c1d7-dbda-41e5-ae4c-475bc8bd6e51",
   "metadata": {},
   "outputs": [],
   "source": [
    "plt.plot(r_data, cas_energy[:,0], 'black', label=\"CAS(12,10) Energy\")\n",
    "plt.plot(r_data, cs10_eig[:,0], 'red', label=\"Coherent State Basis, Np = 10\")\n",
    "plt.plot(r_data, pn10_eig[:,0], 'blue', label=\"Photon Number Basis, Np = 10\")\n",
    "plt.ylabel(\"Energy (Hartrees)\")\n",
    "plt.xlabel(\"Mg-H Bondlength (Angstroms)\")\n",
    "plt.legend()\n",
    "\n"
   ]
  },
  {
   "cell_type": "code",
   "execution_count": null,
   "id": "9122ae11-edce-49dc-a30c-a13b0b1afe90",
   "metadata": {},
   "outputs": [],
   "source": [
    "plt.plot(r_data, cas_energy[:,0], 'black', linestyle=\"dashed\")\n",
    "plt.plot(r_data, pn1_eig[:,0], 'r*', linestyle=\"dashed\")\n",
    "plt.plot(r_data, pn10_eig[:,0], 'b*', linestyle=\"dashed\")"
   ]
  },
  {
   "cell_type": "code",
   "execution_count": null,
   "id": "6c19ca2c-440f-4517-a514-77884539777b",
   "metadata": {},
   "outputs": [],
   "source": []
  },
  {
   "cell_type": "code",
   "execution_count": null,
   "id": "364089f9-db4a-458a-a43a-9ac0f7c3129b",
   "metadata": {},
   "outputs": [],
   "source": []
  },
  {
   "cell_type": "code",
   "execution_count": null,
   "id": "898db070-a451-40d4-a9e6-fd4501272acb",
   "metadata": {},
   "outputs": [],
   "source": []
  }
 ],
 "metadata": {
  "kernelspec": {
   "display_name": "Python 3 (ipykernel)",
   "language": "python",
   "name": "python3"
  },
  "language_info": {
   "codemirror_mode": {
    "name": "ipython",
    "version": 3
   },
   "file_extension": ".py",
   "mimetype": "text/x-python",
   "name": "python",
   "nbconvert_exporter": "python",
   "pygments_lexer": "ipython3",
   "version": "3.9.13"
  }
 },
 "nbformat": 4,
 "nbformat_minor": 5
}
