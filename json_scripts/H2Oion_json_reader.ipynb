{
 "cells": [
  {
   "cell_type": "code",
   "execution_count": null,
   "id": "8b41f21a-d8df-4060-b810-5b0a9434a15d",
   "metadata": {},
   "outputs": [],
   "source": [
    "import numpy as np\n",
    "from matplotlib import pyplot as plt\n",
    "import json\n",
    "import psi4\n",
    "from matplotlib import cm\n",
    "from matplotlib import rcParams\n",
    "\n",
    "rcParams['font.family'] = 'serif'\n",
    "rcParams['font.size'] = 12\n",
    "\n"
   ]
  },
  {
   "cell_type": "code",
   "execution_count": null,
   "id": "da8899c0-48db-4283-a882-68df068e8bd8",
   "metadata": {},
   "outputs": [],
   "source": [
    "h2o_dir = \"/Users/jfoley19/Code/data_repository/Mapol/H2O_ions/\"\n",
    "\n",
    "cs_1_file = h2o_dir + \"H2O+_qed-fci_6-31G_coherent_state_basis_1_8_13_lambda_0.0_0.0_0.01_omega_0.36749303600696764.json\"\n",
    "pn_1_file = h2o_dir + \"H2O+_qed-fci_6-31G_photon_number_basis_1_8_13_lambda_0.0_0.0_0.01_omega_0.36749303600696764.json\"\n",
    "pn_2_file = h2o_dir + \"H2O+_qed-fci_6-31G_photon_number_basis_2_8_13_lambda_0.0_0.0_0.01_omega_0.36749303600696764.json\"\n",
    "\n",
    "pn_1_data = json.load(open(pn_1_file))\n",
    "pn_2_data = json.load(open(pn_2_file))\n",
    "cs_1_data = json.load(open(cs_1_file))\n",
    "\n",
    "pn_1_energy = np.array(pn_1_data[\"return_result\"])\n",
    "pn_2_energy = np.array(pn_2_data[\"return_result\"])\n",
    "cs_1_energy = np.array(cs_1_data[\"return_result\"])\n",
    "\n",
    "r_data = np.array(pn_1_data[\"molecule\"][\"bond_length\"])\n"
   ]
  },
  {
   "cell_type": "code",
   "execution_count": null,
   "id": "f108c1d7-dbda-41e5-ae4c-475bc8bd6e51",
   "metadata": {},
   "outputs": [],
   "source": [
    "plt.plot(r_data, cs_1_energy[:,1], 'black', marker=\"s\", ms=\"8\", label=\"Coherent State, Np = 1\")\n",
    "plt.plot(r_data, pn_1_energy[:,1], 'red', marker=\"s\", ms=\"8\", mfc=\"none\", label=\"Photon Number, Np = 1\")\n",
    "plt.plot(r_data, pn_2_energy[:,1], 'orange', marker=\"s\", ms=\"8\", mfc=\"none\", label=\"Photon Number, Np = 2\")\n",
    "plt.ylabel(\"Energy (Hartrees)\")\n",
    "plt.xlabel(\"Displacement from Origin (Angstroms))\")\n",
    "plt.xticks([0, 4, 8, 12, 16, 20])\n",
    "plt.legend()\n",
    "\n"
   ]
  },
  {
   "cell_type": "code",
   "execution_count": null,
   "id": "898db070-a451-40d4-a9e6-fd4501272acb",
   "metadata": {},
   "outputs": [],
   "source": [
    "mol_str = \"\"\"\n",
    "O            0.000000000000     0.000000000000    -0.068516219320\n",
    "H            0.000000000000    -0.790689573744     0.543701060715     \n",
    "H            0.000000000000     0.790689573744     0.543701060715\n",
    "2 1\n",
    "symmetry c1\n",
    "\"\"\"\n",
    "\n",
    "options_dict = {\n",
    "    \"basis\": \"6-31g\",\n",
    "    \"scf_type\": \"pk\",\n",
    "    \"e_convergence\": 1e-10,\n",
    "    \"d_convergence\": 1e-10,\n",
    "    'num_roots' : 5,\n",
    "    'tdm':'true',\n",
    "}\n",
    "\n",
    "mol = psi4.geometry(mol_str)\n",
    "psi4.set_options(options_dict)\n",
    "scf_e, wfn = psi4.energy('SCF', return_wfn=True)\n",
    "fci_energy, wfn = psi4.energy('fci',ref_wfn=wfn, return_wfn=True)"
   ]
  },
  {
   "cell_type": "code",
   "execution_count": null,
   "id": "97706209-40a2-4ac9-ac5b-bd30a6d84544",
   "metadata": {},
   "outputs": [],
   "source": [
    "print((-74.610508684405--74.657188440701)*27.211)"
   ]
  },
  {
   "cell_type": "code",
   "execution_count": null,
   "id": "a48e5888-50f2-48b7-b110-e0a5a2d1b374",
   "metadata": {},
   "outputs": [],
   "source": [
    "d_array = np.linspace(0, 20, 2)\n",
    "print(d_array)"
   ]
  },
  {
   "cell_type": "code",
   "execution_count": null,
   "id": "749f27b6-8f5e-47f8-b496-db60f0cd9db6",
   "metadata": {},
   "outputs": [],
   "source": []
  }
 ],
 "metadata": {
  "kernelspec": {
   "display_name": "Python 3 (ipykernel)",
   "language": "python",
   "name": "python3"
  },
  "language_info": {
   "codemirror_mode": {
    "name": "ipython",
    "version": 3
   },
   "file_extension": ".py",
   "mimetype": "text/x-python",
   "name": "python",
   "nbconvert_exporter": "python",
   "pygments_lexer": "ipython3",
   "version": "3.9.18"
  }
 },
 "nbformat": 4,
 "nbformat_minor": 5
}
