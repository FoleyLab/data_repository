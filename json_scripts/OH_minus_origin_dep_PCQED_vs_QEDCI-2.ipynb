{
 "cells": [
  {
   "cell_type": "code",
   "execution_count": 6,
   "id": "c9e13760-0ccb-4afb-a829-09c9ce444111",
   "metadata": {},
   "outputs": [
    {
     "name": "stdout",
     "output_type": "stream",
     "text": [
      " There are 6 PF-CI files and 6 CS-FCI files\n",
      "/Users/jfoley19/Code/data_repository/Mapol/OHminus/pcqed_data/OH-_6-31G_PCQED_0.05_0.21927747.json\n",
      "/Users/jfoley19/Code/data_repository/Mapol/OHminus/pcqed_data/OH-_6-31G_CS_PCQED_0.05_0.21927747.json\n"
     ]
    }
   ],
   "source": [
    "import os\n",
    "import glob\n",
    "import json\n",
    "import numpy as np\n",
    "from matplotlib import pyplot as plt\n",
    "from matplotlib import cm\n",
    "from matplotlib import rcParams\n",
    "rcParams['font.family'] = 'serif'\n",
    "rcParams['font.size'] = 12\n",
    "\n",
    "# get location of pf-ci json files\n",
    "#pfci_file_location = os.path.join('/Users/rmandern/code/data_repository/Mapol/OHminus', 'qed-fci', '*.json')\n",
    "#pcqed_file_location = os.path.join('/Users/rmandern/code/data_repository/Mapol/OHminus', 'pcqed_data', '*.json')\n",
    "csfci_file_location = os.path.join('/Users/jfoley19/Code/data_repository/Mapol/OHminus/qed-fci', 'coherent_state', '*.json')\n",
    "pfci_file_location = os.path.join('/Users/jfoley19/Code/data_repository/Mapol/OHminus', 'qed-fci', '*.json')\n",
    "pcqed_file_location = os.path.join('/Users/jfoley19/Code/data_repository/Mapol/OHminus', 'pcqed_data', '*.json')\n",
    "\n",
    "# get pf-ci file names\n",
    "csfci_filenames = glob.glob(csfci_file_location)\n",
    "pfci_filenames = glob.glob(pfci_file_location)\n",
    "pcqed_filenames = glob.glob(pcqed_file_location)\n",
    "\n",
    "# get number of the pf-ci json files\n",
    "n_files = len(pfci_filenames)\n",
    "\n",
    "# get number of cs-fci json files\n",
    "n_files_cs = len(csfci_filenames)\n",
    "\n",
    "print(F' There are {n_files} PF-CI files and {n_files_cs} CS-FCI files')\n",
    "\n",
    "# pcqed files\n",
    "n_files_2 = len(pcqed_filenames)\n",
    "\n",
    "#print(pcqed_filenames[0])\n",
    "#print(pcqed_filenames[1])\n",
    "#print(pcqed_filenames[2])\n",
    "#print(pcqed_filenames[3])\n",
    "#print(pcqed_filenames[4])\n",
    "#print(pcqed_filenames[5])\n",
    "pcqed_pn_file = pcqed_filenames[5]\n",
    "pcqed_cs_file = pcqed_filenames[1]\n",
    "\n",
    "print(pcqed_pn_file)\n",
    "print(pcqed_cs_file)\n",
    "\n",
    "pcqed_pn_data = json.load(open(pcqed_pn_file))\n",
    "pcqed_cs_data = json.load(open(pcqed_cs_file))"
   ]
  },
  {
   "cell_type": "markdown",
   "id": "70946d18-852d-42f1-85b7-bb9e574ef955",
   "metadata": {},
   "source": [
    "The block below grabs data from the raw PCQED json files and computes the ground state energies\n",
    "and errors for the displaced and non-displaced results for the desired sizes of the photonic Fock space\n",
    "(2, 3, 5, 9, 17, 33).\n",
    "It can be skipped because this data is now stored in the following files:\n",
    "\n",
    "`~/data_repository/Mapol/OHminus/pcqed_data/OH-_6-31G_PCQED_0.05_0.21927747.json`\n",
    "`~/data_repository/Mapol/OHminus/pcqed_data/OH-_6-31G_CS_PCQED_0.05_0.21927747.json`\n"
   ]
  },
  {
   "cell_type": "code",
   "execution_count": null,
   "id": "03c122c2-d4c5-4d04-95e1-9b7c0310c0d9",
   "metadata": {},
   "outputs": [],
   "source": [
    "file_cs_20 = \"/Users/jfoley19/Code/data_repository/Mapol/OHminus/pcqed_data/OH-_6-31G_PCQED_Origin_Dependence_CS_20_ang_0.21927747-2.json\"\n",
    "file_cs_0 = \"/Users/jfoley19/Code/data_repository/Mapol/OHminus/pcqed_data/OH-_6-31G_PCQED_Origin_Dependence_CS_0_ang_0.21927747-2.json\"\n",
    "\n",
    "data_cs_20 = json.load(open(file_cs_20))\n",
    "data_cs_0 = json.load(open(file_cs_0))\n",
    "\n",
    "en_cs_20 = data_cs_20[\"return_result\"]\n",
    "en_cs_0 = data_cs_0[\"return_result\"]\n",
    "\n",
    "pl = data_cs_20[\"Photon_list\"]\n",
    "target_pl = [2, 3, 5, 9, 17, 33]\n",
    "\n",
    "origin_en = []\n",
    "disp_en = []\n",
    "en_error = []\n",
    "ctr=-1\n",
    "for p in pl:\n",
    "    ctr += 1\n",
    "    if p in target_pl:\n",
    "        print(F' {p} is in target_pl')\n",
    "        origin_en.append(en_cs_0[ctr][0])\n",
    "        disp_en.append(en_cs_20[ctr][0])\n",
    "        en_error.append(en_cs_20[ctr][0]-en_cs_0[ctr][0])\n",
    "        print(origin_en)\n",
    "        print(disp_en)\n",
    "        print(en_error)\n",
    "    else:\n",
    "        print(F' {p} is not in target_pl')"
   ]
  },
  {
   "cell_type": "code",
   "execution_count": null,
   "id": "26c0f90c-dd02-417d-9fc8-ecc6b2cae24f",
   "metadata": {},
   "outputs": [],
   "source": [
    "print(en_error)"
   ]
  },
  {
   "cell_type": "code",
   "execution_count": 7,
   "id": "e8e728ee-9c7b-4776-962a-da8a12747a2d",
   "metadata": {},
   "outputs": [
    {
     "name": "stdout",
     "output_type": "stream",
     "text": [
      "[2, 3, 5, 9, 17, 33] [1.1973436651193907, 0.8846499098818441, 0.5030561682658288, 0.1517958442292695, 0.003426788843057693, 1.298019469686551e-10] [-5.115907697472721e-13, -4.973799150320701e-13, -4.973799150320701e-13, -4.831690603168681e-13, -4.547473508864641e-13, -4.973799150320701e-13]\n"
     ]
    }
   ],
   "source": [
    "photon_count = pcqed_cs_data[\"model\"][\"number_of_photon_states\"]\n",
    "pcqed_pn_errors = pcqed_pn_data[\"origin_dependent_error\"]\n",
    "pcqed_cs_errors = pcqed_cs_data[\"origin_dependent_error\"]\n",
    "print(photon_count, pcqed_pn_errors, pcqed_cs_errors)"
   ]
  },
  {
   "cell_type": "code",
   "execution_count": 12,
   "id": "d4af9509-1fe1-4d21-8c2d-d241487ced13",
   "metadata": {},
   "outputs": [],
   "source": [
    "\n",
    "# create numpy array to hold the number of photonic fock states\n",
    "pn = np.zeros(n_files)\n",
    "# create numpy array to hold the displacement error\n",
    "er = np.zeros(n_files)\n",
    "\n",
    "# loop over pfci json files\n",
    "ctr = 0\n",
    "for f in pfci_filenames:\n",
    "    # load json file\n",
    "    data = json.load(open(f))\n",
    "    # get data field with number of photonic fock states\n",
    "    n = data[\"model\"][\"maximum_photon_occupation_state\"]\n",
    "    # get data field with origin dependent error\n",
    "    error = data[\"origin_dependent_error\"]\n",
    "    # store n to numpy array\n",
    "    pn[ctr] = n+1\n",
    "    # store error to numpy array\n",
    "    er[ctr] = error\n",
    "    # increment counter\n",
    "    ctr += 1\n",
    "\n",
    "# loop over csfci json files\n",
    "ctr = 0\n",
    "\n",
    "# create numpy array to hold the displacement error\n",
    "cs_er = np.zeros(n_files)\n",
    "for f in csfci_filenames:\n",
    "    # load json file\n",
    "    data = json.load(open(f))\n",
    "    # get data field with origin dependent error\n",
    "    error = data[\"origin_dependent_error\"]\n",
    "    # store error to numpy array\n",
    "    cs_er[ctr] = error\n",
    "    # increment counter\n",
    "    ctr += 1\n",
    "\n",
    "# find indices sorted from lowest to highest photonic fock state numbers\n",
    "idx = np.flip(np.argsort(pn))\n",
    "\n",
    "\n",
    "x_pfci = pn[idx]\n",
    "y_pfci = er[idx]\n",
    "\n",
    "x_pcqed_pn = np.flip(np.array(photon_count))\n",
    "y_pcqed_pn = np.flip(np.array(pcqed_pn_errors))\n",
    "\n",
    "\n",
    "x_pcqed_cs = np.flip(np.array(photon_count))\n",
    "y_pcqed_cs= np.flip(np.array(pcqed_cs_errors))\n",
    "\n",
    "y_csfci = np.flip(np.array(cs_er))\n",
    "\n",
    "#N_p = np.array([3, 5, 7, 9, 11, 13, 15, 17, 33])\n",
    "#error = np.array([0.8846499098818299,0.5030561682658288,0.28350180325411145,0.15179584422928372,0.0744678498403033,0.03215178125074658,0.011680933216794642,0.0034267888430434823,1.298161578233703e-10])\n",
    "# N_pc = N_p[idx]\n",
    "# err = error[idx]\n",
    "\n",
    "coef_pfci = np.polyfit(x_pfci, y_pfci, 5)\n",
    "\n",
    "coef_pcqed = np.polyfit(x_pcqed_pn, y_pcqed_pn, 5)\n",
    "\n",
    "def poly_eval(x_vals, a_vals, order):\n",
    "    \"\"\" Function to evaluate a polynomial  or order 2, 3, or 4 from np.polyfit\n",
    "        Arguments\n",
    "        ---------\n",
    "        x_vals : array of floats\n",
    "            the x values you want to evaluate the fit on\n",
    "        a_vals : array of floats\n",
    "            the coefficient of the polynomial\n",
    "        order : int\n",
    "            the order of the polynomial - accepts 2, 3, or 4\n",
    "\n",
    "    \"\"\"\n",
    "    if order==5:\n",
    "        return a_vals[0] * x_vals ** 5 + a_vals[1] * x_vals ** 4 + a_vals[2] * x_vals ** 3 + a_vals[3] * x_vals ** 2 + a_vals[4] * x_vals ** 1 + a_vals[5]\n",
    "    elif order==4:\n",
    "        return a_vals[0] * x_vals ** 4 + a_vals[1] * x_vals ** 3 + a_vals[2] * x_vals ** 2 + a_vals[3] * x_vals ** 1 + a_vals[4]\n",
    "    elif order==3:\n",
    "        return a_vals[0] * x_vals ** 3 + a_vals[1] * x_vals ** 2 + a_vals[2] * x_vals ** 1 + a_vals[3]\n",
    "\n",
    "    elif order==2:\n",
    "        return a_vals[0] * x_vals ** 2 + a_vals[1] * x_vals ** 1 + a_vals[2] \n",
    "    else:\n",
    "        print(\" Specify order = 2, 3, or 4\")\n",
    "        exit()\n",
    "        "
   ]
  },
  {
   "cell_type": "code",
   "execution_count": 11,
   "id": "c626170b",
   "metadata": {},
   "outputs": [
    {
     "name": "stdout",
     "output_type": "stream",
     "text": [
      "[33. 17.  9.  5.  3.  2.]\n",
      "[1.27926114e-10 3.44765559e-03 1.51684288e-01 5.02026743e-01\n",
      " 8.82395980e-01 1.19399398e+00]\n",
      "[33 17  9  5  3  2]\n",
      "[1.29801947e-10 3.42678884e-03 1.51795844e-01 5.03056168e-01\n",
      " 8.84649910e-01 1.19734367e+00]\n",
      "[-4.75771688e-06  3.39836968e-04 -8.65380665e-03  1.05511108e-01\n",
      " -6.95816742e-01  2.22752834e+00]\n",
      "[33 17  9  5  3  2]\n"
     ]
    }
   ],
   "source": [
    "print(x_pfci)\n",
    "print(y_pfci)\n",
    "print(x_pcqed_pn)\n",
    "print(y_pcqed_pn)\n",
    "\n",
    "print(coef_pfci)\n"
   ]
  },
  {
   "cell_type": "code",
   "execution_count": 13,
   "id": "ff400eac",
   "metadata": {},
   "outputs": [
    {
     "data": {
      "image/png": "[encoded data removed]",
      "text/plain": [
       "<Figure size 640x480 with 1 Axes>"
      ]
     },
     "metadata": {},
     "output_type": "display_data"
    }
   ],
   "source": [
    "# pfit_pcqed = np.poly1d(pcqed_pfit)\n",
    "# x_val = np.linspace(min(N_p), max(N_p), 9)\n",
    "# y_val = pfit_pcqed(x_val)\n",
    "\n",
    "\n",
    "COLOUR1 = \"firebrick\"\n",
    "COLOUR2 = \"darkgreen\"\n",
    "COLOUR3 = \"royalblue\"\n",
    "COLOUR4 = \"rebeccapurple\"\n",
    "COLOUR5 = 'darkorchid'\n",
    "COLOUR6 = 'olivedrab'\n",
    "\n",
    "fit_pfci = poly_eval(x_pfci, coef_pfci, 5)\n",
    "fit_pcqed = poly_eval(x_pcqed_pn, coef_pcqed, 5)\n",
    "\n",
    "plt.plot(x_pfci, y_pfci, color=COLOUR3, marker=\"o\",  ms=\"8\", label=\"PF-FCI-N/6-31G\" )\n",
    "plt.plot(x_pcqed_pn, y_pcqed_pn, color=COLOUR1,marker=\"s\",  ms=\"10\", mfc=\"none\", linestyle=\"dashed\", label=\"pPF(50,N)/6-31G\" )\n",
    "plt.plot(x_pcqed_pn, y_csfci, color=COLOUR2, linestyle=\"none\", marker=\"^\",  ms=\"8\", label=\"CS-FCI-N/6-31G\")\n",
    "plt.plot(x_pcqed_pn, y_pcqed_cs, color=COLOUR5, linestyle=\"none\", marker=\"s\",  ms=\"10\", mfc=\"none\", label=\"pCS(50,N)/6-31G\")\n",
    "# plt.yscale(\"log\")\n",
    "plt.legend()\n",
    "plt.xlabel(\"Number of Photonic Fock States (N) \")\n",
    "plt.ylabel(\"Origin Dependent Error (Hartrees)\")\n",
    "plt.savefig(\"OH_minus_error_origin_dep.png\", dpi=250)\n",
    "plt.show()\n"
   ]
  },
  {
   "cell_type": "code",
   "execution_count": null,
   "id": "76cd0135-625a-470e-bb4f-8005fa856703",
   "metadata": {},
   "outputs": [],
   "source": []
  },
  {
   "cell_type": "code",
   "execution_count": null,
   "id": "d8211b02",
   "metadata": {},
   "outputs": [],
   "source": []
  },
  {
   "cell_type": "code",
   "execution_count": null,
   "id": "55196b58",
   "metadata": {},
   "outputs": [],
   "source": []
  }
 ],
 "metadata": {
  "kernelspec": {
   "display_name": "Python 3 (ipykernel)",
   "language": "python",
   "name": "python3"
  },
  "language_info": {
   "codemirror_mode": {
    "name": "ipython",
    "version": 3
   },
   "file_extension": ".py",
   "mimetype": "text/x-python",
   "name": "python",
   "nbconvert_exporter": "python",
   "pygments_lexer": "ipython3",
   "version": "3.12.0"
  }
 },
 "nbformat": 4,
 "nbformat_minor": 5
}
