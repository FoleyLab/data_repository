{
 "cells": [
  {
   "cell_type": "code",
   "execution_count": 1,
   "id": "c9e13760-0ccb-4afb-a829-09c9ce444111",
   "metadata": {},
   "outputs": [
    {
     "name": "stdout",
     "output_type": "stream",
     "text": [
      "/Users/jfoley19/Code/data_repository/Mapol/OHminus/pcqed_data/OH-_6-31G_PCQED_Origin_Dependence_20_ang_0.21927747.json\n",
      "/Users/jfoley19/Code/data_repository/Mapol/OHminus/pcqed_data/OH-_6-31G_PCQED_Origin_Dependence_0_ang_0.21927747.json\n"
     ]
    }
   ],
   "source": [
    "import os\n",
    "import glob\n",
    "import json\n",
    "import numpy as np\n",
    "from matplotlib import pyplot as plt\n",
    "from matplotlib import cm\n",
    "from matplotlib import rcParams\n",
    "rcParams['font.family'] = 'serif'\n",
    "rcParams['font.size'] = 12\n",
    "\n",
    "# get location of pf-ci json files\n",
    "#pfci_file_location = os.path.join('/Users/rmandern/code/data_repository/Mapol/OHminus', 'qed-fci', '*.json')\n",
    "#pcqed_file_location = os.path.join('/Users/rmandern/code/data_repository/Mapol/OHminus', 'pcqed_data', '*.json')\n",
    "pfci_file_location = os.path.join('/Users/jfoley19/Code/data_repository/Mapol/OHminus', 'qed-fci', '*.json')\n",
    "pcqed_file_location = os.path.join('/Users/jfoley19/Code/data_repository/Mapol/OHminus', 'pcqed_data', '*.json')\n",
    "# get pf-ci file names\n",
    "pfci_filenames = glob.glob(pfci_file_location)\n",
    "pcqed_filenames = glob.glob(pcqed_file_location)\n",
    "\n",
    "# get number of the pf-ci json files\n",
    "n_files = len(pfci_filenames)\n",
    "\n",
    "n_files_2 = len(pcqed_filenames)\n",
    "\n",
    "print(pcqed_filenames[0])\n",
    "print(pcqed_filenames[1])\n",
    "\n",
    "pcqed_data_origin = json.load(open(pcqed_filenames[1]))\n",
    "pcqed_data_displaced = json.load(open(pcqed_filenames[0]))\n",
    "\n"
   ]
  },
  {
   "cell_type": "code",
   "execution_count": 6,
   "id": "e8e728ee-9c7b-4776-962a-da8a12747a2d",
   "metadata": {},
   "outputs": [
    {
     "name": "stdout",
     "output_type": "stream",
     "text": [
      "[3, 5, 7, 9, 11, 13, 15, 17, 33]\n",
      "-75.43266530871836\n",
      "-75.23588817286917\n",
      "-75.43266533500551\n"
     ]
    }
   ],
   "source": [
    "photon_count = pcqed_data_origin[\"Photon_list\"]\n",
    "\n",
    "print(photon_count)\n",
    "print(pcqed_data_origin[\"return_result\"][0][0])\n",
    "print(pcqed_data_origin[\"return_result\"][0][1])\n",
    "print(pcqed_data_origin[\"return_result\"][1][0])"
   ]
  },
  {
   "cell_type": "code",
   "execution_count": null,
   "id": "d4af9509-1fe1-4d21-8c2d-d241487ced13",
   "metadata": {},
   "outputs": [],
   "source": [
    "\n",
    "# create numpy array to hold the number of photonic fock states\n",
    "pn = np.zeros(n_files)\n",
    "# create numpy array to hold the displacement error\n",
    "er = np.zeros(n_files)\n",
    "\n",
    "# loop over json files\n",
    "ctr = 0\n",
    "for f in pfci_filenames:\n",
    "    # load json file\n",
    "    data = json.load(open(f))\n",
    "    # get data field with number of photonic fock states\n",
    "    n = data[\"model\"][\"number_of_photon_states\"]\n",
    "    # get data field with origin dependent error\n",
    "    error = data[\"origin_dependent_error\"]\n",
    "    # store n to numpy array\n",
    "    pn[ctr] = n\n",
    "    # store error to numpy array\n",
    "    er[ctr] = error\n",
    "    # increment counter\n",
    "    ctr += 1\n",
    "\n",
    "# find indices sorted from lowest to highest photonic fock state numbers\n",
    "idx = np.flip(np.argsort(pn))\n",
    "\n",
    "\n",
    "x_pfci = pn[idx]\n",
    "y_pfci = er[idx]\n",
    "\n",
    "\n",
    "N_p = np.array([3, 5, 7, 9, 11, 13, 15, 17, 33])\n",
    "error = np.array([0.8846499098818299,0.5030561682658288,0.28350180325411145,0.15179584422928372,0.0744678498403033,0.03215178125074658,0.011680933216794642,0.0034267888430434823,1.298161578233703e-10])\n",
    "# N_pc = N_p[idx]\n",
    "# err = error[idx]\n",
    "\n",
    "coef_pfci = np.polyfit(x_pfci, y_pfci, 5)\n",
    "\n",
    "coef_pcqed = np.polyfit(N_p, error, 5)\n",
    "\n",
    "def poly_eval(x_vals, a_vals, order):\n",
    "    \"\"\" Function to evaluate a polynomial  or order 2, 3, or 4 from np.polyfit\n",
    "        Arguments\n",
    "        ---------\n",
    "        x_vals : array of floats\n",
    "            the x values you want to evaluate the fit on\n",
    "        a_vals : array of floats\n",
    "            the coefficient of the polynomial\n",
    "        order : int\n",
    "            the order of the polynomial - accepts 2, 3, or 4\n",
    "\n",
    "    \"\"\"\n",
    "    if order==5:\n",
    "        return a_vals[0] * x_vals ** 5 + a_vals[1] * x_vals ** 4 + a_vals[2] * x_vals ** 3 + a_vals[3] * x_vals ** 2 + a_vals[4] * x_vals ** 1 + a_vals[5]\n",
    "    elif order==4:\n",
    "        return a_vals[0] * x_vals ** 4 + a_vals[1] * x_vals ** 3 + a_vals[2] * x_vals ** 2 + a_vals[3] * x_vals ** 1 + a_vals[4]\n",
    "    elif order==3:\n",
    "        return a_vals[0] * x_vals ** 3 + a_vals[1] * x_vals ** 2 + a_vals[2] * x_vals ** 1 + a_vals[3]\n",
    "\n",
    "    elif order==2:\n",
    "        return a_vals[0] * x_vals ** 2 + a_vals[1] * x_vals ** 1 + a_vals[2] \n",
    "    else:\n",
    "        print(\" Specify order = 2, 3, or 4\")\n",
    "        exit()\n",
    "        "
   ]
  },
  {
   "cell_type": "code",
   "execution_count": null,
   "id": "c626170b",
   "metadata": {},
   "outputs": [],
   "source": [
    "print(x_pfci)\n",
    "print(y_pfci)\n",
    "\n",
    "print(N_p)\n",
    "print(error)"
   ]
  },
  {
   "cell_type": "code",
   "execution_count": null,
   "id": "ff400eac",
   "metadata": {},
   "outputs": [],
   "source": [
    "# pfit_pcqed = np.poly1d(pcqed_pfit)\n",
    "# x_val = np.linspace(min(N_p), max(N_p), 9)\n",
    "# y_val = pfit_pcqed(x_val)\n",
    "\n",
    "\n",
    "COLOUR1 = \"firebrick\"\n",
    "COLOUR2 = \"darkgreen\"\n",
    "COLOUR3 = \"royalblue\"\n",
    "COLOUR4 = \"rebeccapurple\"\n",
    "COLOUR5 = 'darkorchid'\n",
    "COLOUR6 = 'olivedrab'\n",
    "\n",
    "fit_pfci = poly_eval(x_pfci, coef_pfci, 5)\n",
    "\n",
    "fit_pcqed = poly_eval(N_p, coef_pcqed, 5)\n",
    "\n",
    "plt.plot(x_pfci, y_pfci, color=COLOUR1, label=\"PF-FCI-N/6-31G\" )\n",
    "plt.plot(N_p, error, color=COLOUR2, label=\"pPF\" )\n",
    "plt.plot(x_pfci, fit_pfci, color=COLOUR1, linestyle=\"none\", marker=\"o\",  ms=\"8\", mfc=\"none\", label=\"Polynomial Fit PF-FCI\")\n",
    "plt.plot(N_p, fit_pcqed, color=COLOUR2, linestyle=\"none\", marker=\"o\",  ms=\"8\", mfc=\"none\", label=\"Polynomial Fit pPF\")\n",
    "# plt.yscale(\"log\")\n",
    "plt.legend()\n",
    "plt.xlabel(\"Number of Photonic Fock States\")\n",
    "plt.ylabel(\"Origin Dependent Error\")\n",
    "plt.savefig(\"OH_minus_error_origin_dep.png\", dpi=150)\n",
    "\n",
    "plt.show()\n"
   ]
  },
  {
   "cell_type": "code",
   "execution_count": null,
   "id": "76cd0135-625a-470e-bb4f-8005fa856703",
   "metadata": {},
   "outputs": [],
   "source": []
  },
  {
   "cell_type": "code",
   "execution_count": null,
   "id": "d8211b02",
   "metadata": {},
   "outputs": [],
   "source": []
  },
  {
   "cell_type": "code",
   "execution_count": null,
   "id": "55196b58",
   "metadata": {},
   "outputs": [],
   "source": []
  }
 ],
 "metadata": {
  "kernelspec": {
   "display_name": "Python 3 (ipykernel)",
   "language": "python",
   "name": "python3"
  },
  "language_info": {
   "codemirror_mode": {
    "name": "ipython",
    "version": 3
   },
   "file_extension": ".py",
   "mimetype": "text/x-python",
   "name": "python",
   "nbconvert_exporter": "python",
   "pygments_lexer": "ipython3",
   "version": "3.9.18"
  }
 },
 "nbformat": 4,
 "nbformat_minor": 5
}
