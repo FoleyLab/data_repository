{
 "cells": [
  {
   "cell_type": "code",
   "execution_count": 1,
   "id": "c5d0f53d-40e3-4775-abc4-47daae222858",
   "metadata": {},
   "outputs": [],
   "source": [
    "# import json module\n",
    "import json"
   ]
  },
  {
   "cell_type": "code",
   "execution_count": 2,
   "id": "eceda862",
   "metadata": {},
   "outputs": [],
   "source": [
    "# capture different options \n",
    "input_dict = {\n",
    "    #\"intermediate_structure\" : \"ortho\",\n",
    "    #\"intermediate_structure\" : \"para\",\n",
    "    \"intermediate_structure\" : \"meta\",\n",
    "    \"orbital_basis\" : \"6-311G*\",\n",
    "    \"omega_value_ev\" : 1.8,\n",
    "    \"lambda_magnitude_au\" : 0.1,\n",
    "    \"lambda_vector\" : [1.0, 0, 0],\n",
    "    \"theta\" : 0,\n",
    "    \"phi\" : 0,\n",
    "}\n"
   ]
  },
  {
   "cell_type": "markdown",
   "id": "98f20420",
   "metadata": {},
   "source": [
    "# Specify coordinates associated with different intermediates"
   ]
  },
  {
   "cell_type": "code",
   "execution_count": 3,
   "id": "628b6f8e",
   "metadata": {},
   "outputs": [],
   "source": [
    "# coordinates for para intermediate\n",
    "para_coords = [\n",
    " \"C                 -0.80658313    1.22973465    0.03041801\",\n",
    " \"C                  0.56153576    1.23725234    0.01622618\",\n",
    " \"C                  1.22915389    0.01001055    0.01220575\",\n",
    " \"H                 -1.36676923    2.15803094    0.04420367\",\n",
    " \"H                  1.14116413    2.14927050    0.01037697\",\n",
    " \"N                  2.71357475    0.03144573   -0.00289824\",\n",
    " \"O                  3.28013247   -1.09741954   -0.00254733\",\n",
    " \"O                  3.24714953    1.17621948   -0.01252002\",\n",
    " \"C                 -0.77042978   -1.26805414    0.04039660\",\n",
    " \"H                 -1.30353926   -2.21202933    0.06122375\",\n",
    " \"C                  0.59726287   -1.23605918    0.02634378\",\n",
    " \"H                  1.20308359   -2.13089607    0.02793117\",\n",
    " \"C                 -1.56287141   -0.03049318    0.01040538\",\n",
    " \"H                 -2.41148563   -0.03994459    0.70143946\",\n",
    " \"Br                -2.40993182   -0.04931830   -1.82359612\"]\n",
    "\n",
    "# coordinates for meta intermediate\n",
    "meta_coords = [\n",
    " \"C                  0.02949981    1.33972592    0.06817723\",\n",
    " \"C                  1.43483278    1.28667967    0.00635313\",\n",
    " \"C                  2.11179024    0.05106117   -0.00544138\",\n",
    " \"C                  1.44506636   -1.13720058    0.03116583\",\n",
    " \"C                 -0.68793171    0.16822220    0.10995314\",\n",
    " \"H                 -0.47126997    2.29839666    0.07811355\",\n",
    " \"H                  2.02732783    2.19651728   -0.03220624\",\n",
    " \"H                  1.98966526   -2.07643217    0.02318494\",\n",
    " \"H                 -1.77163480    0.18040547    0.15819632\",\n",
    " \"N                  3.58635895    0.05097292   -0.06745286\",\n",
    " \"O                  4.14711759   -1.05966097   -0.08807849\",\n",
    " \"O                  4.14497859    1.16390951   -0.09010823\",\n",
    " \"C                 -0.02361177   -1.14582791    0.08353483\",\n",
    " \"H                 -0.43674996   -1.87247364    0.78889576\",\n",
    " \"Br                -0.53591638   -1.86972195   -1.74078671\"\n",
    "]\n",
    "\n",
    "# coordinates for ortho intermediate\n",
    "ortho_coords = [\n",
    " \"C                  0.51932475    1.23303451   -0.03194925\",\n",
    " \"C                  1.94454413    1.26916358   -0.03672882\",\n",
    " \"C                  2.62037793    0.09283428   -0.02499003\",\n",
    " \"C                 -0.19603352    0.03013062    0.00102732\",\n",
    " \"H                 -0.02069420    2.17423764   -0.04336646\",\n",
    " \"H                  2.48281698    2.20891057   -0.03611879\",\n",
    " \"H                 -1.27770137    0.03990295    0.01166953\",\n",
    " \"N                  4.09213475    0.09594076    0.03662979\",\n",
    " \"O                  4.63930696   -1.02169275    0.14459220\",\n",
    " \"O                  4.66489883    1.19839699   -0.02327545\",\n",
    " \"C                  0.49428518   -1.16712649    0.02099746\",\n",
    " \"H                 -0.03251071   -2.11492669    0.05447935\",\n",
    " \"C                  1.96291176   -1.21653219   -0.02111314\",\n",
    " \"H                  2.44359113   -1.96306433    0.61513886\",\n",
    " \"Br                 2.17304025   -1.94912156   -1.90618750\"\n",
    "]"
   ]
  },
  {
   "cell_type": "markdown",
   "id": "3018e9d3",
   "metadata": {},
   "source": [
    "# Provide some input options through a dictionary"
   ]
  },
  {
   "cell_type": "code",
   "execution_count": 4,
   "id": "c4951d23",
   "metadata": {},
   "outputs": [],
   "source": [
    "\n",
    "# convert omega into a.u.\n",
    "input_dict[\"omega_value_au\"] = input_dict[\"omega_value_ev\"] / 27.2114\n",
    "\n",
    "# get coordinates and target filename depending on which structure was chosen\n",
    "if input_dict[\"intermediate_structure\"] == \"ortho\":\n",
    "    input_dict[\"coordinates\"] = ortho_coords\n",
    "elif input_dict[\"intermediate_structure\"] == \"para\":\n",
    "    input_dict[\"coordinates\"] = para_coords\n",
    "elif input_dict[\"intermediate_structure\"] == \"meta\":\n",
    "    input_dict[\"coordinates\"] = meta_coords\n",
    "\n",
    "# to-do: automate the assignment of an output file name that reflects the calculation options, including\n",
    "# (i) intermediate structure, (ii) omega value, (iii) lambda vector (possibly in terms of theta and phi), and (iv) lambda magnitude\n",
    "output_filename = input_dict[\"intermediate_structure\"] + \"_theta_\" + str(input_dict[\"theta\"]) + \"_phi_\" + str(input_dict[\"phi\"]) + \".json\"\n",
    "\n",
    "input_dict[\"output_json_filename\"] = output_filename\n"
   ]
  },
  {
   "cell_type": "markdown",
   "id": "f08ead7f-a538-4e37-8ac5-f3116af67a54",
   "metadata": {},
   "source": [
    "# TO-DO: Add code block that will assign the values of the lambda vector $(\\lambda_x, \\lambda_y, \\lambda_z)$ for a desired value of $\\theta$ and $\\phi$"
   ]
  },
  {
   "cell_type": "code",
   "execution_count": 5,
   "id": "d139aa62-ff74-4b0b-8261-41deddfa9f59",
   "metadata": {},
   "outputs": [],
   "source": [
    "# add code to output lambda_x, lambda_y, lambda_z for a given theta and phi here!\n",
    "\n",
    "# assign values to input_dict[\"lambda_vector\"] here!\n",
    "import numpy as np\n",
    "\n",
    "def generate_lambda_vec_from_theta_and_phi(theta, phi):\n",
    "    \"\"\" takes theta and phi in degrees and converts to radians \n",
    "    \"\"\"\n",
    "    # convert to radians\n",
    "    theta *= np.pi / 180\n",
    "    phi *= np.pi / 180\n",
    "    \n",
    "    # compute x, y, z\n",
    "    x = np.sin(theta) * np.cos(phi)\n",
    "    y = np.sin(theta) * np.sin(phi)\n",
    "    z = np.cos(theta)\n",
    "\n",
    "    return [x,y,z]\n",
    "\n",
    "\n"
   ]
  },
  {
   "cell_type": "markdown",
   "id": "51b73f6f",
   "metadata": {},
   "source": [
    "# Create the dictionary that will be written to the exachem input json"
   ]
  },
  {
   "cell_type": "code",
   "execution_count": 6,
   "id": "8b1c0ab8-1666-4754-96db-1ef869c87081",
   "metadata": {},
   "outputs": [],
   "source": [
    "# Define the data structure as a Python dictionary\n",
    "data = {\n",
    "  \"geometry\": {\n",
    "      \"coordinates\": input_dict[\"coordinates\"],\n",
    "      \n",
    "      \"units\": \"angstrom\"\n",
    "  },\n",
    "  \"basis\": {\n",
    "      \"basisset\": \"6-311G*\"\n",
    "  },\n",
    "  \"SCF\": {\n",
    "      \"charge\": 1,\n",
    "      \"multiplicity\": 1,\n",
    "      \"conve\": 1e-12,\n",
    "      \"convd\": 1e-11,\n",
    "      \"scf_type\": \"restricted\",\n",
    "      \"qed_omegas\": [input_dict[\"omega_value_au\"]],\n",
    "      \"qed_volumes\": [],\n",
    "      \"qed_lambdas\": [input_dict[\"lambda_magnitude_au\"]],\n",
    "      \"qed_polvecs\": [input_dict[\"lambda_vector\"]]\n",
    "  },\n",
    "  \"CC\": {\n",
    "      \"threshold\": 1e-6,\n",
    "      \"lshift\": 0.3,\n",
    "      \"ccsd_maxiter\": 200,\n",
    "      \"freeze\": {\n",
    "          \"atomic\": True\n",
    "      }\n",
    "  },\n",
    "  \"TASK\": {\n",
    "      \"ccsd\": True\n",
    "  }\n",
    "}\n",
    "\n",
    "# Function to write data to a JSON file\n",
    "def write_json(filename, data):\n",
    "    with open(filename, 'w') as f:\n",
    "        json.dump(data, f, indent=4)\n"
   ]
  },
  {
   "cell_type": "code",
   "execution_count": 7,
   "id": "844c9ad3",
   "metadata": {},
   "outputs": [],
   "source": [
    "\n",
    "theta_list = np.linspace(0, 180, 46)\n",
    "phi_list = np.linspace(0, 360, 46)\n",
    "\n",
    "\n",
    "for t in theta_list:\n",
    "    for p in phi_list:\n",
    "        input_dict[\"lambda_vector\"] = generate_lambda_vec_from_theta_and_phi(t, p)\n",
    "        input_dict[\"theta\"] = t\n",
    "        input_dict[\"phi\"] = p\n",
    "        output_filename = input_dict[\"intermediate_structure\"] + \"_theta_\" + str(input_dict[\"theta\"]) + \"_phi_\" + str(input_dict[\"phi\"]) + \".json\"\n",
    "        input_dict[\"output_json_filename\"] = output_filename\n",
    "        data[\"SCF\"][\"qed_polvecs\"] = [input_dict[\"lambda_vector\"]]\n",
    "        write_json(input_dict[\"output_json_filename\"], data)"
   ]
  },
  {
   "cell_type": "code",
   "execution_count": null,
   "id": "0abc7081",
   "metadata": {},
   "outputs": [],
   "source": []
  },
  {
   "cell_type": "code",
   "execution_count": null,
   "id": "d50c3d4e-d168-42aa-aa22-415a5108054b",
   "metadata": {},
   "outputs": [],
   "source": []
  }
 ],
 "metadata": {
  "kernelspec": {
   "display_name": "Python 3 (ipykernel)",
   "language": "python",
   "name": "python3"
  },
  "language_info": {
   "codemirror_mode": {
    "name": "ipython",
    "version": 3
   },
   "file_extension": ".py",
   "mimetype": "text/x-python",
   "name": "python",
   "nbconvert_exporter": "python",
   "pygments_lexer": "ipython3",
   "version": "3.12.0"
  }
 },
 "nbformat": 4,
 "nbformat_minor": 5
}
