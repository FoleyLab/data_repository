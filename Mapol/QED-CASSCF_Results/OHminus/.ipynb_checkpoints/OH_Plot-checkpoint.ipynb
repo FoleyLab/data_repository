{
 "cells": [
  {
   "cell_type": "code",
   "execution_count": null,
   "id": "a43349c1-8c5a-40c6-9031-58447305fb80",
   "metadata": {},
   "outputs": [],
   "source": [
    "import psi4\n",
    "import numpy as np\n",
    "import fortecubeview\n"
   ]
  },
  {
   "cell_type": "markdown",
   "id": "f9b3172d-2941-436d-9d9c-399ef1c9b73d",
   "metadata": {},
   "source": [
    "r = 0.9 Angstroms\n",
    "lambda_z = 0.05 atomic units\n",
    "omega = 0.219 atomic units\n",
    "basis = 6-31G?"
   ]
  },
  {
   "cell_type": "code",
   "execution_count": null,
   "id": "1c4ba8e8-d0d2-4889-801e-8f6b50173fd4",
   "metadata": {},
   "outputs": [],
   "source": [
    "# options dict\n",
    "options_dict = {'basis': '6-31G',\n",
    "               'save_jk': True, \n",
    "               'scf_type': 'pk',\n",
    "               'e_convergence' : 1e-10,\n",
    "               'd_convergence' : 1e-10}\n",
    "\n",
    "\n",
    "\n",
    "molstr = \"\"\"\n",
    "O 0.0 0.0 0.0\n",
    "H 0.0 0.0 0.9\n",
    "-1 1\n",
    "symmetry c1\n",
    "\"\"\"\n",
    "\n",
    "psi4.set_options(options_dict)\n",
    "mol = psi4.geometry(molstr)\n",
    "\n"
   ]
  },
  {
   "cell_type": "code",
   "execution_count": null,
   "id": "e9ec89a9-aa3d-471d-9a5e-d72340d74aa1",
   "metadata": {},
   "outputs": [],
   "source": [
    "energy, wfn = psi4.energy(\"scf/6-31G\", molecule=mol, return_wfn=True)\n",
    "psi4.set_options({\n",
    "    'CUBEPROP_TASKS': ['ORBITALS'], \n",
    "    'CUBEPROP_ORBITALS': [3, 4, 5, 6],\n",
    "})\n"
   ]
  },
  {
   "cell_type": "code",
   "execution_count": null,
   "id": "0954c6f8-ac5a-4092-ac65-7c75b32cdffa",
   "metadata": {},
   "outputs": [],
   "source": [
    "cube = psi4.cubeprop(wfn)\n",
    "fortecubeview.plot()"
   ]
  },
  {
   "cell_type": "code",
   "execution_count": null,
   "id": "64f75500-2450-4e08-83de-923f74645909",
   "metadata": {},
   "outputs": [],
   "source": []
  }
 ],
 "metadata": {
  "kernelspec": {
   "display_name": "Python 3 (ipykernel)",
   "language": "python",
   "name": "python3"
  },
  "language_info": {
   "codemirror_mode": {
    "name": "ipython",
    "version": 3
   },
   "file_extension": ".py",
   "mimetype": "text/x-python",
   "name": "python",
   "nbconvert_exporter": "python",
   "pygments_lexer": "ipython3",
   "version": "3.11.12"
  }
 },
 "nbformat": 4,
 "nbformat_minor": 5
}
