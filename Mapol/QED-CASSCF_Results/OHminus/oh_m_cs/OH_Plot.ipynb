{
 "cells": [
  {
   "cell_type": "code",
   "execution_count": 1,
   "id": "a43349c1-8c5a-40c6-9031-58447305fb80",
   "metadata": {},
   "outputs": [
    {
     "data": {
      "application/vnd.jupyter.widget-view+json": {
       "model_id": "a58ff031950c484589c102148242b286",
       "version_major": 2,
       "version_minor": 0
      },
      "text/plain": []
     },
     "metadata": {},
     "output_type": "display_data"
    }
   ],
   "source": [
    "import psi4\n",
    "import numpy as np\n",
    "import fortecubeview\n"
   ]
  },
  {
   "cell_type": "markdown",
   "id": "f9b3172d-2941-436d-9d9c-399ef1c9b73d",
   "metadata": {},
   "source": [
    "r = 0.9 Angstroms\n",
    "lambda_z = 0.05 atomic units\n",
    "omega = 0.219 atomic units\n",
    "basis = 6-31G?"
   ]
  },
  {
   "cell_type": "code",
   "execution_count": 2,
   "id": "1c4ba8e8-d0d2-4889-801e-8f6b50173fd4",
   "metadata": {},
   "outputs": [],
   "source": [
    "# options dict\n",
    "options_dict = {'basis': '6-31G',\n",
    "               'save_jk': True, \n",
    "               'scf_type': 'pk',\n",
    "               'e_convergence' : 1e-10,\n",
    "               'd_convergence' : 1e-10}\n",
    "\n",
    "\n",
    "\n",
    "molstr = \"\"\"\n",
    "O 0.0 0.0 0.0\n",
    "H 0.0 0.0 0.9\n",
    "-1 1\n",
    "symmetry c1\n",
    "\"\"\"\n",
    "\n",
    "psi4.set_options(options_dict)\n",
    "mol = psi4.geometry(molstr)\n",
    "\n"
   ]
  },
  {
   "cell_type": "code",
   "execution_count": 3,
   "id": "e9ec89a9-aa3d-471d-9a5e-d72340d74aa1",
   "metadata": {},
   "outputs": [
    {
     "name": "stdout",
     "output_type": "stream",
     "text": [
      "\n",
      "Scratch directory: /tmp/\n",
      "   => Libint2 <=\n",
      "\n",
      "    Primary   basis highest AM E, G, H:  6, 6, 3\n",
      "    Auxiliary basis highest AM E, G, H:  7, 7, 4\n",
      "    Onebody   basis highest AM E, G, H:  -, -, -\n",
      "    Solid Harmonics ordering:            Gaussian\n",
      "\n",
      "*** tstart() called on CHEM9QDFT72ALT\n",
      "*** at Tue May 27 20:06:13 2025\n",
      "\n",
      "   => Loading Basis Set <=\n",
      "\n",
      "    Name: 6-31G\n",
      "    Role: ORBITAL\n",
      "    Keyword: BASIS\n",
      "    atoms 1 entry O          line   117 file /Users/jfoley19/miniconda3/envs/psi4_new/share/psi4/basis/6-31g.gbs \n",
      "    atoms 2 entry H          line    26 file /Users/jfoley19/miniconda3/envs/psi4_new/share/psi4/basis/6-31g.gbs \n",
      "\n",
      "\n",
      "         ---------------------------------------------------------\n",
      "                                   SCF\n",
      "               by Justin Turney, Rob Parrish, Andy Simmonett\n",
      "                          and Daniel G. A. Smith\n",
      "                              RHF Reference\n",
      "                        1 Threads,    500 MiB Core\n",
      "         ---------------------------------------------------------\n",
      "\n",
      "  ==> Geometry <==\n",
      "\n",
      "    Molecular point group: c1\n",
      "    Full point group: C_inf_v\n",
      "\n",
      "    Geometry (in Angstrom), charge = -1, multiplicity = 1:\n",
      "\n",
      "       Center              X                  Y                   Z               Mass       \n",
      "    ------------   -----------------  -----------------  -----------------  -----------------\n",
      "         O            0.000000000000     0.000000000000    -0.053346845719    15.994914619570\n",
      "         H            0.000000000000     0.000000000000     0.846653154281     1.007825032230\n",
      "\n",
      "  Running in c1 symmetry.\n",
      "\n",
      "  Rotational constants: A = ************  B =     21.95146  C =     21.95146 [cm^-1]\n",
      "  Rotational constants: A = ************  B = 658088.07032  C = 658088.07032 [MHz]\n",
      "  Nuclear repulsion =    4.703797428177777\n",
      "\n",
      "  Charge       = -1\n",
      "  Multiplicity = 1\n",
      "  Electrons    = 10\n",
      "  Nalpha       = 5\n",
      "  Nbeta        = 5\n",
      "\n",
      "  ==> Algorithm <==\n",
      "\n",
      "  SCF Algorithm Type is PK.\n",
      "  DIIS enabled.\n",
      "  MOM disabled.\n",
      "  Fractional occupation disabled.\n",
      "  Guess Type is SAD.\n",
      "  Energy threshold   = 1.00e-10\n",
      "  Density threshold  = 1.00e-10\n",
      "  Integral threshold = 1.00e-12\n",
      "\n",
      "  ==> Primary Basis <==\n",
      "\n",
      "  Basis Set: 6-31G\n",
      "    Blend: 6-31G\n",
      "    Number of shells: 7\n",
      "    Number of basis functions: 11\n",
      "    Number of Cartesian functions: 11\n",
      "    Spherical Harmonics?: false\n",
      "    Max angular momentum: 1\n",
      "\n",
      "  ==> Integral Setup <==\n",
      "\n",
      "  Using in-core PK algorithm.\n",
      "   Calculation information:\n",
      "      Number of atoms:                   2\n",
      "      Number of AO shells:               7\n",
      "      Number of primitives:             18\n",
      "      Number of atomic orbitals:        11\n",
      "      Number of basis functions:        11\n",
      "\n",
      "      Integral cutoff                 1.00e-12\n",
      "      Number of threads:                 1\n",
      "\n",
      "  Performing in-core PK\n",
      "  Using 4422 doubles for integral storage.\n",
      "  We computed 406 shell quartets total.\n",
      "  Whereas there are 406 unique shell quartets.\n",
      "\n",
      "  ==> DiskJK: Disk-Based J/K Matrices <==\n",
      "\n",
      "    J tasked:                  Yes\n",
      "    K tasked:                  Yes\n",
      "    wK tasked:                  No\n",
      "    Memory [MiB]:              375\n",
      "    Schwarz Cutoff:          1E-12\n",
      "\n",
      "    OpenMP threads:              1\n",
      "\n",
      "  Minimum eigenvalue in the overlap matrix is 7.3850991044E-02.\n",
      "  Reciprocal condition number of the overlap matrix is 2.5233336498E-02.\n",
      "    Using symmetric orthogonalization.\n",
      "\n",
      "  ==> Pre-Iterations <==\n",
      "\n",
      "  SCF Guess: Superposition of Atomic Densities via on-the-fly atomic UHF (no occupation information).\n",
      "\n",
      "   -------------------------\n",
      "    Irrep   Nso     Nmo    \n",
      "   -------------------------\n",
      "     A         11      11 \n",
      "   -------------------------\n",
      "    Total      11      11\n",
      "   -------------------------\n",
      "\n",
      "  ==> Iterations <==\n",
      "\n",
      "                        Total Energy        Delta E     RMS |[F,P]|\n",
      "\n",
      "   @RHF iter SAD:   -74.70519180736063   -7.47052e+01   0.00000e+00 \n",
      "   @RHF iter   1:   -75.14407233079490   -4.38881e-01   5.80187e-02 ADIIS/DIIS\n",
      "   @RHF iter   2:   -75.25217381911550   -1.08101e-01   3.54203e-02 ADIIS/DIIS\n",
      "   @RHF iter   3:   -75.30416465920078   -5.19908e-02   5.00967e-03 ADIIS/DIIS\n",
      "   @RHF iter   4:   -75.30549537130665   -1.33071e-03   4.69887e-04 ADIIS/DIIS\n",
      "   @RHF iter   5:   -75.30552370126217   -2.83300e-05   5.84980e-05 DIIS\n",
      "   @RHF iter   6:   -75.30552424669382   -5.45432e-07   5.21952e-06 DIIS\n",
      "   @RHF iter   7:   -75.30552424958407   -2.89025e-09   4.25476e-07 DIIS\n",
      "   @RHF iter   8:   -75.30552424959960   -1.55325e-11   6.00959e-08 DIIS\n",
      "   @RHF iter   9:   -75.30552424960011   -5.11591e-13   5.56563e-09 DIIS\n",
      "   @RHF iter  10:   -75.30552424960017   -5.68434e-14   3.19072e-10 DIIS\n",
      "   @RHF iter  11:   -75.30552424960008    8.52651e-14   3.09528e-11 DIIS\n",
      "  Energy and wave function converged.\n",
      "\n",
      "\n",
      "  ==> Post-Iterations <==\n",
      "\n",
      "    Orbital Energies [Eh]\n",
      "    ---------------------\n",
      "\n",
      "    Doubly Occupied:                                                      \n",
      "\n",
      "       1A    -20.073954     2A     -0.849076     3A     -0.174188  \n",
      "       4A     -0.033562     5A     -0.033562  \n",
      "\n",
      "    Virtual:                                                              \n",
      "\n",
      "       6A      0.567595     7A      1.566887     8A      1.595056  \n",
      "       9A      1.595056    10A      1.672706    11A      1.985458  \n",
      "\n",
      "    Final Occupation by Irrep:\n",
      "              A \n",
      "    DOCC [     5 ]\n",
      "    NA   [     5 ]\n",
      "    NB   [     5 ]\n",
      "\n",
      "  @RHF Final Energy:   -75.30552424960008\n",
      "\n",
      "   => Energetics <=\n",
      "\n",
      "    Nuclear Repulsion Energy =              4.7037974281777775\n",
      "    One-Electron Energy =                -117.6899589748787207\n",
      "    Two-Electron Energy =                  37.6806372971008443\n",
      "    Total Energy =                        -75.3055242496000972\n",
      "\n",
      "Computation Completed\n",
      "\n",
      "\n",
      "Properties will be evaluated at   0.000000,   0.000000,   0.000000 [a0]\n",
      "\n",
      "Properties computed using the SCF density matrix\n",
      "\n",
      "\n",
      " Multipole Moments:\n",
      "\n",
      " ------------------------------------------------------------------------------------\n",
      "     Multipole            Electronic (a.u.)      Nuclear  (a.u.)        Total (a.u.)\n",
      " ------------------------------------------------------------------------------------\n",
      "\n",
      " L = 1.  Multiply by 2.5417464519 to convert [e a0] to [Debye]\n",
      " Dipole X            :         -0.0000000            0.0000000           -0.0000000\n",
      " Dipole Y            :         -0.0000000            0.0000000           -0.0000000\n",
      " Dipole Z            :         -0.1582725            0.7934552            0.6351826\n",
      " Magnitude           :                                                    0.6351826\n",
      "\n",
      " ------------------------------------------------------------------------------------\n",
      "\n",
      "*** tstop() called on CHEM9QDFT72ALT at Tue May 27 20:06:13 2025\n",
      "Module time:\n",
      "\tuser time   =       0.19 seconds =       0.00 minutes\n",
      "\tsystem time =       0.04 seconds =       0.00 minutes\n",
      "\ttotal time  =          0 seconds =       0.00 minutes\n",
      "Total time:\n",
      "\tuser time   =       0.19 seconds =       0.00 minutes\n",
      "\tsystem time =       0.04 seconds =       0.00 minutes\n",
      "\ttotal time  =          0 seconds =       0.00 minutes\n"
     ]
    }
   ],
   "source": [
    "psi4.set_options({\n",
    "    'CUBEPROP_TASKS': ['ORBITALS'], \n",
    "    'CUBEPROP_ORBITALS': [3,4,5,6,7,8],\n",
    "})\n",
    "energy, wfn = psi4.energy(\"scf/6-31G\", molecule=mol, return_wfn=True)\n",
    "\n"
   ]
  },
  {
   "cell_type": "code",
   "execution_count": 4,
   "id": "0954c6f8-ac5a-4092-ac65-7c75b32cdffa",
   "metadata": {},
   "outputs": [
    {
     "name": "stdout",
     "output_type": "stream",
     "text": [
      "  ==> One Electron Grid Properties (v2.0) <==\n",
      "\n",
      "  ==> CubicScalarGrid <==\n",
      "\n",
      "    Filepath     = .\n",
      "    Total Points =            84050\n",
      "    XYZ Blocking =               10\n",
      "    X Points     =               41\n",
      "    Y Points     =               41\n",
      "    Z Points     =               50\n",
      "    X Spacing    =        2.000E-01\n",
      "    Y Spacing    =        2.000E-01\n",
      "    Z Spacing    =        2.000E-01\n",
      "    X Minimum    =       -4.000E+00\n",
      "CubeViewer: listing cube files from the directory .\n",
      "    Y Minimum    =       -4.000E+00\n",
      "    Z Minimum    =       -4.150E+00\n",
      "    X Maximum    =        4.000E+00\n",
      "    Y Maximum    =        4.000E+00\n",
      "    Z Maximum    =        5.650E+00\n",
      "\n",
      "  Basis Set: 6-31G\n",
      "    Blend: 6-31G\n",
      "    Number of shells: 7\n",
      "    Number of basis functions: 11\n",
      "    Number of Cartesian functions: 11\n",
      "    Spherical Harmonics?: false\n",
      "    Max angular momentum: 1\n",
      "\n",
      "Reading 6 cube files\n"
     ]
    },
    {
     "data": {
      "application/vnd.jupyter.widget-view+json": {
       "model_id": "7b45fd0e4f9240bd80a8e6635a700fb4",
       "version_major": 2,
       "version_minor": 0
      },
      "text/plain": [
       "VBox(children=(HTML(value='<div align=\"center\" style=\"font-size:16px;font-family:Helvetica;font-weight: bold;\"…"
      ]
     },
     "metadata": {},
     "output_type": "display_data"
    },
    {
     "data": {
      "application/vnd.jupyter.widget-view+json": {
       "model_id": "e69ebb9c38a244fca1c7d1601f168e7d",
       "version_major": 2,
       "version_minor": 0
      },
      "text/plain": [
       "HTML(value='\\n        <style>\\n           .jupyter-widgets-output-area .output_scroll {\\n                heigh…"
      ]
     },
     "metadata": {},
     "output_type": "display_data"
    },
    {
     "data": {
      "application/vnd.jupyter.widget-view+json": {
       "model_id": "a9c873b466114c7a812b47796b5101f1",
       "version_major": 2,
       "version_minor": 0
      },
      "text/plain": [
       "interactive(children=(Select(description='Cube files:', options=('MO    3a (3-A)', 'MO    4a (4-A)', 'MO    5a…"
      ]
     },
     "metadata": {},
     "output_type": "display_data"
    },
    {
     "data": {
      "text/plain": [
       "<fortecubeview.cube_viewer.CubeViewer at 0x132b81990>"
      ]
     },
     "execution_count": 4,
     "metadata": {},
     "output_type": "execute_result"
    }
   ],
   "source": [
    "cube = psi4.cubeprop(wfn)\n",
    "fortecubeview.plot()"
   ]
  },
  {
   "cell_type": "code",
   "execution_count": 12,
   "id": "64f75500-2450-4e08-83de-923f74645909",
   "metadata": {},
   "outputs": [
    {
     "name": "stdout",
     "output_type": "stream",
     "text": [
      "6.042317015224304\n"
     ]
    }
   ],
   "source": [
    "C_origin = np.loadtxt(\"natural_orbital_6_6_1.out\")\n",
    "C_disp   = np.loadtxt(\"natural_orbital_6_6_2.out\")\n",
    "\n",
    "print(np.linalg.norm(C_origin- C_disp))"
   ]
  },
  {
   "cell_type": "code",
   "execution_count": 6,
   "id": "8b6f510d-31d0-4ba2-a3f1-8f6bdc28ca3b",
   "metadata": {},
   "outputs": [
    {
     "name": "stdout",
     "output_type": "stream",
     "text": [
      "   => Loading Basis Set <=\n",
      "\n",
      "    Name: 6-31G\n",
      "    Role: ORBITAL\n",
      "    Keyword: BASIS\n",
      "    atoms 1 entry O          line   117 file /Users/jfoley19/miniconda3/envs/psi4_new/share/psi4/basis/6-31g.gbs \n",
      "    atoms 2 entry H          line    26 file /Users/jfoley19/miniconda3/envs/psi4_new/share/psi4/basis/6-31g.gbs \n",
      "\n"
     ]
    }
   ],
   "source": [
    "# get the psi4 wavefunction as a dictionary\n",
    "rhf_wfn_dict = psi4.core.Wavefunction.to_file(wfn)\n",
    "\n",
    "# swap out orbitals in the dictionary with our orbitals from CQED-RHF\n",
    "rhf_wfn_dict['matrix']['Ca'] = C_origin\n",
    "rhf_wfn_dict['matrix']['Cb'] = C_origin\n",
    "\n",
    "# Now create a new wavefunction object that has the CQED-RHF orbitals 'cqedrhf_wfn'\n",
    "cqedrhf_wfn = psi4.core.Wavefunction.from_file(rhf_wfn_dict) \n",
    "\n",
    "# Confirm you have copied the CQED-RHF orbitals properly \n",
    "# by again getting a dic of the wavefunction and comparing\n",
    "# the orbitals to the original numpy array 'C' that resulted\n",
    "# from the CQED-RHF iterations\n",
    "cqedrhf_wfn_dict = psi4.core.Wavefunction.to_file(cqedrhf_wfn)\n",
    "\n",
    "assert np.allclose(cqedrhf_wfn_dict['matrix']['Ca'], C_origin, 1e-6)"
   ]
  },
  {
   "cell_type": "code",
   "execution_count": 7,
   "id": "4d080e69-ee2a-4de2-bd67-e9d380a285c9",
   "metadata": {},
   "outputs": [
    {
     "name": "stdout",
     "output_type": "stream",
     "text": [
      "  ==> One Electron Grid Properties (v2.0) <==\n",
      "\n",
      "  ==> CubicScalarGrid <==\n",
      "\n",
      "    Filepath     = .\n",
      "    Total Points =            84050\n",
      "    XYZ Blocking =               10\n",
      "    X Points     =               41\n",
      "    Y Points     =               41\n",
      "    Z Points     =               50\n",
      "    X Spacing    =        2.000E-01\n",
      "    Y Spacing    =        2.000E-01\n",
      "    Z Spacing    =        2.000E-01\n",
      "    X Minimum    =       -4.000E+00\n",
      "CubeViewer: listing cube files from the directory .\n",
      "    Y Minimum    =       -4.000E+00\n",
      "    Z Minimum    =       -4.150E+00\n",
      "    X Maximum    =        4.000E+00\n",
      "    Y Maximum    =        4.000E+00\n",
      "    Z Maximum    =        5.650E+00\n",
      "\n",
      "  Basis Set: 6-31G\n",
      "    Blend: 6-31G\n",
      "    Number of shells: 7\n",
      "    Number of basis functions: 11\n",
      "    Number of Cartesian functions: 11\n",
      "    Spherical Harmonics?: false\n",
      "    Max angular momentum: 1\n",
      "\n",
      "Reading 6 cube files\n"
     ]
    },
    {
     "data": {
      "application/vnd.jupyter.widget-view+json": {
       "model_id": "1a0a826d43214608ac112d29b94754b0",
       "version_major": 2,
       "version_minor": 0
      },
      "text/plain": [
       "VBox(children=(HTML(value='<div align=\"center\" style=\"font-size:16px;font-family:Helvetica;font-weight: bold;\"…"
      ]
     },
     "metadata": {},
     "output_type": "display_data"
    },
    {
     "data": {
      "application/vnd.jupyter.widget-view+json": {
       "model_id": "3bb369f3bed940f6b0971eaf1049cf7f",
       "version_major": 2,
       "version_minor": 0
      },
      "text/plain": [
       "HTML(value='\\n        <style>\\n           .jupyter-widgets-output-area .output_scroll {\\n                heigh…"
      ]
     },
     "metadata": {},
     "output_type": "display_data"
    },
    {
     "data": {
      "application/vnd.jupyter.widget-view+json": {
       "model_id": "adb6b8dc94a1416caa43d0b1857bdf46",
       "version_major": 2,
       "version_minor": 0
      },
      "text/plain": [
       "interactive(children=(Select(description='Cube files:', options=('MO    3a (3-A)', 'MO    4a (4-A)', 'MO    5a…"
      ]
     },
     "metadata": {},
     "output_type": "display_data"
    },
    {
     "data": {
      "text/plain": [
       "<fortecubeview.cube_viewer.CubeViewer at 0x16c2f8310>"
      ]
     },
     "execution_count": 7,
     "metadata": {},
     "output_type": "execute_result"
    }
   ],
   "source": [
    "cube = psi4.cubeprop(cqedrhf_wfn)\n",
    "fortecubeview.plot()"
   ]
  },
  {
   "cell_type": "code",
   "execution_count": 8,
   "id": "ca8d0eee-6190-4a3a-b3c1-6c3dd4f444a9",
   "metadata": {},
   "outputs": [
    {
     "name": "stdout",
     "output_type": "stream",
     "text": [
      "   => Loading Basis Set <=\n",
      "\n",
      "    Name: 6-31G\n",
      "    Role: ORBITAL\n",
      "    Keyword: BASIS\n",
      "    atoms 1 entry O          line   117 file /Users/jfoley19/miniconda3/envs/psi4_new/share/psi4/basis/6-31g.gbs \n",
      "    atoms 2 entry H          line    26 file /Users/jfoley19/miniconda3/envs/psi4_new/share/psi4/basis/6-31g.gbs \n",
      "\n"
     ]
    }
   ],
   "source": [
    "# get the psi4 wavefunction as a dictionary\n",
    "rhf_wfn_dict = psi4.core.Wavefunction.to_file(wfn)\n",
    "\n",
    "# swap out orbitals in the dictionary with our orbitals from CQED-RHF\n",
    "rhf_wfn_dict['matrix']['Ca'] = C_disp\n",
    "rhf_wfn_dict['matrix']['Cb'] = C_disp\n",
    "\n",
    "# Now create a new wavefunction object that has the CQED-RHF orbitals 'cqedrhf_wfn'\n",
    "cqedrhf_wfn = psi4.core.Wavefunction.from_file(rhf_wfn_dict) \n",
    "\n",
    "# Confirm you have copied the CQED-RHF orbitals properly \n",
    "# by again getting a dic of the wavefunction and comparing\n",
    "# the orbitals to the original numpy array 'C' that resulted\n",
    "# from the CQED-RHF iterations\n",
    "cqedrhf_wfn_dict = psi4.core.Wavefunction.to_file(cqedrhf_wfn)\n",
    "\n",
    "assert np.allclose(cqedrhf_wfn_dict['matrix']['Ca'], C_disp, 1e-6)"
   ]
  },
  {
   "cell_type": "code",
   "execution_count": 9,
   "id": "70d19635-bc9e-4475-9687-2948b813d482",
   "metadata": {},
   "outputs": [
    {
     "name": "stdout",
     "output_type": "stream",
     "text": [
      "  ==> One Electron Grid Properties (v2.0) <==\n",
      "\n",
      "  ==> CubicScalarGrid <==\n",
      "\n",
      "    Filepath     = .\n",
      "    Total Points =            84050\n",
      "    XYZ Blocking =               10\n",
      "    X Points     =               41\n",
      "    Y Points     =               41\n",
      "    Z Points     =               50\n",
      "    X Spacing    =        2.000E-01\n",
      "    Y Spacing    =        2.000E-01\n",
      "    Z Spacing    =        2.000E-01\n",
      "    X Minimum    =       -4.000E+00\n",
      "    Y Minimum    =       -4.000E+00\n",
      "    Z Minimum    =       -4.150E+00\n",
      "    X Maximum    =        4.000E+00\n",
      "    Y Maximum    =        4.000E+00\n",
      "    Z Maximum    =        5.650E+00\n",
      "\n",
      "  Basis Set: 6-31G\n",
      "    Blend: 6-31G\n",
      "    Number of shells: 7\n",
      "    Number of basis functions: 11\n",
      "    Number of Cartesian functions: 11\n",
      "    Spherical Harmonics?: false\n",
      "    Max angular momentum: 1\n",
      "\n",
      "CubeViewer: listing cube files from the directory .\n",
      "Reading 6 cube files\n"
     ]
    },
    {
     "data": {
      "application/vnd.jupyter.widget-view+json": {
       "model_id": "b3a752253266452da14f7ce37c7486bd",
       "version_major": 2,
       "version_minor": 0
      },
      "text/plain": [
       "VBox(children=(HTML(value='<div align=\"center\" style=\"font-size:16px;font-family:Helvetica;font-weight: bold;\"…"
      ]
     },
     "metadata": {},
     "output_type": "display_data"
    },
    {
     "data": {
      "application/vnd.jupyter.widget-view+json": {
       "model_id": "cc443e8f833e485ab4b3037c3e1fd15d",
       "version_major": 2,
       "version_minor": 0
      },
      "text/plain": [
       "HTML(value='\\n        <style>\\n           .jupyter-widgets-output-area .output_scroll {\\n                heigh…"
      ]
     },
     "metadata": {},
     "output_type": "display_data"
    },
    {
     "data": {
      "application/vnd.jupyter.widget-view+json": {
       "model_id": "53c3610c18c14601a23610bcaa2a9317",
       "version_major": 2,
       "version_minor": 0
      },
      "text/plain": [
       "interactive(children=(Select(description='Cube files:', options=('MO    3a (3-A)', 'MO    4a (4-A)', 'MO    5a…"
      ]
     },
     "metadata": {},
     "output_type": "display_data"
    },
    {
     "data": {
      "text/plain": [
       "<fortecubeview.cube_viewer.CubeViewer at 0x316945490>"
      ]
     },
     "execution_count": 9,
     "metadata": {},
     "output_type": "execute_result"
    }
   ],
   "source": [
    "cube = psi4.cubeprop(cqedrhf_wfn)\n",
    "fortecubeview.plot()"
   ]
  },
  {
   "cell_type": "code",
   "execution_count": null,
   "id": "e663b790-8ff7-4e96-95f6-3db558afa2c6",
   "metadata": {},
   "outputs": [],
   "source": []
  }
 ],
 "metadata": {
  "kernelspec": {
   "display_name": "Python 3 (ipykernel)",
   "language": "python",
   "name": "python3"
  },
  "language_info": {
   "codemirror_mode": {
    "name": "ipython",
    "version": 3
   },
   "file_extension": ".py",
   "mimetype": "text/x-python",
   "name": "python",
   "nbconvert_exporter": "python",
   "pygments_lexer": "ipython3",
   "version": "3.11.12"
  }
 },
 "nbformat": 4,
 "nbformat_minor": 5
}
