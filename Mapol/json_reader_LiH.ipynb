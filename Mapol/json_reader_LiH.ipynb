{
 "cells": [
  {
   "cell_type": "code",
   "execution_count": null,
   "id": "a9158428",
   "metadata": {},
   "outputs": [],
   "source": [
    "import os\n",
    "import numpy as np\n",
    "import json\n",
    "import glob"
   ]
  },
  {
   "cell_type": "code",
   "execution_count": null,
   "id": "a48712bd",
   "metadata": {},
   "outputs": [],
   "source": [
    "# grab all of the files that end in .json from the LiH/qed_fci/bond_stretch_50_points folder\n",
    "filelocation = os.path.join('LiH', 'qed_fci', 'bond_stretch_50_points', '*.json')\n",
    "filenames = glob.glob(filelocation)"
   ]
  },
  {
   "cell_type": "code",
   "execution_count": null,
   "id": "37ad78f5",
   "metadata": {},
   "outputs": [],
   "source": [
    "# array of bondlengths - 50\n",
    "r_array = np.linspace(1.4, 2.2, 50)\n",
    "\n",
    "# energy array - 10 different photon bases, 7 different electronic states, 50 different geometries\n",
    "e_array = np.zeros((11, 7, 50))"
   ]
  },
  {
   "cell_type": "code",
   "execution_count": null,
   "id": "6f88d8d9",
   "metadata": {},
   "outputs": [],
   "source": [
    "# loop over the files\n",
    "r_vals = []\n",
    "energy_vals = []\n",
    "for file in filenames:\n",
    "    f = open(file)\n",
    "    data = json.load(f)\n",
    "    \n",
    "    # get the bondlength\n",
    "    r_curr = data[\"bond_length\"]\n",
    "    \n",
    "    # figure out which bondlength index this corresponds to\n",
    "    r_idx = np.abs(r_array - r_curr).argmin()\n",
    "    \n",
    "    # get the photon number - this number is also the corresponding photon index\n",
    "    ph_idx = data[\"model\"][\"number_of_photon_states\"]\n",
    "    \n",
    "    # get the qed_fci roots\n",
    "    eigs = data[\"return_result\"]\n",
    "    \n",
    "    # store the roots in the right place based on bondlength and photon number\n",
    "    e_array[ph_idx, :, r_idx] = np.array(eigs)\n"
   ]
  },
  {
   "cell_type": "code",
   "execution_count": null,
   "id": "e330c1a5",
   "metadata": {},
   "outputs": [],
   "source": [
    "# plot the ground state curves from first 5 sets of data based on maximum photon occupation state\n",
    "from matplotlib import pyplot as plt\n",
    "plt.plot(r_array, e_array[5,0,:], label='5')\n",
    "plt.plot(r_array, e_array[4,0,:], label='4')\n",
    "plt.plot(r_array, e_array[3,0,:], label='3')\n",
    "plt.plot(r_array, e_array[2,0,:], label='2')\n",
    "plt.plot(r_array, e_array[1,0,:], label='1')\n",
    "plt.legend()\n",
    "plt.xlim(1.45, 1.65)\n",
    "plt.ylim(-7.87925, -7.8775)\n",
    "plt.show()"
   ]
  }
 ],
 "metadata": {
  "kernelspec": {
   "display_name": "Python 3 (ipykernel)",
   "language": "python",
   "name": "python3"
  },
  "language_info": {
   "codemirror_mode": {
    "name": "ipython",
    "version": 3
   },
   "file_extension": ".py",
   "mimetype": "text/x-python",
   "name": "python",
   "nbconvert_exporter": "python",
   "pygments_lexer": "ipython3",
   "version": "3.9.13"
  }
 },
 "nbformat": 4,
 "nbformat_minor": 5
}
