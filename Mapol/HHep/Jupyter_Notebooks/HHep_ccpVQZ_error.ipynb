{
 "cells": [
  {
   "cell_type": "code",
   "execution_count": 1,
   "id": "e73db606-19e2-43a8-867e-f9654211a981",
   "metadata": {},
   "outputs": [],
   "source": [
    "import numpy as np\n",
    "import sys\n",
    "import psi4\n",
    "from helper_PFCI import PFHamiltonianGenerator\n",
    "np.set_printoptions(threshold=sys.maxsize)\n",
    "psi4.core.set_output_file('output.dat', False)\n",
    "import time\n",
    "import json\n"
   ]
  },
  {
   "cell_type": "code",
   "execution_count": 2,
   "id": "bb782a5b-1eff-477e-8bf3-4df088a0d48b",
   "metadata": {},
   "outputs": [],
   "source": [
    "qed_fci_qz_large_lambda = np.array([\n",
    " -2.9773960939e+00,\n",
    " -2.1846350116e+00,\n",
    " -2.0247781044e+00,\n",
    " -2.0023579319e+00,\n",
    " -1.7700528337e+00,\n",
    " -1.7270874847e+00,\n",
    " -1.7270874847e+00,\n",
    " -1.7220652946e+00,\n",
    " -1.6602926834e+00,\n",
    " -1.6602926834e+00]\n",
    ")\n",
    "\n",
    "\n",
    "\n",
    "\n",
    "\n",
    "# these file names should still be good\n",
    "qz_en_file = \"HHep_fci_cc-pVQZ_Energies.npy\"\n",
    "qz_mu_file = \"HHep_fci_cc-pVQZ_Dipoles.npy\"\n",
    "\n",
    "\n",
    "qz_en = np.load(qz_en_file)\n",
    "qz_mu = np.load(qz_mu_file)\n"
   ]
  },
  {
   "cell_type": "code",
   "execution_count": 3,
   "id": "77b572e6-6536-4842-b9fd-63937c84c8ba",
   "metadata": {},
   "outputs": [
    {
     "name": "stdout",
     "output_type": "stream",
     "text": [
      "\n",
      "Start SCF iterations:\n",
      "\n",
      "Canonical RHF One-electron energy = -12.6946346236296055\n",
      "CQED-RHF One-electron energy      = -12.6946346236296055\n",
      "Nuclear repulsion energy          = 1.1339511657214287\n",
      "Dipole energy                     = 0.0000000000000000\n",
      "SCF Iteration   1: Energy = -7.8605386610570473   dE = -7.86054E+00   dRMS = 1.78646E-13\n",
      "SCF Iteration   2: Energy = -7.8605386610570420   dE =  5.32907E-15   dRMS = 3.97604E-14\n",
      "Total time for SCF iterations: 0.000 seconds \n",
      "\n",
      "QED-RHF   energy: -7.86053866 hartree\n",
      "Psi4  SCF energy: -7.86053866 hartree\n",
      " Completed QED-RHF in 0.2068190574645996 seconds\n",
      " Completed 1HSO Build in 4.410743713378906e-05 seconds\n",
      " Completed ERI Build in 0.001107931137084961 seconds \n",
      " Completed 2D build in 0.00012612342834472656 seconds\n",
      " Completed 1G build in 1.2874603271484375e-05 seconds\n",
      " Completed the Dipole Matrix Build in 3.314018249511719e-05 seconds\n",
      " Completed determinant list in 0.00043702125549316406 seconds \n",
      " Completed constant offset matrix in 0.00016307830810546875 seconds\n",
      " Completed Hamiltonian build in 0.7237849235534668 seconds\n"
     ]
    }
   ],
   "source": [
    "# setup basic arguments to create an instance of the PFHamiltonianGenerator class\n",
    "mol_str = \"\"\"\n",
    "Li\n",
    "H 1 1.4\n",
    "symmetry c1\n",
    "\"\"\"\n",
    "\n",
    "options_dict = {\n",
    "    \"basis\": \"sto-3g\",\n",
    "    \"scf_type\": \"pk\",\n",
    "    \"e_convergence\": 1e-10,\n",
    "    \"d_convergence\": 1e-10,\n",
    "}\n",
    "\n",
    "\n",
    "cavity_free_dict = {\n",
    "    'omega_value' : 0.0,\n",
    "    'lambda_vector' : np.array([0, 0, 0.0]),\n",
    "    'ci_level' : 'fci',   \n",
    "    'full_diagonalization' : True,\n",
    "    'number_of_photons' : 0, \n",
    "}\n",
    "\n",
    "# create the instance of our PFHamiltonianGenerator class\n",
    "qz_inst = PFHamiltonianGenerator(mol_str, options_dict, cavity_free_dict)"
   ]
  },
  {
   "cell_type": "code",
   "execution_count": 7,
   "id": "55c8867f-8b75-48d9-b3c0-1c8b6c35a54d",
   "metadata": {},
   "outputs": [],
   "source": [
    "# number of adiabatic states for each basis set\n",
    "N_el_qz = len(qz_en)\n",
    "\n",
    "# define 95% and 100% of electronic states\n",
    "N_el_95_pct = 3420\n",
    "N_el_100_pct = 3600\n",
    "\n",
    "# number of photonic states\n",
    "N_ph = 10\n",
    "\n",
    "# omega\n",
    "omega_qz = 0.9637811053\n",
    "\n",
    "# lambda vector\n",
    "lambda_vector = np.array([0., 0., 0.02])"
   ]
  },
  {
   "cell_type": "code",
   "execution_count": null,
   "id": "a59e21fc-c046-4f61-bf92-758ec75275a3",
   "metadata": {},
   "outputs": [],
   "source": [
    "\n",
    "# build PCQED Hamiltonian\n",
    "qz_inst.fast_build_pcqed_pf_hamiltonian(N_el_100_pct, N_ph, omega_qz, lambda_vector, qz_en, qz_mu, neglect_DSE=False)"
   ]
  },
  {
   "cell_type": "code",
   "execution_count": null,
   "id": "519ee1a0-6d16-4c0b-a02b-9e00ccc0373b",
   "metadata": {},
   "outputs": [],
   "source": [
    "ei = np.copy(qz_inst.PCQED_pf_eigs[:6])\n",
    "print(F' {N_el_list_qz[i]}, {ei[0]:12.10e},{ei[1]:12.10e},{ei[2]:12.10e},{ei[3]:12.10e},{ei[4]:12.10e},{ei[5]:12.10e}')"
   ]
  }
 ],
 "metadata": {
  "kernelspec": {
   "display_name": "Python 3 (ipykernel)",
   "language": "python",
   "name": "python3"
  },
  "language_info": {
   "codemirror_mode": {
    "name": "ipython",
    "version": 3
   },
   "file_extension": ".py",
   "mimetype": "text/x-python",
   "name": "python",
   "nbconvert_exporter": "python",
   "pygments_lexer": "ipython3",
   "version": "3.9.18"
  }
 },
 "nbformat": 4,
 "nbformat_minor": 5
}
