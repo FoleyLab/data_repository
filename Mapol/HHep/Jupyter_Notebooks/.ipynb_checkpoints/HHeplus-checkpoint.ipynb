{
 "cells": [
  {
   "cell_type": "code",
   "execution_count": 3,
   "id": "a94e832c-9da4-481b-aed6-96ef49a5e03c",
   "metadata": {},
   "outputs": [],
   "source": [
    "# import libraries\n",
    "import numpy as np\n",
    "import sys\n",
    "import psi4\n",
    "from helper_PFCI import PFHamiltonianGenerator\n",
    "np.set_printoptions(threshold=sys.maxsize)\n",
    "psi4.core.set_output_file('output.dat', False)\n",
    "import time\n",
    "import json\n",
    "import matplotlib.pyplot as plt"
   ]
  },
  {
   "cell_type": "code",
   "execution_count": 4,
   "id": "2eeb1f56-2c2d-49f5-bf9e-a668f80c880b",
   "metadata": {},
   "outputs": [
    {
     "name": "stdout",
     "output_type": "stream",
     "text": [
      "\n",
      "Start SCF iterations:\n",
      "\n",
      "Canonical RHF One-electron energy = -5.3279863420457154\n",
      "CQED-RHF One-electron energy      = -5.3279863420457154\n",
      "Nuclear repulsion energy          = 1.3638394576107813\n",
      "Dipole energy                     = 0.0000000000000000\n",
      "SCF Iteration   1: Energy = -2.9328616724098624   dE = -2.93286E+00   dRMS = 8.93373E-13\n",
      "SCF Iteration   2: Energy = -2.9328616724098704   dE = -7.99361E-15   dRMS = 1.65078E-13\n",
      "Total time for SCF iterations: 0.083 seconds \n",
      "\n",
      "QED-RHF   energy: -2.93286167 hartree\n",
      "Psi4  SCF energy: -2.93286167 hartree\n",
      " Completed QED-RHF in 0.5410897731781006 seconds\n",
      " Completed 1HSO Build in 0.021054983139038086 seconds\n",
      " Completed ERI Build in 0.6392090320587158 seconds \n",
      " Completed 2D build in 0.9829211235046387 seconds\n",
      " Completed 1G build in 0.00035691261291503906 seconds\n",
      " Completed the Dipole Matrix Build in 0.02094411849975586 seconds\n",
      " Completed determinant list in 0.005747079849243164 seconds \n",
      " Completed constant offset matrix in 0.038229942321777344 seconds\n",
      " Completed Hamiltonian build in 556.0781619548798 seconds\n",
      " Took 10.452665090560913 s to compute dipole moments new way\n"
     ]
    }
   ],
   "source": [
    "# setup basic arguments to create an instance of the PFHamiltonianGenerator class\n",
    "mol_str = \"\"\"\n",
    "H\n",
    "He 1 0.776011\n",
    "1 1\n",
    "symmetry c1\n",
    "\"\"\"\n",
    "\n",
    "\n",
    "options_dict = {\n",
    "    \"basis\": \"cc-pVQZ\",\n",
    "    \"scf_type\": \"pk\",\n",
    "    \"e_convergence\": 1e-10,\n",
    "    \"d_convergence\": 1e-10,\n",
    "}\n",
    "\n",
    "\n",
    "cavity_free_dict = {\n",
    "    'omega_value' : 0,\n",
    "    'lambda_vector' : np.array([0, 0, 0.0]),\n",
    "    'ci_level' : 'fci',   \n",
    "    'full_diagonalization' : True,\n",
    "    'number_of_photons' : 0, \n",
    "}\n",
    "\n",
    "# create the instance of our PFHamiltonianGenerator class\n",
    "instance = PFHamiltonianGenerator(mol_str, options_dict, cavity_free_dict)\n",
    "# figure out the number of states\n",
    "#_dim = len(instance.CIeigs)\n",
    "# create array of states\n",
    "#states = np.linspace(0, _dim-1, _dim, dtype=int)\n",
    "# compute the dipole moment for all states\n",
    "\n",
    "#start = time.time()\n",
    "#mu_array = instance.compute_dipole_moments(states)\n",
    "#end = time.time()\n",
    "#print(F' Took {end-start} s to compute dipole moments old way')\n",
    "start = time.time()\n",
    "mu_array_fast = instance.fast_compute_dipole_moments()\n",
    "end = time.time()\n",
    "print(F' Took {end-start} s to compute dipole moments new way')\n",
    "\n",
    "#assert np.allclose(mu_array, mu_array_fast, 1e-7, 1e-7)\n",
    "file_string = \"HHep_fci_cc-pVQZ\"\n",
    "E_string = file_string + \"_Energies\"\n",
    "Mu_string = file_string + \"_Dipoles\"\n",
    "\n",
    "#np.save(C_string, test_pf.CIvecs)\n",
    "np.save(E_string, instance.CIeigs)\n",
    "np.save(Mu_string, mu_array_fast)                                         \n"
   ]
  },
  {
   "cell_type": "code",
   "execution_count": null,
   "id": "40120c7b-c028-4e1f-b2d8-cf8d1c5f6b07",
   "metadata": {},
   "outputs": [],
   "source": [
    "print(mu_array)"
   ]
  },
  {
   "cell_type": "code",
   "execution_count": null,
   "id": "b7b17bbc-d764-4f0c-a39b-ef7b49523bda",
   "metadata": {},
   "outputs": [],
   "source": [
    "test_x = np.einsum(\"iI,ik,kJ->IJ\",instance.CIvecs, instance.MU_X, instance.CIvecs) + np.eye(4) * instance.mu_nuc[0]\n",
    "test_y = np.einsum(\"iI,ik,kJ->IJ\",instance.CIvecs, instance.MU_Y, instance.CIvecs) + np.eye(4) * instance.mu_nuc[1]\n",
    "test_z = np.einsum(\"iI,ik,kJ->IJ\",instance.CIvecs, instance.MU_Z, instance.CIvecs) + np.eye(4) * instance.mu_nuc[2]"
   ]
  },
  {
   "cell_type": "code",
   "execution_count": null,
   "id": "1a8f74fe-daed-4109-b1a5-626ae297918e",
   "metadata": {},
   "outputs": [],
   "source": [
    "dipole_array = np.array([test_x, test_y, test_z])\n",
    "print(dipole_array.T)\n",
    "assert np.allclose(mu_array, dipole_array.T, 1e-6, 1e-6)"
   ]
  },
  {
   "cell_type": "code",
   "execution_count": null,
   "id": "7b500817-9dd0-4ab2-9987-347fad4e7dac",
   "metadata": {},
   "outputs": [],
   "source": []
  }
 ],
 "metadata": {
  "kernelspec": {
   "display_name": "Python 3 (ipykernel)",
   "language": "python",
   "name": "python3"
  },
  "language_info": {
   "codemirror_mode": {
    "name": "ipython",
    "version": 3
   },
   "file_extension": ".py",
   "mimetype": "text/x-python",
   "name": "python",
   "nbconvert_exporter": "python",
   "pygments_lexer": "ipython3",
   "version": "3.9.18"
  }
 },
 "nbformat": 4,
 "nbformat_minor": 5
}
