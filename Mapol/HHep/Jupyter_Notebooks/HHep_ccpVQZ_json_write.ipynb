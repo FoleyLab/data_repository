{
 "cells": [
  {
   "cell_type": "code",
   "execution_count": 10,
   "id": "e73db606-19e2-43a8-867e-f9654211a981",
   "metadata": {},
   "outputs": [],
   "source": [
    "import numpy as np\n",
    "import sys\n",
    "import psi4\n",
    "from helper_PFCI import PFHamiltonianGenerator\n",
    "np.set_printoptions(threshold=sys.maxsize)\n",
    "psi4.core.set_output_file('output.dat', False)\n",
    "import time\n",
    "import json\n"
   ]
  },
  {
   "cell_type": "code",
   "execution_count": 11,
   "id": "5ba831dd-95a3-479e-acf5-ca7d52115ae9",
   "metadata": {},
   "outputs": [],
   "source": [
    "file_string = \"HHep_PCQED_2880_10_cc_pVQZ_states\"\n",
    "\n",
    "mol_str = \"\"\"\n",
    "H       \n",
    "HE            1    0.776011\n",
    "1 1\n",
    "symmetry c1\n",
    "\"\"\"\n",
    "\n",
    "l_array = np.array([0., 0.001, 0.002, 0.003, 0.004, 0.005, 0.006, 0.007, 0.008, 0.009, 0.01, 0.011, 0.012, 0.013, 0.014, 0.015, 0.016, 0.017, 0.018, 0.019, 0.02, 0.025, 0.03, 0.035, 0.04, 0.045, 0.05, 0.055, 0.06, 0.065, 0.07, 0.075, 0.08, 0.085, 0.09, 0.095, 0.1])\n",
    "\n",
    "options_dict = { \n",
    "        \"basis\": \"cc-pVQZ\",\n",
    "        \"scf_type\": \"pk\",\n",
    "        \"e_convergence\": 1e-10,\n",
    "        \"d_convergence\": 1e-10,\n",
    "}\n",
    "\n",
    "cavity_dict = {\n",
    "        'omega_value' : 0.9637811053,\n",
    "        'lambda_vector' : np.array([0, 0, 0.01]),\n",
    "        'ci_level' : 'fci',\n",
    "        'davidson_roots' : 10,\n",
    "        'number_of_photons' : 10,\n",
    "        'davidson_threshold' : 1e-9,\n",
    "        'photon_number_basis' : True,\n",
    "        'canonical_mos' : True,\n",
    "        'coherent_state_basis' : False\n",
    "}"
   ]
  },
  {
   "cell_type": "code",
   "execution_count": 12,
   "id": "bdbb9c58-472f-40de-961a-72f3801cb9d3",
   "metadata": {},
   "outputs": [],
   "source": [
    "# set up base dictionary - some of this will be updated with each calculation\n",
    "dictionary = {\n",
    "  \"repo\" : {\n",
    "\n",
    "      \"repository_url\" : \"https://github.com/mapol-chem/qed-ci\",\n",
    "      \"branch\" : \"direct_ci\",\n",
    "      \"commit\" : \"7f25d1c5fd458a06002e79d610aa17399f213f71\"\n",
    "  },\n",
    "\n",
    "  \"molecule\" : {\n",
    "    \"molecule_name\": \"HHe+\",\n",
    "    \"geometry\": [mol_str],\n",
    "    \"symbols\": [\n",
    "            \"H\",\n",
    "            \"He\",\n",
    "    ],\n",
    "    },\n",
    "    \"driver\": \"energy\",\n",
    "    \"model\" : {\n",
    "        \"method\" : \"qed-fci\",\n",
    "        \"orbital_basis\"  : options_dict[\"basis\"],\n",
    "        \"photon_basis\" : \"photon_number_basis\",\n",
    "        \"number_of_photon_states\" : cavity_dict[\"number_of_photons\"],\n",
    "        \"lambda\" : [\n",
    "        ],\n",
    "        \"omega\" : cavity_dict[\"omega_value\"]\n",
    "    },\n",
    "\n",
    "    \"return_result\" : [\n",
    "\n",
    "    ],\n",
    "\n",
    "}\n",
    "\n",
    "def generate_file_name(dictionary):\n",
    "    file_name = dictionary[\"molecule\"][\"molecule_name\"] + \"_lambda_\"\n",
    "    file_name += str(dictionary[\"model\"][\"method\"]) + \"_\"\n",
    "    file_name += str(dictionary[\"model\"][\"orbital_basis\"]) + \"_\"\n",
    "    file_name += str(dictionary[\"model\"][\"photon_basis\"]) + \"_\"\n",
    "    file_name += str(dictionary[\"model\"][\"number_of_photon_states\"]) + \"_\"\n",
    "    #file_name += \"lambda_\" + str(dictionary[\"model\"][\"lambda\"][0])\n",
    "    #file_name += \"_\" + str(dictionary[\"model\"][\"lambda\"][1])\n",
    "    #file_name += \"_\" + str(dictionary[\"model\"][\"lambda\"][2]) + \"_\"\n",
    "    file_name += \"omega_\" + str(dictionary[\"model\"][\"omega\"]) + \".json\"\n",
    "    return file_name\n"
   ]
  },
  {
   "cell_type": "code",
   "execution_count": 13,
   "id": "0eb6465b-b700-4a74-b475-c1cbaea3e2d9",
   "metadata": {},
   "outputs": [],
   "source": [
    "file_name = generate_file_name(dictionary)"
   ]
  },
  {
   "cell_type": "code",
   "execution_count": 14,
   "id": "bb782a5b-1eff-477e-8bf3-4df088a0d48b",
   "metadata": {},
   "outputs": [],
   "source": [
    "qed_fci_qz_large_lambda = np.array([\n",
    " -2.9773960939e+00,\n",
    " -2.1846350116e+00,\n",
    " -2.0247781044e+00,\n",
    " -2.0023579319e+00,\n",
    " -1.7700528337e+00,\n",
    " -1.7270874847e+00,\n",
    " -1.7270874847e+00,\n",
    " -1.7220652946e+00,\n",
    " -1.6602926834e+00,\n",
    " -1.6602926834e+00]\n",
    ")\n",
    "\n",
    "\n",
    "\n",
    "\n",
    "\n",
    "# these file names should still be good\n",
    "qz_en_file = \"HHep_fci_cc-pVQZ_Energies.npy\"\n",
    "qz_mu_file = \"HHep_fci_cc-pVQZ_Dipoles.npy\"\n",
    "\n",
    "\n",
    "qz_en = np.load(qz_en_file)\n",
    "qz_mu = np.load(qz_mu_file)\n"
   ]
  },
  {
   "cell_type": "code",
   "execution_count": 15,
   "id": "77b572e6-6536-4842-b9fd-63937c84c8ba",
   "metadata": {},
   "outputs": [
    {
     "name": "stdout",
     "output_type": "stream",
     "text": [
      "\n",
      "Start SCF iterations:\n",
      "\n",
      "Canonical RHF One-electron energy = -12.6946346236296055\n",
      "CQED-RHF One-electron energy      = -12.6946346236296055\n",
      "Nuclear repulsion energy          = 1.1339511657214287\n",
      "Dipole energy                     = 0.0000000000000000\n",
      "SCF Iteration   1: Energy = -7.8605386610570473   dE = -7.86054E+00   dRMS = 1.78646E-13\n",
      "SCF Iteration   2: Energy = -7.8605386610570420   dE =  5.32907E-15   dRMS = 3.97604E-14\n",
      "Total time for SCF iterations: 0.000 seconds \n",
      "\n",
      "QED-RHF   energy: -7.86053866 hartree\n",
      "Psi4  SCF energy: -7.86053866 hartree\n",
      " Completed QED-RHF in 0.11113309860229492 seconds\n",
      " Completed 1HSO Build in 4.291534423828125e-05 seconds\n",
      " Completed ERI Build in 0.0010542869567871094 seconds \n",
      " Completed 2D build in 9.298324584960938e-05 seconds\n",
      " Completed 1G build in 1.3113021850585938e-05 seconds\n",
      " Completed the Dipole Matrix Build in 3.886222839355469e-05 seconds\n",
      " Completed determinant list in 0.0004742145538330078 seconds \n",
      " Completed constant offset matrix in 0.00011014938354492188 seconds\n",
      " Completed Hamiltonian build in 0.7401149272918701 seconds\n"
     ]
    }
   ],
   "source": [
    "# setup basic arguments to create an instance of the PFHamiltonianGenerator class\n",
    "t_mol_str = \"\"\"\n",
    "Li\n",
    "H 1 1.4\n",
    "symmetry c1\n",
    "\"\"\"\n",
    "\n",
    "t_options_dict = {\n",
    "    \"basis\": \"sto-3g\",\n",
    "    \"scf_type\": \"pk\",\n",
    "    \"e_convergence\": 1e-10,\n",
    "    \"d_convergence\": 1e-10,\n",
    "}\n",
    "\n",
    "\n",
    "t_cavity_free_dict = {\n",
    "    'omega_value' : 0.0,\n",
    "    'lambda_vector' : np.array([0, 0, 0.0]),\n",
    "    'ci_level' : 'fci',   \n",
    "    'full_diagonalization' : True,\n",
    "    'number_of_photons' : 0, \n",
    "}\n",
    "\n",
    "# create the instance of our PFHamiltonianGenerator class\n",
    "qz_inst = PFHamiltonianGenerator(t_mol_str, t_options_dict, t_cavity_free_dict)"
   ]
  },
  {
   "cell_type": "code",
   "execution_count": null,
   "id": "55c8867f-8b75-48d9-b3c0-1c8b6c35a54d",
   "metadata": {},
   "outputs": [
    {
     "name": "stdout",
     "output_type": "stream",
     "text": [
      " Build _A and _O Arrays\n",
      "Built d array\n",
      "Built PCQED Hamiltonian!\n"
     ]
    }
   ],
   "source": [
    "# define 95% and 100% of electronic states\n",
    "N_el = 2880\n",
    "\n",
    "\n",
    "# number of photonic states\n",
    "N_ph = 10\n",
    "\n",
    "# omega\n",
    "omega_qz = 0.9637811053\n",
    "\n",
    "for l in l_array:\n",
    "    l_vector = np.array([0., 0, l])\n",
    "    lam_list = [0, 0, l]\n",
    "    qz_inst.fast_build_pcqed_pf_hamiltonian(N_el, N_ph, omega_qz, l_vector, qz_en, qz_mu, neglect_DSE=False)\n",
    "    ei = np.copy(qz_inst.PCQED_pf_eigs[:6])\n",
    "    dictionary[\"model\"][\"lambda\"].append(lam_list)\n",
    "    dictionary[\"return_result\"].append(list(ei))\n",
    "\n",
    "print(dictionary)\n",
    "\n",
    "json_object = json.dumps(dictionary, indent=4)\n",
    "\n",
    "with open(file_name, \"w\") as outfile:\n",
    "    outfile.write(json_object)\n",
    "\n"
   ]
  },
  {
   "cell_type": "code",
   "execution_count": null,
   "id": "a59e21fc-c046-4f61-bf92-758ec75275a3",
   "metadata": {},
   "outputs": [],
   "source": [
    "\n",
    "# build PCQED Hamiltonian\n",
    "qz_inst.fast_build_pcqed_pf_hamiltonian(N_el_100_pct, N_ph, omega_qz, lambda_vector, qz_en, qz_mu, neglect_DSE=False)"
   ]
  },
  {
   "cell_type": "code",
   "execution_count": null,
   "id": "519ee1a0-6d16-4c0b-a02b-9e00ccc0373b",
   "metadata": {},
   "outputs": [],
   "source": [
    "ei = np.copy(qz_inst.PCQED_pf_eigs[:6])\n",
    "print(F' {N_el_list_qz[i]}, {ei[0]:12.10e},{ei[1]:12.10e},{ei[2]:12.10e},{ei[3]:12.10e},{ei[4]:12.10e},{ei[5]:12.10e}')"
   ]
  }
 ],
 "metadata": {
  "kernelspec": {
   "display_name": "Python 3 (ipykernel)",
   "language": "python",
   "name": "python3"
  },
  "language_info": {
   "codemirror_mode": {
    "name": "ipython",
    "version": 3
   },
   "file_extension": ".py",
   "mimetype": "text/x-python",
   "name": "python",
   "nbconvert_exporter": "python",
   "pygments_lexer": "ipython3",
   "version": "3.9.18"
  }
 },
 "nbformat": 4,
 "nbformat_minor": 5
}
