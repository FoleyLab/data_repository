{
 "cells": [
  {
   "cell_type": "code",
   "execution_count": 2,
   "id": "a3dc0c23-83d3-4b43-ab92-27036a0467f1",
   "metadata": {},
   "outputs": [],
   "source": [
    "import json\n",
    "import numpy as np\n",
    "from matplotlib import pyplot as plt\n",
    "from matplotlib import cm\n",
    "from matplotlib import rcParams\n",
    "import sys\n"
   ]
  },
  {
   "cell_type": "code",
   "execution_count": 76,
   "id": "6499dae0-4381-410e-94df-d608a5b315af",
   "metadata": {},
   "outputs": [
    {
     "name": "stdout",
     "output_type": "stream",
     "text": [
      "0.9760568251\n",
      "0.9654959009\n"
     ]
    }
   ],
   "source": [
    "rdz = \"HHe+_cc-pVDZ_PCQED_10_0.9760568251_new.json\"\n",
    "rtz = \"HHe+_cc-pVTZ_PCQED_10_0.9654959009.json\"\n",
    "rqz = \"HHe+_lambda_PCQED_cc-pVQZ_photon_number_basis_10_omega_0.9637811053.json\"\n",
    "\n",
    "rdz_2 = \"HHe+_cc-pVDZ_PCQED_lambda_0dot1_10_0.9760568251.json\"\n",
    "rtz_2 = \"HHe+_cc-pVTZ_PCQED_lambda_0dot1_10_0.9654959009.json\"\n",
    "\n",
    "# Ruby's DZ data\n",
    "rdz_data = json.load(open(rdz))\n",
    "rdz2_data = json.load(open(rdz_2))\n",
    "\n",
    "rdz_energy = np.array(rdz_data[\"return_result\"])\n",
    "rl_array = np.array(rdz_data[\"lambda\"])\n",
    "\n",
    "rdz2_energy = np.array(rdz2_data[\"return_result\"])\n",
    "rl_array_2 = np.array(rdz2_data[\"lambda\"])\n",
    "\n",
    "# Ruby's TZ data\n",
    "rtz_data = json.load(open(rtz))\n",
    "rtz2_data = json.load(open(rtz_2))\n",
    "\n",
    "rtz_energy = np.array(rtz_data[\"return_result\"])\n",
    "rtz2_energy = np.array(rtz2_data[\"return_result\"])\n",
    "\n",
    "\n",
    "# Ruby'z QZ data\n",
    "rqz_data = json.load(open(rqz))\n",
    "rqz_energy = np.array(rqz_data[\"return_result\"])\n",
    "\n",
    "\n",
    "\n",
    "print(rdz_data[\"omega_value\"])\n",
    "print(rtz_data[\"omega_value\"])\n",
    "#print(rdz_data[\"model\"])\n",
    "fn_dz = \"HHe+_lambda_PCQED_cc-pVDZ_photon_number_basis_10_omega_0.9760568251.json\"\n",
    "fn_tz = \"HHe+_lambda_PCQED_cc-pVTZ_photon_number_basis_10_omega_0.9654959009.json\"\n",
    "#HHe+_lambda_PCQED_cc-pVQZ_photon_number_basis_10_omega_0.9637811053.json"
   ]
  },
  {
   "cell_type": "code",
   "execution_count": 63,
   "id": "cf31a05a-507b-4509-9bb3-c405f941c543",
   "metadata": {},
   "outputs": [
    {
     "name": "stdout",
     "output_type": "stream",
     "text": [
      "16\n"
     ]
    }
   ],
   "source": [
    "N = len(rdz2_energy[:,0])-1\n",
    "print(N)\n",
    "\n",
    "# store dz g, lp, and up data\n",
    "rdz_g = np.concatenate((rdz_energy[:,0],rdz2_energy[:N,0]), axis=0)\n",
    "rdz_lp = np.concatenate((rdz_energy[:,2],rdz2_energy[:N,2]), axis=0)\n",
    "rdz_up = np.concatenate((rdz_energy[:,3],rdz2_energy[:N,3]), axis=0)\n",
    "\n",
    "# store tz g, lp, and up data\n",
    "rtz_g = np.concatenate((rtz_energy[:,0],rtz2_energy[:N,0]), axis=0)\n",
    "rtz_lp = np.concatenate((rtz_energy[:,2],rtz2_energy[:N,2]), axis=0)\n",
    "rtz_up = np.concatenate((rtz_energy[:,3],rtz2_energy[:N,3]), axis=0)\n",
    "\n",
    "# store qz g, lp, and up data\n",
    "#rqz_g = np.copy(r_energyqz[:,0])\n",
    "#rqz_lp = np.copy(r_energyqz[:,2])\n",
    "#rqz_up = np.copy(r_energyqz[:,3]) \n",
    "\n",
    "#N_qz = len(rqz_g)\n"
   ]
  },
  {
   "cell_type": "code",
   "execution_count": 78,
   "id": "443cda78-fc1c-491e-81fb-cd0b252e0c29",
   "metadata": {},
   "outputs": [],
   "source": [
    "new_dz_dict = rqz_data.copy()\n",
    "new_dz_dict[\"return_result\"] = rdz_g.tolist()\n",
    "new_dz_dict[\"model\"][\"orbital_basis\"] = 'cc-pVDZ'\n",
    "new_dz_dict[\"model\"][\"omega\"] = rdz_data[\"omega_value\"]\n",
    "\n",
    "new_tz_dict = rqz_data.copy()\n",
    "new_tz_dict[\"return_result\"] = rtz_g.tolist()\n",
    "new_tz_dict[\"model\"][\"orbital_basis\"] = 'cc-pVTZ'\n",
    "new_tz_dict[\"model\"][\"omega\"] = rtz_data[\"omega_value\"]\n",
    "\n"
   ]
  },
  {
   "cell_type": "code",
   "execution_count": 79,
   "id": "70001179-4952-41df-b41d-dc9d09adce17",
   "metadata": {},
   "outputs": [],
   "source": [
    "json_object = json.dumps(new_dz_dict, indent=4)\n",
    "with open(fn_dz, \"w\") as outfile:\n",
    "    outfile.write(json_object)\n",
    "\n",
    "\n",
    "json_object = json.dumps(new_tz_dict, indent=4)\n",
    "with open(fn_tz, \"w\") as outfile:\n",
    "    outfile.write(json_object)"
   ]
  },
  {
   "cell_type": "code",
   "execution_count": null,
   "id": "05c15827-f7eb-4709-b618-af37180ace90",
   "metadata": {},
   "outputs": [],
   "source": []
  },
  {
   "cell_type": "code",
   "execution_count": null,
   "id": "c2dcdc59-dac9-4cbf-a1e7-a62b774ec57f",
   "metadata": {},
   "outputs": [],
   "source": []
  },
  {
   "cell_type": "code",
   "execution_count": null,
   "id": "e74b1827-3351-4d94-a861-9836da35d5c4",
   "metadata": {},
   "outputs": [],
   "source": []
  }
 ],
 "metadata": {
  "kernelspec": {
   "display_name": "Python 3 (ipykernel)",
   "language": "python",
   "name": "python3"
  },
  "language_info": {
   "codemirror_mode": {
    "name": "ipython",
    "version": 3
   },
   "file_extension": ".py",
   "mimetype": "text/x-python",
   "name": "python",
   "nbconvert_exporter": "python",
   "pygments_lexer": "ipython3",
   "version": "3.12.0"
  }
 },
 "nbformat": 4,
 "nbformat_minor": 5
}
