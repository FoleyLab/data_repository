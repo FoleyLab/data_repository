{
 "cells": [
  {
   "cell_type": "code",
   "execution_count": null,
   "id": "4755d031-e2e4-4fbd-83cc-a1cca3bd446e",
   "metadata": {},
   "outputs": [],
   "source": [
    "import numpy as np\n",
    "from matplotlib import pyplot as plt\n",
    "import json\n",
    "\n",
    "# Load the first several singlet potential energy surfaces between r = 0.5 and r = 3.5 (300 points total)\n",
    "pes = np.load(\"hf_pes_35_states_only_singlets_300_points.npy\")\n",
    "\n",
    "# Load the json file containing Franck-Condon factors between the X ^1\\Sigma^+ and 1\\Delta surfaces \n",
    "qed_fci_fcf = json.load(open(\"FCF_HF_QED-FCI-6311ppGss_1X_1D.json\"))\n"
   ]
  },
  {
   "cell_type": "code",
   "execution_count": null,
   "id": "c7f3540c-8121-4453-9a82-eafc11d40036",
   "metadata": {},
   "outputs": [],
   "source": [
    "# Plot a few of the key potential energy surfaces\n",
    "plt.plot(pes[:,0], pes[:,1], label=\"X $^1 \\Sigma^+$\")\n",
    "plt.plot(pes[:,0], pes[:,4], label=\"B $^1 \\Sigma^+$\")\n",
    "plt.plot(pes[:,0], pes[:,5], label=\"1 $\\Delta$\")\n",
    "plt.plot(pes[:,0], pes[:,8], label=\"7th Singlet Excited State\")\n",
    "plt.legend()\n",
    "plt.show()"
   ]
  },
  {
   "cell_type": "markdown",
   "id": "3530c68b-652f-4e3f-9be6-ce805a1aab20",
   "metadata": {},
   "source": [
    "The Franck-Condon factors are stored in the key \"return_results\",\"franck_condon_factors\" in a list that \n",
    "has $n x n'$ elements long, where $n$ is the number of vibrational states on the lower surface and $n'$ is the number of vibrational states on the upper surface.  These are stored in \"return_results\", \"maximum_franck_condon_factor\"."
   ]
  },
  {
   "cell_type": "code",
   "execution_count": null,
   "id": "ef7ad3b4-3ade-472d-923c-5a34a882b93d",
   "metadata": {},
   "outputs": [],
   "source": [
    "# get dimensions \n",
    "n  = qed_fci_fcf[\"return_results\"][\"maximum_franck_condon_factor\"][0]\n",
    "nprime = qed_fci_fcf[\"return_results\"][\"maximum_franck_condon_factor\"][1]\n",
    "\n",
    "# capture franck-condon factors in a numpy array\n",
    "fcf_array = np.array(qed_fci_fcf[\"return_results\"][\"franck_condon_factors\"])\n",
    "\n",
    "# reshape into a n x nprime array\n",
    "fcf_matrix = fcf_array.reshape(n, nprime)\n",
    "\n",
    "# print Franck-Condon factors between n = 0 and n' = 0, ..., 10\n",
    "print(fcf_matrix[0,:])"
   ]
  },
  {
   "cell_type": "code",
   "execution_count": null,
   "id": "346f0cf6-acae-4ec2-b837-5b2f5115f50d",
   "metadata": {},
   "outputs": [],
   "source": []
  }
 ],
 "metadata": {
  "kernelspec": {
   "display_name": "Python 3 (ipykernel)",
   "language": "python",
   "name": "python3"
  },
  "language_info": {
   "codemirror_mode": {
    "name": "ipython",
    "version": 3
   },
   "file_extension": ".py",
   "mimetype": "text/x-python",
   "name": "python",
   "nbconvert_exporter": "python",
   "pygments_lexer": "ipython3",
   "version": "3.9.18"
  }
 },
 "nbformat": 4,
 "nbformat_minor": 5
}
