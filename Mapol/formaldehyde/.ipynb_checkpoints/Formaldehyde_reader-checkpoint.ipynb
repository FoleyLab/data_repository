{
 "cells": [
  {
   "cell_type": "code",
   "execution_count": 1,
   "id": "a4d953fd",
   "metadata": {},
   "outputs": [],
   "source": [
    "import numpy as np\n",
    "from matplotlib import pyplot as plt\n"
   ]
  },
  {
   "cell_type": "code",
   "execution_count": 2,
   "id": "8bc34079",
   "metadata": {},
   "outputs": [
    {
     "name": "stdout",
     "output_type": "stream",
     "text": [
      "[ 0  1  2  3  4  5  6  7  8  9 10 11 12 13 14 15 16 17 18 19 20 21 22 23\n",
      " 24 25 26 27 28 29 30 31 32 33 34 35 36 37 38 39 40 41 42 43 44 45 46 47\n",
      " 48 49 50 51 52 53 54 55 56 57 58 59 60 61 62 63 64 65 66 67 68 69 70 71\n",
      " 72 73 74 75 76 77 78 79 80 81 82 83 84 85 86 87 88 89 90 91 92 93 94 95\n",
      " 96 97 98 99]\n"
     ]
    }
   ],
   "source": [
    "N_el = 100\n",
    "all_states = np.linspace(0, N_el-1, N_el, dtype=int)\n",
    "print(all_states)\n",
    "E = np.load(\"CH2O_ccPVDZ_CASCI_88_E_Array.npy\")\n",
    "#E66 = np.load(\"CH2O_ccPVDZ_CASCI_66_E_Array.npy\")\n",
    "Mu = np.load(\"CH2O_ccPVDZ_CASCI_88_MU_Array.npy\")"
   ]
  },
  {
   "cell_type": "code",
   "execution_count": null,
   "id": "4d6eaf1e",
   "metadata": {},
   "outputs": [],
   "source": [
    "r_array = np.linspace(1.0, 1.8, 50)\n",
    "\n",
    "safe1_e0 = np.copy(E[:,0])\n",
    "safe1_e1 = np.copy(E[:,1])\n",
    "safe1_e2 = np.copy(E[:,2])\n",
    "safe1_e3 = np.copy(E[:,3])\n",
    "safe1_e4 = np.copy(E[:,4])\n",
    "safe1_e5 = np.copy(E[:,5])\n",
    "\n",
    "\n",
    "\n",
    "\n"
   ]
  },
  {
   "cell_type": "code",
   "execution_count": null,
   "id": "494ea5c6",
   "metadata": {},
   "outputs": [],
   "source": [
    "num_array = np.linspace(0, 49, 50)\n",
    "print(num_array)"
   ]
  },
  {
   "cell_type": "code",
   "execution_count": null,
   "id": "b2a44655",
   "metadata": {},
   "outputs": [],
   "source": [
    "safe2_e0 = np.copy(safe1_e0)\n",
    "safe2_e1 = np.copy(safe1_e1)\n",
    "safe2_e2 = np.copy(safe1_e2)\n",
    "safe2_e3 = np.copy(safe1_e3)\n",
    "safe2_e4 = np.copy(safe1_e4)\n",
    "safe2_e5 = np.copy(safe1_e5)\n",
    "\n"
   ]
  },
  {
   "cell_type": "code",
   "execution_count": null,
   "id": "ec25c71a",
   "metadata": {},
   "outputs": [],
   "source": [
    "safe3_e0 = np.copy(safe2_e0)\n",
    "safe3_e1 = np.copy(safe2_e1)\n",
    "safe3_e2 = np.copy(safe2_e2)\n",
    "safe3_e3 = np.copy(safe2_e3)\n",
    "safe3_e4 = np.copy(safe2_e4)\n",
    "safe3_e5 = np.copy(safe2_e5)"
   ]
  },
  {
   "cell_type": "code",
   "execution_count": null,
   "id": "445057f6",
   "metadata": {},
   "outputs": [],
   "source": [
    "#plt.plot(num_array, E88[:,0], 'black')\n",
    "#plt.plot(num_array, E88[:,1], 'go')\n",
    "#plt.plot(num_array, E88[:,2], 'bo')\n",
    "plt.plot(num_array, E88[:,3], 'r-o')\n",
    "plt.plot(num_array, E88[:,4], 'b-o')\n",
    "plt.plot(num_array, E88[:,5], color=\"orange\" ,marker='o')\n",
    "plt.plot(num_array, E88[:,6], color=\"purple\", marker='o')\n",
    "plt.plot(num_array, E88[:,7], color=\"black\", marker='o')\n",
    "plt.plot(num_array, E88[:,8], color=\"grey\", marker='o')\n",
    "#plt.xlim(0,10)\n",
    "plt.grid()\n",
    "plt.show()\n"
   ]
  },
  {
   "cell_type": "code",
   "execution_count": null,
   "id": "90f428ab",
   "metadata": {},
   "outputs": [],
   "source": [
    "e_g = np.copy(E88[:,0])\n",
    "e_1 = np.zeros(50)\n",
    "e_2 = np.zeros(50)\n",
    "e_3 = np.zeros(50)\n",
    "e_4 = np.zeros(50)\n",
    "e_5 = np.zeros(50)\n",
    "e_6 = np.zeros(50)\n",
    "\n",
    "e_g[:10] = E88[:10,0]\n",
    "e_1[:2] = E88[:2,6]\n",
    "e_1[2:4] = E88[2:4,5]\n",
    "e_1[4:6] = E88[4:6,4]\n",
    "e_1[6:] = E88[6:,3]"
   ]
  },
  {
   "cell_type": "code",
   "execution_count": null,
   "id": "c55d92f0",
   "metadata": {},
   "outputs": [],
   "source": [
    "from numpy.linalg import norm\n",
    "#plt.plot(num_array, E88[:,3], 'r-o')\n",
    "#plt.plot(num_array, E88[:,4], 'b-o')\n",
    "plt.plot(num_array, E88[:,5], color=\"orange\" ,marker='o')\n",
    "plt.plot(num_array, E88[:,6], color=\"purple\", marker='o')\n",
    "#plt.plot(num_array, e_1, color='black', marker='*')\n",
    "plt.plot(num_array, E88[:,7], color=\"black\", marker='o')\n",
    "plt.plot(num_array, E88[:,8], color=\"grey\", marker='o')\n",
    "plt.plot(num_array, E88[:,9], color=\"cyan\", marker='o')\n",
    "plt.grid()\n",
    "plt.xlim(0,15)\n",
    "plt.show()\n",
    "\n",
    "plt.plot(r_array, E88[:,3], 'r-o')\n",
    "plt.plot(r_array, E88[:,4], 'b-o')\n",
    "plt.plot(r_array, E88[:,5], color=\"orange\" ,marker='o')\n",
    "plt.plot(r_array, E88[:,6], color=\"purple\", marker='o')\n",
    "#plt.plot(num_array, e_1, color='black', marker='*')\n",
    "plt.plot(r_array, E88[:,7], color=\"black\", marker='o')\n",
    "plt.plot(r_array, E88[:,8], color=\"grey\", marker='o')\n",
    "plt.show()\n",
    "\n",
    "plt.plot(r_array, np.abs(Mu[:,0,3,2]), 'r-o')\n",
    "plt.plot(r_array, np.abs(Mu[:,0,4,2]), 'b-o')\n",
    "plt.plot(r_array, np.abs(Mu[:,0,5,2]), '-o')\n",
    "plt.plot(r_array, np.abs(Mu[:,0,6,2]), '-o')\n",
    "plt.plot(r_array, np.abs(Mu[:,0,7,2]), '-o')\n",
    "plt.plot(r_array, np.abs(Mu[:,0,8,2]), '-o')\n",
    "plt.plot(r_array, np.abs(Mu[:,0,9,2]), '-o')\n",
    "plt.plot(r_array, np.abs(Mu[:,0,10,2]), '-o')\n",
    "plt.plot(r_array, np.abs(Mu[:,0,11,2]), '-o')\n",
    "plt.plot(r_array, np.abs(Mu[:,0,12,2]), '-o')\n",
    "plt.plot(r_array, np.abs(Mu[:,0,13,2]), '-o')\n",
    "plt.plot(r_array, np.abs(Mu[:,0,14,2]), '-o')\n",
    "\n",
    "#plt.plot(r_array, E88[:,4], 'b-o')\n",
    "#plt.plot(r_array, E88[:,5], color=\"orange\" ,marker='o')\n",
    "#plt.plot(r_array, E88[:,6], color=\"purple\", marker='o')\n",
    "#plt.plot(num_array, e_1, color='black', marker='*')\n",
    "#plt.plot(r_array, E88[:,7], color=\"black\", marker='o')\n",
    "#plt.plot(r_array, E88[:,8], color=\"grey\", marker='o')\n",
    "plt.show()"
   ]
  },
  {
   "cell_type": "code",
   "execution_count": null,
   "id": "e4009d21",
   "metadata": {},
   "outputs": [],
   "source": [
    "for i in range(50):\n",
    "    for j in range(10):\n",
    "        tdm_mag2 = np.dot(Mu[i, 0, j, :], Mu[i, 0, j, :])\n",
    "        dp_mag2 = np.dot(Mu[i, j, j, :], Mu[i, j, j, :])\n",
    "        print(r_array[i], E88[i,j], np.abs(Mu[i, 0, j, 1]), np.abs(Mu[i, 0, j, 2]),\n",
    "            np.abs(Mu[i, j, j, 1]), np.abs(Mu[i, j, j, 2]), 'inf', 'inf', 'inf', 'inf', 'inf', 'inf')"
   ]
  },
  {
   "cell_type": "code",
   "execution_count": null,
   "id": "46a05f52",
   "metadata": {},
   "outputs": [],
   "source": [
    "print(Mu[10, 0, 0, :])\n",
    "print(Mu[10, 1, 1, :])\n",
    "print(Mu[10, 0, 0, :]-Mu[10,0,1,:])\n",
    "#print(Mu[10, 0, 2, :])\n",
    "#print(Mu[10, 0, 3, :])"
   ]
  },
  {
   "cell_type": "code",
   "execution_count": null,
   "id": "c98e2425",
   "metadata": {},
   "outputs": [],
   "source": []
  }
 ],
 "metadata": {
  "kernelspec": {
   "display_name": "Python 3 (ipykernel)",
   "language": "python",
   "name": "python3"
  },
  "language_info": {
   "codemirror_mode": {
    "name": "ipython",
    "version": 3
   },
   "file_extension": ".py",
   "mimetype": "text/x-python",
   "name": "python",
   "nbconvert_exporter": "python",
   "pygments_lexer": "ipython3",
   "version": "3.9.17"
  }
 },
 "nbformat": 4,
 "nbformat_minor": 5
}
