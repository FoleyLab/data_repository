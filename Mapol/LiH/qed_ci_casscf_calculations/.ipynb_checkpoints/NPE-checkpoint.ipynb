{
 "cells": [
  {
   "cell_type": "code",
   "execution_count": 15,
   "id": "68b7e679-cf85-489e-a024-8b7a36ecf5c4",
   "metadata": {},
   "outputs": [],
   "source": [
    "import os\n",
    "import json\n",
    "import glob\n",
    "import matplotlib.pyplot as plt\n",
    "import numpy as np"
   ]
  },
  {
   "cell_type": "code",
   "execution_count": 16,
   "id": "6b9f4c0f-1134-4f8c-991a-f8eea4d70439",
   "metadata": {},
   "outputs": [
    {
     "data": {
      "text/plain": [
       "'/Users/kampoh/data_repository/Mapol/LiH/qed_ci_casscf_calculations'"
      ]
     },
     "execution_count": 16,
     "metadata": {},
     "output_type": "execute_result"
    }
   ],
   "source": [
    "pwd"
   ]
  },
  {
   "cell_type": "code",
   "execution_count": 17,
   "id": "e6a404bc-d4b2-4e09-913c-687273567110",
   "metadata": {},
   "outputs": [],
   "source": [
    "main_dir = '/Users/kampoh/data_repository/Mapol/LiH/qed_ci_casscf_calculations'"
   ]
  },
  {
   "cell_type": "code",
   "execution_count": 18,
   "id": "f9438d9a-fb65-4559-be31-a41bff59702a",
   "metadata": {},
   "outputs": [
    {
     "name": "stdout",
     "output_type": "stream",
     "text": [
      "sds:['/Users/kampoh/data_repository/Mapol/LiH/qed_ci_casscf_calculations/4_10', '/Users/kampoh/data_repository/Mapol/LiH/qed_ci_casscf_calculations/4_11', '/Users/kampoh/data_repository/Mapol/LiH/qed_ci_casscf_calculations/4_12', '/Users/kampoh/data_repository/Mapol/LiH/qed_ci_casscf_calculations/4_13', '/Users/kampoh/data_repository/Mapol/LiH/qed_ci_casscf_calculations/4_14', '/Users/kampoh/data_repository/Mapol/LiH/qed_ci_casscf_calculations/4_15', '/Users/kampoh/data_repository/Mapol/LiH/qed_ci_casscf_calculations/4_16', '/Users/kampoh/data_repository/Mapol/LiH/qed_ci_casscf_calculations/4_4', '/Users/kampoh/data_repository/Mapol/LiH/qed_ci_casscf_calculations/4_5', '/Users/kampoh/data_repository/Mapol/LiH/qed_ci_casscf_calculations/4_6', '/Users/kampoh/data_repository/Mapol/LiH/qed_ci_casscf_calculations/4_7', '/Users/kampoh/data_repository/Mapol/LiH/qed_ci_casscf_calculations/4_8', '/Users/kampoh/data_repository/Mapol/LiH/qed_ci_casscf_calculations/4_9']\n"
     ]
    }
   ],
   "source": [
    "sub_dir = sorted(glob.glob(os.path.join(main_dir, \"4_*\")))\n",
    "\n",
    "print(f\"sds:{sub_dirs}\")"
   ]
  },
  {
   "cell_type": "code",
   "execution_count": 19,
   "id": "d970d535-b1a1-4dd4-8b7d-a3ea11d80613",
   "metadata": {},
   "outputs": [],
   "source": [
    "casci_errors ={}\n",
    "casscf_errors ={}"
   ]
  },
  {
   "cell_type": "code",
   "execution_count": 20,
   "id": "684675b6-6fd5-4e7c-9ad4-314f44feca2e",
   "metadata": {},
   "outputs": [],
   "source": [
    "reference_dir =os.path.join(main_dir,\"4_16\")\n",
    "ref_file = os.path.join(reference_dir,\"new_data.json\")"
   ]
  },
  {
   "cell_type": "code",
   "execution_count": 27,
   "id": "298588ab-fe12-4c81-a4f0-b8bb55cc6ad8",
   "metadata": {},
   "outputs": [
    {
     "ename": "SyntaxError",
     "evalue": "invalid syntax (1054416536.py, line 10)",
     "output_type": "error",
     "traceback": [
      "\u001b[0;36m  Cell \u001b[0;32mIn[27], line 10\u001b[0;36m\u001b[0m\n\u001b[0;31m    for sub_dir_path in sub_dir:\u001b[0m\n\u001b[0m                               ^\u001b[0m\n\u001b[0;31mSyntaxError\u001b[0m\u001b[0;31m:\u001b[0m invalid syntax\n"
     ]
    }
   ],
   "source": [
    "if not os.path.exists(ref_file):\n",
    "    raise FileNotFoundError(f\"Reference file not found:{Ref_file}\")\n",
    "\n",
    "with open(ref_file, 'r') as file:\n",
    "    ref_data = json.load(file)\n",
    "    ref_casci_energies = [ref_data[\"return_results\"]['casci_energies'][0]]\n",
    "    ref_casscf_energies = [ref_data[\"return_results\"]['casscf_energies'][0]\n",
    "    #print(f\"rc{ref_casci_energies}\")\n",
    "    #print(f\"rf{ref_casscf_energies}\")\n",
    "for sub_dir_path in sub_dir:\n",
    "    sub_dir_name = os.path.basename(sub_dir_path)\n",
    "    active_space = int(sub_dir_name.split(\"_\")[1])\n",
    "    json_file = os.path.join(sub_dir_path,\"new_data.json\")\n",
    "    if not os.path.exists(json_file):\n",
    "        continue\n",
    "\n",
    "    \n",
    "        \n"
   ]
  },
  {
   "cell_type": "code",
   "execution_count": 28,
   "id": "317dff48-34c0-45c2-8119-0fbbe4da8629",
   "metadata": {},
   "outputs": [
    {
     "ename": "NameError",
     "evalue": "name 'json_file' is not defined",
     "output_type": "error",
     "traceback": [
      "\u001b[0;31m---------------------------------------------------------------------------\u001b[0m",
      "\u001b[0;31mNameError\u001b[0m                                 Traceback (most recent call last)",
      "Cell \u001b[0;32mIn[28], line 1\u001b[0m\n\u001b[0;32m----> 1\u001b[0m \u001b[38;5;28;01mwith\u001b[39;00m \u001b[38;5;28mopen\u001b[39m(\u001b[43mjson_file\u001b[49m,\u001b[38;5;124m'\u001b[39m\u001b[38;5;124mr\u001b[39m\u001b[38;5;124m'\u001b[39m) \u001b[38;5;28;01mas\u001b[39;00m file:\n\u001b[1;32m      2\u001b[0m     data \u001b[38;5;241m=\u001b[39m json\u001b[38;5;241m.\u001b[39mload(file)\n\u001b[1;32m      3\u001b[0m     casci_energies \u001b[38;5;241m=\u001b[39m np\u001b[38;5;241m.\u001b[39marray(data[\u001b[38;5;124m\"\u001b[39m\u001b[38;5;124mreturn_results\u001b[39m\u001b[38;5;124m\"\u001b[39m][\u001b[38;5;124m\"\u001b[39m\u001b[38;5;124mcasci_energies\u001b[39m\u001b[38;5;124m\"\u001b[39m][\u001b[38;5;241m0\u001b[39m])\n",
      "\u001b[0;31mNameError\u001b[0m: name 'json_file' is not defined"
     ]
    }
   ],
   "source": [
    "    with open(json_file,'r') as file:\n",
    "        data = json.load(file)\n",
    "        casci_energies = np.array(data[\"return_results\"][\"casci_energies\"][0])\n",
    "        casscf_energies = np.array(data[\"return_results\"][\"casscf_energies\"][0])\n",
    "        #print(sub_dir_name)\n",
    "        print(f\"casci_energies {casci_energies}\")\n",
    "        print(f\" casscf_energies {casscf_energies}\")\n",
    "    \n",
    "\n",
    "        casci_error = [ref - value for ref,value in zip(ref_casci_energies,casci_energies)]\n",
    "        casscf_error = [ref - value for ref,value in zip(ref_casscf_energies,casscf_energies)]\n",
    "        print(f\"Active space{active_space} CASCI errors: {casci_error}\")\n",
    "        print(f\"Active space{active_space} CASSCF errors: {casscf_error}\")\n",
    "        \n",
    "       \n",
    "\n",
    "        casci_errors[active_space] = casci_error\n",
    "        casscf_errors[active_space] = casci_error"
   ]
  },
  {
   "cell_type": "code",
   "execution_count": 9,
   "id": "0a5c8f60-af56-4071-b915-5e11ec7ff650",
   "metadata": {},
   "outputs": [],
   "source": [
    "casci_min_max_diff = {}\n",
    "casscf_min_max_diff = {} \n",
    "\n",
    "for active_space,errors in casci_errors.items():\n",
    "    casci_min_max_diff[active_space] = np.max(errors)-np.min(errors)\n",
    "\n",
    "for active_space,errors in casscf_errors.items():\n",
    "    casscf_min_max_diff[active_space] = np.max(errors) - np.min(errors)"
   ]
  },
  {
   "cell_type": "code",
   "execution_count": 10,
   "id": "58e07eff-4ff1-4231-9a51-f01b3e1c3e29",
   "metadata": {},
   "outputs": [
    {
     "name": "stdout",
     "output_type": "stream",
     "text": [
      "cassci: {}\n",
      "casscf: {}\n"
     ]
    },
    {
     "data": {
      "image/png": "[encoded data removed]",
      "text/plain": [
       "<Figure size 1000x500 with 1 Axes>"
      ]
     },
     "metadata": {},
     "output_type": "display_data"
    }
   ],
   "source": [
    "plt.figure(figsize =(10,5))\n",
    "plt.plot(\n",
    "    sorted(casci_min_max_diff.keys()),\n",
    "    [casci_min_max_diff[space] for space in sorted(casci_min_max_diff.keys())],\n",
    "    label =\"CASCI_NPE\", marker ='*'\n",
    ")\n",
    "\n",
    "\n",
    "plt.plot(\n",
    "     sorted(casscf_min_max_diff.keys()),\n",
    "    [casscf_min_max_diff[space] for space in sorted(casscf_min_max_diff.keys())],\n",
    "    label =\"CASSCF_NPE\", marker ='s'\n",
    ")\n",
    "\n",
    "print(f\"cassci: {casci_min_max_diff}\")\n",
    "print(f\"casscf: {casscf_min_max_diff}\")\n",
    "\n",
    "plt.legend(fontsize=12)\n",
    "plt.grid(True)\n",
    "plt.show()"
   ]
  },
  {
   "cell_type": "code",
   "execution_count": null,
   "id": "70e9768e-7a88-46bc-860d-7bdffadbaae4",
   "metadata": {},
   "outputs": [],
   "source": []
  },
  {
   "cell_type": "code",
   "execution_count": null,
   "id": "cf53e2c4-8275-4fd0-8294-6f82be847493",
   "metadata": {},
   "outputs": [],
   "source": []
  }
 ],
 "metadata": {
  "kernelspec": {
   "display_name": "Python 3 (ipykernel)",
   "language": "python",
   "name": "python3"
  },
  "language_info": {
   "codemirror_mode": {
    "name": "ipython",
    "version": 3
   },
   "file_extension": ".py",
   "mimetype": "text/x-python",
   "name": "python",
   "nbconvert_exporter": "python",
   "pygments_lexer": "ipython3",
   "version": "3.9.19"
  }
 },
 "nbformat": 4,
 "nbformat_minor": 5
}
