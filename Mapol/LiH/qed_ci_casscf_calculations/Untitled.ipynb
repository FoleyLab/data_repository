{
 "cells": [
  {
   "cell_type": "code",
   "execution_count": 1,
   "id": "5cfc50b9-107a-46ba-89f1-8341a6fa7546",
   "metadata": {},
   "outputs": [],
   "source": [
    "import os\n",
    "import json\n",
    "import glob\n",
    "import matplotlib.pyplot as plt\n",
    "import numpy as np"
   ]
  },
  {
   "cell_type": "code",
   "execution_count": 2,
   "id": "2ac1cf7d-e82f-478a-b7f9-6b8c73af4d8e",
   "metadata": {},
   "outputs": [],
   "source": [
    "main_dir = '/Users/kampoh/data_repository/Mapol/LiH/qed_ci_casscf_calculations'"
   ]
  },
  {
   "cell_type": "code",
   "execution_count": 3,
   "id": "c2fd2772-9e85-4d8d-a0e5-a27de050a2ae",
   "metadata": {},
   "outputs": [
    {
     "name": "stdout",
     "output_type": "stream",
     "text": [
      "sds:['/Users/kampoh/data_repository/Mapol/LiH/qed_ci_casscf_calculations/4_10', '/Users/kampoh/data_repository/Mapol/LiH/qed_ci_casscf_calculations/4_11', '/Users/kampoh/data_repository/Mapol/LiH/qed_ci_casscf_calculations/4_12', '/Users/kampoh/data_repository/Mapol/LiH/qed_ci_casscf_calculations/4_13', '/Users/kampoh/data_repository/Mapol/LiH/qed_ci_casscf_calculations/4_14', '/Users/kampoh/data_repository/Mapol/LiH/qed_ci_casscf_calculations/4_15', '/Users/kampoh/data_repository/Mapol/LiH/qed_ci_casscf_calculations/4_16', '/Users/kampoh/data_repository/Mapol/LiH/qed_ci_casscf_calculations/4_4', '/Users/kampoh/data_repository/Mapol/LiH/qed_ci_casscf_calculations/4_5', '/Users/kampoh/data_repository/Mapol/LiH/qed_ci_casscf_calculations/4_6', '/Users/kampoh/data_repository/Mapol/LiH/qed_ci_casscf_calculations/4_7', '/Users/kampoh/data_repository/Mapol/LiH/qed_ci_casscf_calculations/4_8', '/Users/kampoh/data_repository/Mapol/LiH/qed_ci_casscf_calculations/4_9']\n"
     ]
    }
   ],
   "source": [
    "sub_dirs = sorted(glob.glob(os.path.join(main_dir, \"4_*\")))\n",
    "\n",
    "#print(f\"sds:{sub_dirs}\")"
   ]
  },
  {
   "cell_type": "code",
   "execution_count": 4,
   "id": "b5a73e0f-793a-40bd-8394-3d578eacc64c",
   "metadata": {},
   "outputs": [],
   "source": [
    "casci_errors ={}\n",
    "casscf_errors ={}"
   ]
  },
  {
   "cell_type": "code",
   "execution_count": 5,
   "id": "b02c0494-23fb-47a1-b5a9-fc692b1be47b",
   "metadata": {},
   "outputs": [],
   "source": [
    "reference_dir =os.path.join(main_dir,\"4_16\")\n",
    "ref_file = os.path.join(reference_dir,\"new_data.json\")"
   ]
  },
  {
   "cell_type": "code",
   "execution_count": 13,
   "id": "67abce2b-2870-4f71-9948-c70e5a56273c",
   "metadata": {},
   "outputs": [
    {
     "ename": "SyntaxError",
     "evalue": "invalid syntax (3546597586.py, line 11)",
     "output_type": "error",
     "traceback": [
      "\u001b[0;36m  Cell \u001b[0;32mIn[13], line 11\u001b[0;36m\u001b[0m\n\u001b[0;31m    for sub_dir_path in sub_dirs:\u001b[0m\n\u001b[0m                                ^\u001b[0m\n\u001b[0;31mSyntaxError\u001b[0m\u001b[0;31m:\u001b[0m invalid syntax\n"
     ]
    }
   ],
   "source": [
    "with open(ref_file, 'r') as file:\n",
    "    ref_data = json.load(file)\n",
    "    ref_casci_energies = [ref_data[\"return_results\"]['casci_energies'][0]]\n",
    "    ref_casscf_energies = [ref_data[\"return_results\"]['casscf_energies'][0]\n",
    "    #print(f\"rc{ref_casci_energies}\")\n",
    "    #print(f\"rf{ref_casscf_energies}\")\n",
    "\n",
    "   \n",
    "    \n",
    "                              \n",
    "for sub_dir_path in sub_dirs: \n",
    "    sub_dir_name = os.path.basename(sub_dir_path)\n",
    "    active_space = int(sub_dir_name.split(\"_\")[1])\n",
    "    json_file = os.path.join(sub_dir_path,\"new_data.json\")\n",
    "    #if not os.path.exists(json_file):\n",
    "        #continue\n",
    "\n",
    "    with open(json_file,'r') as file:\n",
    "        data = json.load(file)\n",
    "        casci_energies = np.array(data[\"return_results\"][\"casci_energies\"][0])\n",
    "        casscf_energies = np.array(data[\"return_results\"][\"casscf_energies\"][0])\n",
    "        #print(sub_dir_name)\n",
    "        print(f\"casci_energies {casci_energies}\")\n",
    "        print(f\" casscf_energies {casscf_energies}\")\n",
    "    \n",
    "\n",
    "        casci_error = [ref - value for ref,value in zip(ref_casci_energies,casci_energies)]\n",
    "        casscf_error = [ref - value for ref,value in zip(ref_casscf_energies,casscf_energies)]\n",
    "        print(f\"Active space{active_space} CASCI errors: {casci_error}\")\n",
    "        print(f\"Active space{active_space} CASSCF errors: {casscf_error}\")\n",
    "        \n",
    "       \n",
    "\n",
    "        casci_errors[active_space] = casci_error\n",
    "        casscf_errors[active_space] = casci_error\n",
    "        "
   ]
  },
  {
   "cell_type": "code",
   "execution_count": null,
   "id": "c1765905-45aa-4756-af5f-fdd1894dae7b",
   "metadata": {},
   "outputs": [],
   "source": []
  },
  {
   "cell_type": "code",
   "execution_count": null,
   "id": "8da843e4-6120-41c2-849b-bbdb65eeaaa2",
   "metadata": {},
   "outputs": [],
   "source": []
  }
 ],
 "metadata": {
  "kernelspec": {
   "display_name": "Python 3 (ipykernel)",
   "language": "python",
   "name": "python3"
  },
  "language_info": {
   "codemirror_mode": {
    "name": "ipython",
    "version": 3
   },
   "file_extension": ".py",
   "mimetype": "text/x-python",
   "name": "python",
   "nbconvert_exporter": "python",
   "pygments_lexer": "ipython3",
   "version": "3.9.19"
  }
 },
 "nbformat": 4,
 "nbformat_minor": 5
}
