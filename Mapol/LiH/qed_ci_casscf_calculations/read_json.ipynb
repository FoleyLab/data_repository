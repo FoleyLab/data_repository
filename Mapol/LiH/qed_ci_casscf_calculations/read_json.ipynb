{
 "cells": [
  {
   "cell_type": "code",
   "execution_count": 3,
   "id": "489457b3-af27-4787-8633-2b5c709126a2",
   "metadata": {},
   "outputs": [],
   "source": [
    "import json\n",
    "import numpy as np\n",
    "from matplotlib import pyplot as plt"
   ]
  },
  {
   "cell_type": "code",
   "execution_count": 4,
   "id": "9ca5e1b6-e0aa-43f0-84f2-4f32860310e5",
   "metadata": {},
   "outputs": [
    {
     "data": {
      "text/plain": [
       "'/Users/kampoh/data_repository/Mapol/LiH/qed_ci_casscf_calculations'"
      ]
     },
     "execution_count": 4,
     "metadata": {},
     "output_type": "execute_result"
    }
   ],
   "source": [
    "pwd"
   ]
  },
  {
   "cell_type": "code",
   "execution_count": 5,
   "id": "a1a47913-cdc9-4751-a2fa-3b6b79d983cf",
   "metadata": {},
   "outputs": [
    {
     "ename": "FileNotFoundError",
     "evalue": "[Errno 2] No such file or directory: 'new_data.json'",
     "output_type": "error",
     "traceback": [
      "\u001b[0;31m---------------------------------------------------------------------------\u001b[0m",
      "\u001b[0;31mFileNotFoundError\u001b[0m                         Traceback (most recent call last)",
      "Cell \u001b[0;32mIn[5], line 5\u001b[0m\n\u001b[1;32m      2\u001b[0m file_name \u001b[38;5;241m=\u001b[39m \u001b[38;5;124m\"\u001b[39m\u001b[38;5;124mnew_data.json\u001b[39m\u001b[38;5;124m\"\u001b[39m\n\u001b[1;32m      4\u001b[0m \u001b[38;5;66;03m# Open and read the JSON file, store all contents to a dictionary called data\u001b[39;00m\n\u001b[0;32m----> 5\u001b[0m data \u001b[38;5;241m=\u001b[39m json\u001b[38;5;241m.\u001b[39mload(\u001b[38;5;28;43mopen\u001b[39;49m\u001b[43m(\u001b[49m\u001b[43mfile_name\u001b[49m\u001b[43m)\u001b[49m)\n\u001b[1;32m      7\u001b[0m \u001b[38;5;66;03m# see if you can split these strings and isolate the bond length value\u001b[39;00m\n\u001b[1;32m      8\u001b[0m \u001b[38;5;28mprint\u001b[39m(data[\u001b[38;5;124m\"\u001b[39m\u001b[38;5;124mmolecular_geometry\u001b[39m\u001b[38;5;124m\"\u001b[39m][\u001b[38;5;124m'\u001b[39m\u001b[38;5;124mz-matrix\u001b[39m\u001b[38;5;124m'\u001b[39m])\n",
      "File \u001b[0;32m~/Downloads/ENTER/envs/molssi/lib/python3.9/site-packages/IPython/core/interactiveshell.py:286\u001b[0m, in \u001b[0;36m_modified_open\u001b[0;34m(file, *args, **kwargs)\u001b[0m\n\u001b[1;32m    279\u001b[0m \u001b[38;5;28;01mif\u001b[39;00m file \u001b[38;5;129;01min\u001b[39;00m {\u001b[38;5;241m0\u001b[39m, \u001b[38;5;241m1\u001b[39m, \u001b[38;5;241m2\u001b[39m}:\n\u001b[1;32m    280\u001b[0m     \u001b[38;5;28;01mraise\u001b[39;00m \u001b[38;5;167;01mValueError\u001b[39;00m(\n\u001b[1;32m    281\u001b[0m         \u001b[38;5;124mf\u001b[39m\u001b[38;5;124m\"\u001b[39m\u001b[38;5;124mIPython won\u001b[39m\u001b[38;5;124m'\u001b[39m\u001b[38;5;124mt let you open fd=\u001b[39m\u001b[38;5;132;01m{\u001b[39;00mfile\u001b[38;5;132;01m}\u001b[39;00m\u001b[38;5;124m by default \u001b[39m\u001b[38;5;124m\"\u001b[39m\n\u001b[1;32m    282\u001b[0m         \u001b[38;5;124m\"\u001b[39m\u001b[38;5;124mas it is likely to crash IPython. If you know what you are doing, \u001b[39m\u001b[38;5;124m\"\u001b[39m\n\u001b[1;32m    283\u001b[0m         \u001b[38;5;124m\"\u001b[39m\u001b[38;5;124myou can use builtins\u001b[39m\u001b[38;5;124m'\u001b[39m\u001b[38;5;124m open.\u001b[39m\u001b[38;5;124m\"\u001b[39m\n\u001b[1;32m    284\u001b[0m     )\n\u001b[0;32m--> 286\u001b[0m \u001b[38;5;28;01mreturn\u001b[39;00m \u001b[43mio_open\u001b[49m\u001b[43m(\u001b[49m\u001b[43mfile\u001b[49m\u001b[43m,\u001b[49m\u001b[43m \u001b[49m\u001b[38;5;241;43m*\u001b[39;49m\u001b[43margs\u001b[49m\u001b[43m,\u001b[49m\u001b[43m \u001b[49m\u001b[38;5;241;43m*\u001b[39;49m\u001b[38;5;241;43m*\u001b[39;49m\u001b[43mkwargs\u001b[49m\u001b[43m)\u001b[49m\n",
      "\u001b[0;31mFileNotFoundError\u001b[0m: [Errno 2] No such file or directory: 'new_data.json'"
     ]
    }
   ],
   "source": [
    "# this is the name of the json file\n",
    "file_name = \"new_data.json\"\n",
    "\n",
    "# Open and read the JSON file, store all contents to a dictionary called data\n",
    "data = json.load(open(file_name))\n",
    "\n",
    "# see if you can split these strings and isolate the bond length value\n",
    "print(data[\"molecular_geometry\"]['z-matrix'])\n",
    "\n",
    "\n",
    "# make the array of bondlengths manually\n",
    "r = np.linspace(1.0, 3.0, 10)\n",
    "print(r)"
   ]
  },
  {
   "cell_type": "code",
   "execution_count": null,
   "id": "b920e2ec-e084-4b0f-a0f4-400ca409829a",
   "metadata": {},
   "outputs": [],
   "source": [
    "# get the casci and casscf energies and cast them into a numpy array\n",
    "casci_energies = np.array(data[\"return_results\"][\"casci_energies\"])\n",
    "casscf_energies = np.array(data[\"return_results\"][\"casscf_energies\"])\n",
    "\n",
    "# print the shape of this array; row indexes the geometry, column index the electronic state\n",
    "print(np.shape(casci_energies))"
   ]
  },
  {
   "cell_type": "code",
   "execution_count": null,
   "id": "25fdfd9d-196e-46de-8bfd-4470bea3dfa3",
   "metadata": {},
   "outputs": [],
   "source": [
    "#plt.plot(r, casci_energies[:,0], label=\"CASCI Ground State PES\")\n",
    "#plt.plot(r, casscf_energies[:,0], label=\"CASSCF Ground state PES\")\n",
    "plt.plot(r, diff_casci_casscf, label=\"difference\")\n",
    "plt.legend()\n",
    "plt.show()"
   ]
  },
  {
   "cell_type": "code",
   "execution_count": null,
   "id": "187a2c57-286e-4042-97cb-3fc17f37d949",
   "metadata": {},
   "outputs": [],
   "source": [
    "# take difference between CASCI and CASSCF surfaces\n",
    "diff_casci_casscf = casci_energies[:,0] - casscf_energies[:,0]\n"
   ]
  },
  {
   "cell_type": "markdown",
   "id": "0ab8a625-da81-4c6b-ae48-07eaa06965f8",
   "metadata": {},
   "source": [
    "next steps:\n",
    "1. Using glob functionality, create a script that goes into each of the active space folders, loads the json file into a dictionary, extracts the CASSCI and CASSCF energies\n",
    "2. Plot each surface against the \"exact\" (4,16) surface\n",
    "3. Take the difference between each surface and the exact surface, finding the maximum and minimum error\n",
    "4. Compute the non-parallelity error for each CASCI surface and each CASSCF surface relative to the one exact surface (4,16)\n",
    "5. Repeat this using a finer grid of bond lengths (based on the number we considered in the QED-CASCI paper for LiH results)"
   ]
  },
  {
   "cell_type": "code",
   "execution_count": null,
   "id": "06f62bfc-006d-4409-8493-a3167be372e1",
   "metadata": {},
   "outputs": [],
   "source": []
  }
 ],
 "metadata": {
  "kernelspec": {
   "display_name": "Python 3 (ipykernel)",
   "language": "python",
   "name": "python3"
  },
  "language_info": {
   "codemirror_mode": {
    "name": "ipython",
    "version": 3
   },
   "file_extension": ".py",
   "mimetype": "text/x-python",
   "name": "python",
   "nbconvert_exporter": "python",
   "pygments_lexer": "ipython3",
   "version": "3.9.19"
  }
 },
 "nbformat": 4,
 "nbformat_minor": 5
}
