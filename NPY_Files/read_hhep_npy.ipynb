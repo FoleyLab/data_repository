{
 "cells": [
  {
   "cell_type": "code",
   "execution_count": 1,
   "id": "3f017e18-95fa-40eb-bac1-887ac6b53040",
   "metadata": {},
   "outputs": [],
   "source": [
    "import numpy as np\n"
   ]
  },
  {
   "cell_type": "code",
   "execution_count": 4,
   "id": "612d2b15-8765-47d5-93e3-39d6f3e58b20",
   "metadata": {},
   "outputs": [],
   "source": [
    "dz_en_file = \"HHep_fci_cc_pVDZ_Energies.npy\"\n",
    "dz_mu_file = \"HHep_fci_cc_pVDZ_Dipoles.npy\"\n",
    "tz_en_file = \"HHep_fci_cc_pVTZ_Energies.npy\"\n",
    "tz_mu_file = \"HHep_fci_cc_pVTZ_Dipoles.npy\"\n",
    "qz_en_file = \"HHep_fci_cc-pVQZ_Energies.npy\"\n",
    "qz_mu_file = \"HHep_fci_cc-pVQZ_Dipoles.npy\"\n",
    "\n"
   ]
  },
  {
   "cell_type": "code",
   "execution_count": 5,
   "id": "c8ebafe5-d0f3-48e4-b1ab-58ab63a93e5d",
   "metadata": {},
   "outputs": [],
   "source": [
    "dz_en = np.load(dz_en_file)\n",
    "dz_mu = np.load(dz_mu_file)\n",
    "tz_en = np.load(tz_en_file)\n",
    "tz_mu = np.load(tz_mu_file)\n",
    "qz_en = np.load(qz_en_file)\n",
    "qz_mu = np.load(qz_mu_file)"
   ]
  },
  {
   "cell_type": "code",
   "execution_count": 7,
   "id": "11257201-9755-4056-b9e0-dbfe5f4f1fed",
   "metadata": {},
   "outputs": [
    {
     "name": "stdout",
     "output_type": "stream",
     "text": [
      "0.976056825139936\n",
      "[ 1.25954919e-16 -1.27793281e-17 -7.68441197e-01]\n"
     ]
    }
   ],
   "source": [
    "print(dz_en[2]-dz_en[0])\n",
    "print(dz_mu[0,2,:])"
   ]
  },
  {
   "cell_type": "code",
   "execution_count": 8,
   "id": "7a0e055e-08f5-43f2-93ec-85b9182acd59",
   "metadata": {},
   "outputs": [
    {
     "name": "stdout",
     "output_type": "stream",
     "text": [
      "0.9654959008595623\n",
      "[-1.02338057e-15  1.02925559e-16 -8.04009957e-01]\n"
     ]
    }
   ],
   "source": [
    "print(tz_en[2]-tz_en[0])\n",
    "print(tz_mu[0,2,:])"
   ]
  },
  {
   "cell_type": "code",
   "execution_count": 9,
   "id": "fda16203-b702-44b9-920f-6066461cbe32",
   "metadata": {},
   "outputs": [
    {
     "name": "stdout",
     "output_type": "stream",
     "text": [
      "0.9637811053396552\n",
      "[-2.43803478e-15  1.93783435e-15  8.07522496e-01]\n"
     ]
    }
   ],
   "source": [
    "print(qz_en[2]-qz_en[0])\n",
    "print(qz_mu[0,2,:])"
   ]
  },
  {
   "cell_type": "code",
   "execution_count": null,
   "id": "c98aaa1a-77a8-452b-9457-ebc298ab9736",
   "metadata": {},
   "outputs": [],
   "source": []
  }
 ],
 "metadata": {
  "kernelspec": {
   "display_name": "Python 3 (ipykernel)",
   "language": "python",
   "name": "python3"
  },
  "language_info": {
   "codemirror_mode": {
    "name": "ipython",
    "version": 3
   },
   "file_extension": ".py",
   "mimetype": "text/x-python",
   "name": "python",
   "nbconvert_exporter": "python",
   "pygments_lexer": "ipython3",
   "version": "3.12.0"
  }
 },
 "nbformat": 4,
 "nbformat_minor": 5
}
