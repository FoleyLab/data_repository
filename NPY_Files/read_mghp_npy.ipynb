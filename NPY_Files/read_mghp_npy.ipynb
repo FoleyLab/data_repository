{
 "cells": [
  {
   "cell_type": "code",
   "execution_count": 16,
   "id": "3f017e18-95fa-40eb-bac1-887ac6b53040",
   "metadata": {},
   "outputs": [],
   "source": [
    "import numpy as np\n",
    "from matplotlib import pyplot as plt\n"
   ]
  },
  {
   "cell_type": "code",
   "execution_count": 28,
   "id": "612d2b15-8765-47d5-93e3-39d6f3e58b20",
   "metadata": {},
   "outputs": [],
   "source": [
    "en_file = \"MgHp/mghp_qedcasci_8_10_cc_pVDZ_pes_6_states_only_singlets_50_points.npy_pes.npy\"\n",
    "en2_file = \"MgHp/mghp_casci_10_12_cc_pVDZ_pes_6_states_only_singlets_50_points.npy_pes.npy\"\n",
    "qed_file = \"MgHp/mghp_qedcasci_10_12_cc_pVDZ_pes_6_states_only_singlets_50_points.npy_pes.npy\"\n"
   ]
  },
  {
   "cell_type": "code",
   "execution_count": 29,
   "id": "c8ebafe5-d0f3-48e4-b1ab-58ab63a93e5d",
   "metadata": {},
   "outputs": [
    {
     "name": "stdout",
     "output_type": "stream",
     "text": [
      "(7, 50)\n"
     ]
    }
   ],
   "source": [
    "en = np.load(en2_file)\n",
    "qeden = np.load(qed_file)\n",
    "print(np.shape(en))"
   ]
  },
  {
   "cell_type": "code",
   "execution_count": 19,
   "id": "c98aaa1a-77a8-452b-9457-ebc298ab9736",
   "metadata": {},
   "outputs": [
    {
     "data": {
      "image/png": "[encoded data removed]",
      "text/plain": [
       "<Figure size 640x480 with 1 Axes>"
      ]
     },
     "metadata": {},
     "output_type": "display_data"
    }
   ],
   "source": [
    "plt.plot(en[0,:], en[1,:], label=\"ground\")\n",
    "plt.plot(en[0,:], en[2,:], label=\"es 1\")\n",
    "#plt.plot(en[0,:30], en[3,:30], label=\"es 2\")\n",
    "#plt.plot(en[0,:30], en[4,:30], label=\"es 3\")\n",
    "plt.legend()\n",
    "plt.show()\n"
   ]
  },
  {
   "cell_type": "code",
   "execution_count": 5,
   "id": "3ab0adaf-9d0b-481d-83b0-11ea63893ba1",
   "metadata": {},
   "outputs": [],
   "source": [
    "import numpy as np\n",
    "import psi4\n",
    "psi4.core.set_output_file(\"mghp.out\")"
   ]
  },
  {
   "cell_type": "code",
   "execution_count": 6,
   "id": "76951e89-781d-48ed-9fb6-6dd24583f466",
   "metadata": {},
   "outputs": [],
   "source": [
    "mol_str = \"\"\"\n",
    "Mg\n",
    "H 1 2.2\n",
    "symmetry c1\n",
    "1 1\n",
    "\"\"\"\n",
    "mol_tmpl = \"\"\"\n",
    "Mg\n",
    "H 1 **R**\n",
    "symmetry c1\n",
    "1 1\n",
    "\"\"\""
   ]
  },
  {
   "cell_type": "code",
   "execution_count": 7,
   "id": "adbf6eae-0fd5-46e7-8b93-9f8b85b7697e",
   "metadata": {},
   "outputs": [],
   "source": [
    "rs = np.linspace(1.1, 3.5, 25)\n",
    "\n",
    "options_dict = {\n",
    "    \"basis\": \"cc-pVDZ\",\n",
    "    \"scf_type\": \"pk\",\n",
    "    \"e_convergence\": 1e-10,\n",
    "    \"d_convergence\": 1e-10,\n",
    "    \"frozen_docc\" : [2],\n",
    "    \"active\" : [12],\n",
    "#    \"active\" : [8, 0, 3, 3],\n",
    "    \"num_roots\" : 3\n",
    "}\n",
    "#    'num_roots' : 6,\n",
    "#    'frozen_docc' : [28],\n",
    "#    'active' : [12],\n",
    "#    'TDM' :  True,\n",
    "#    'OPDM': True,\n",
    "#    'dipmom' : True\n",
    "#}\n",
    "\n",
    "mol = psi4.geometry(mol_str)\n",
    "psi4.set_options(options_dict)\n",
    "scf_e, wfn = psi4.energy('SCF', return_wfn=True)\n",
    "fci_energy, wfn = psi4.energy('fci',ref_wfn=wfn, return_wfn=True)"
   ]
  },
  {
   "cell_type": "code",
   "execution_count": 8,
   "id": "0da64e9f-789d-4063-868d-7f1edcd88e55",
   "metadata": {},
   "outputs": [
    {
     "name": "stdout",
     "output_type": "stream",
     "text": [
      "\n",
      "Mg\n",
      "H 1 1.1\n",
      "symmetry c1\n",
      "1 1\n",
      "\n",
      "\n",
      "Mg\n",
      "H 1 1.2000000000000002\n",
      "symmetry c1\n",
      "1 1\n",
      "\n",
      "\n",
      "Mg\n",
      "H 1 1.3\n",
      "symmetry c1\n",
      "1 1\n",
      "\n",
      "\n",
      "Mg\n",
      "H 1 1.4000000000000001\n",
      "symmetry c1\n",
      "1 1\n",
      "\n",
      "\n",
      "Mg\n",
      "H 1 1.5\n",
      "symmetry c1\n",
      "1 1\n",
      "\n",
      "\n",
      "Mg\n",
      "H 1 1.6\n",
      "symmetry c1\n",
      "1 1\n",
      "\n",
      "\n",
      "Mg\n",
      "H 1 1.7000000000000002\n",
      "symmetry c1\n",
      "1 1\n",
      "\n",
      "\n",
      "Mg\n",
      "H 1 1.8\n",
      "symmetry c1\n",
      "1 1\n",
      "\n",
      "\n",
      "Mg\n",
      "H 1 1.9\n",
      "symmetry c1\n",
      "1 1\n",
      "\n",
      "\n",
      "Mg\n",
      "H 1 2.0\n",
      "symmetry c1\n",
      "1 1\n",
      "\n",
      "\n",
      "Mg\n",
      "H 1 2.1\n",
      "symmetry c1\n",
      "1 1\n",
      "\n",
      "\n",
      "Mg\n",
      "H 1 2.2\n",
      "symmetry c1\n",
      "1 1\n",
      "\n",
      "\n",
      "Mg\n",
      "H 1 2.3\n",
      "symmetry c1\n",
      "1 1\n",
      "\n",
      "\n",
      "Mg\n",
      "H 1 2.4\n",
      "symmetry c1\n",
      "1 1\n",
      "\n",
      "\n",
      "Mg\n",
      "H 1 2.5\n",
      "symmetry c1\n",
      "1 1\n",
      "\n",
      "\n",
      "Mg\n",
      "H 1 2.5999999999999996\n",
      "symmetry c1\n",
      "1 1\n",
      "\n",
      "\n",
      "Mg\n",
      "H 1 2.7\n",
      "symmetry c1\n",
      "1 1\n",
      "\n",
      "\n",
      "Mg\n",
      "H 1 2.8\n",
      "symmetry c1\n",
      "1 1\n",
      "\n",
      "\n",
      "Mg\n",
      "H 1 2.9\n",
      "symmetry c1\n",
      "1 1\n",
      "\n",
      "\n",
      "Mg\n",
      "H 1 3.0\n",
      "symmetry c1\n",
      "1 1\n",
      "\n",
      "\n",
      "Mg\n",
      "H 1 3.0999999999999996\n",
      "symmetry c1\n",
      "1 1\n",
      "\n",
      "\n",
      "Mg\n",
      "H 1 3.1999999999999997\n",
      "symmetry c1\n",
      "1 1\n",
      "\n",
      "\n",
      "Mg\n",
      "H 1 3.3\n",
      "symmetry c1\n",
      "1 1\n",
      "\n",
      "\n",
      "Mg\n",
      "H 1 3.4\n",
      "symmetry c1\n",
      "1 1\n",
      "\n",
      "\n",
      "Mg\n",
      "H 1 3.5\n",
      "symmetry c1\n",
      "1 1\n",
      "\n"
     ]
    }
   ],
   "source": [
    "scf_e = []\n",
    "eg_8_12 = []\n",
    "e1_8_12 = []\n",
    "e2_8_12 = []\n",
    "for r_val in rs:\n",
    "    mol_str = mol_tmpl.replace(\"**R**\", str(r_val))\n",
    "    print(mol_str)\n",
    "    mol = psi4.geometry(mol_str)\n",
    "    scfe, wfn = psi4.energy('SCF', return_wfn=True, molecule=mol)\n",
    "    scf_e.append(scfe)\n",
    "    ci_e, wfn = psi4.energy('fci',ref_wfn=wfn, return_wfn=True)\n",
    "    eg_8_12.append(wfn.variable(\"CI ROOT 0 TOTAL ENERGY\"))\n",
    "    e1_8_12.append(wfn.variable(\"CI ROOT 1 TOTAL ENERGY\"))\n",
    "    e2_8_12.append(wfn.variable(\"CI ROOT 2 TOTAL ENERGY\"))\n"
   ]
  },
  {
   "cell_type": "code",
   "execution_count": 35,
   "id": "7f20246f-51d1-430a-9995-7f8731610d81",
   "metadata": {},
   "outputs": [
    {
     "data": {
      "image/png": "[encoded data removed]",
      "text/plain": [
       "<Figure size 640x480 with 1 Axes>"
      ]
     },
     "metadata": {},
     "output_type": "display_data"
    }
   ],
   "source": [
    "plt.plot(rs, np.array(eg_8_12)+0.136, label=\"casci(6,12) g\")\n",
    "#plt.plot(rs, eg_10_12, label=\"casci(10,12) g\")\n",
    "#plt.plot(rs, eg_10_14, label=\"casci(10,14) g\")\n",
    "plt.plot(rs, e1_8_12, label=\"casci(6,12) e\")\n",
    "#plt.plot(rs, e1_10_12, label=\"casci(10,12) e\")\n",
    "#plt.plot(rs, e1_10_14, label=\"casci(10,14) e\")\n",
    "#plt.plot(en[0,:], en[1,:], 'r--', label=\"ground\")\n",
    "plt.plot(en[0,:], en[2,:], label=\"es 1\")\n",
    "#plt.plot(qeden[0,:], qeden[1,:], label=\"qed g\")\n",
    "plt.plot(qeden[0,:], qeden[2,:], label=\"qed e1\")\n",
    "plt.plot(qeden[0,:], qeden[3,:], label=\"qed e2\")\n",
    "plt.xlim(2.275,2.300)\n",
    "plt.ylim(-199.77,-199.74)\n",
    "plt.grid()\n",
    "plt.legend()\n",
    "plt.show()\n",
    "\n",
    "\n"
   ]
  },
  {
   "cell_type": "code",
   "execution_count": null,
   "id": "5848de16-ad7f-42e1-a4d7-2f8c9810efc1",
   "metadata": {},
   "outputs": [],
   "source": []
  }
 ],
 "metadata": {
  "kernelspec": {
   "display_name": "Python 3 (ipykernel)",
   "language": "python",
   "name": "python3"
  },
  "language_info": {
   "codemirror_mode": {
    "name": "ipython",
    "version": 3
   },
   "file_extension": ".py",
   "mimetype": "text/x-python",
   "name": "python",
   "nbconvert_exporter": "python",
   "pygments_lexer": "ipython3",
   "version": "3.12.0"
  }
 },
 "nbformat": 4,
 "nbformat_minor": 5
}
