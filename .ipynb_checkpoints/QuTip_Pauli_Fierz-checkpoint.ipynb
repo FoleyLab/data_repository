{
 "cells": [
  {
   "cell_type": "code",
   "execution_count": 168,
   "id": "ebea8c2d-80f9-48c3-85c8-9e43c5c1ae5e",
   "metadata": {},
   "outputs": [],
   "source": [
    "%matplotlib inline\n",
    "import matplotlib.pyplot as plt\n",
    "import matplotlib as mpl\n",
    "import numpy as np\n",
    "from IPython.display import Image\n",
    "from qutip import *\n",
    "import math\n",
    "import json"
   ]
  },
  {
   "cell_type": "code",
   "execution_count": 169,
   "id": "8f061091-1a05-4f2b-aed7-bdf2fb639cc2",
   "metadata": {},
   "outputs": [],
   "source": [
    "wc = 0.5  # cavity frequency\n",
    "wa = 0.5  # atom frequency\n",
    "g = 1.0 #cavity coupling\n",
    "mu_gg = 1.0 #ground state permanent dipole\n",
    "mu_ee = 0.5 #excited state permanent dipole\n",
    "mu_eg = 1.5 #transition dipole\n",
    "N = 2 #number of fock states\n",
    "lambda_val = 0.01\n",
    "\n",
    "PF_data = {\n",
    "\n",
    "    \"spin_frequency\" : wa,\n",
    "    \"cavity_frequency\" : wc,\n",
    "    \"cavity_coupling\" : g,\n",
    "    \"ground_state_permanent_dipole\" : mu_gg,\n",
    "    \"excited_state_permanent_dipole\" : mu_ee,\n",
    "    \"transition_dipole\" : mu_eg,\n",
    "    \"number_of_fock_states\" : N,\n",
    "    \"use_rabi\" : False,\n",
    "    \"lambda_value\" : lambda_val,\n",
    "    \"energies\" : [],\n",
    "}\n",
    "\n",
    "Rabi_data = {\n",
    "\n",
    "    \"spin_frequency\" : wa,\n",
    "    \"cavity_frequency\" : wc,\n",
    "    \"cavity_coupling\" : g,\n",
    "    \"ground_state_permanent_dipole\" : mu_gg,\n",
    "    \"excited_state_permanent_dipole\" : mu_ee,\n",
    "    \"transition_dipole\" : mu_eg,\n",
    "    \"number_of_fock_states\" : N,\n",
    "    \"use_rabi\" : True,\n",
    "    \"lambda_value\" : lambda_val,\n",
    "    \"energies\" : [],\n",
    "}"
   ]
  },
  {
   "cell_type": "code",
   "execution_count": 170,
   "id": "1ed31b2f-7f05-4e4f-bc06-4b9c25893f77",
   "metadata": {},
   "outputs": [],
   "source": [
    "# intial state\n",
    "psi0 = tensor(basis(N,0), basis(2,1))    # start with an excited atom\n",
    "\n",
    "# operators\n",
    "a  = tensor(destroy(N), qeye(2))\n",
    "sm = tensor(qeye(N), destroy(2))"
   ]
  },
  {
   "cell_type": "code",
   "execution_count": 171,
   "id": "e1cd116e-7dc8-4cf1-83a5-4a69df544e2b",
   "metadata": {},
   "outputs": [],
   "source": [
    "#calculations for Hamiltonians\n",
    "mu = mu_gg * sm * sm.dag() + mu_ee * sm.dag() * sm + mu_eg * (sm + sm.dag())\n",
    "H_pf = wc * a.dag() * a + wa * sm.dag() * sm - np.sqrt(wc/2) * lambda_val * mu * (a.dag() + a) + 1/2 * (lambda_val * mu) ** 2\n",
    "H_rabi = wc * a.dag() * a + wa * sm.dag() * sm - np.sqrt(wc/2) * lambda_val * mu * (a.dag() + a)"
   ]
  },
  {
   "cell_type": "code",
   "execution_count": 172,
   "id": "8a17762b-d6ff-4877-ba41-973d47fb13c9",
   "metadata": {},
   "outputs": [],
   "source": [
    "#collect eigenergies for the calculatied hamiltonians\n",
    "pf_energies = H_pf.eigenenergies().tolist()\n",
    "rabi_energies = H_rabi.eigenenergies().tolist()\n",
    "#pf_energies = str(H_pf.eigenenergies().tolist())\n",
    "#rabi_energies = str(H_rabi.eigenenergies().tolist())\n",
    "\n",
    "PF_data[\"energies\"].append(pf_energies)\n",
    "Rabi_data[\"energies\"].append(rabi_energies)"
   ]
  },
  {
   "cell_type": "code",
   "execution_count": 173,
   "id": "5751028a-e337-41fc-9193-df01d1c11009",
   "metadata": {},
   "outputs": [],
   "source": [
    "# write the data to a JSON file\n",
    "def write_to_json(data, filename):\n",
    "    with open(filename, 'w') as json_file:\n",
    "        json.dump(data, json_file, indent=4)\n",
    "    \n",
    "def name_file(dictionary):\n",
    "    if dictionary[\"use_rabi\"]:\n",
    "        output_filename = \"Rabi_simulation_\"\n",
    "    else:\n",
    "        output_filename = \"PF_simulation_\"\n",
    "    output_filename += \"spin_freq_\" + str(dictionary[\"spin_frequency\"]) + \"_\"\n",
    "    output_filename += \"cavity_freq_\" + str(dictionary[\"cavity_frequency\"]) + \"_\"\n",
    "    output_filename += \"lambda_value_\" + str(dictionary[\"lambda_value\"]) + \"_\"\n",
    "    output_filename += \"N_fock_states_\" + str(dictionary[\"number_of_fock_states\"]) + \"_\"\n",
    "    output_filename += \"cavity_coupling_\" + str(dictionary[\"cavity_coupling\"]) + \".json\"\n",
    "    return output_filename\n",
    "\n",
    "#name files\n",
    "pf_name = name_file(PF_data)\n",
    "rabi_file = name_file(Rabi_data)\n",
    "\n",
    "#write data to json\n",
    "write_to_json(PF_data, pf_name)\n",
    "write_to_json(Rabi_data, rabi_file)"
   ]
  },
  {
   "cell_type": "code",
   "execution_count": null,
   "id": "1f1dcb82-7664-4b32-9a5f-6bb02c9cceb9",
   "metadata": {},
   "outputs": [],
   "source": []
  }
 ],
 "metadata": {
  "kernelspec": {
   "display_name": "Python 3 (ipykernel)",
   "language": "python",
   "name": "python3"
  },
  "language_info": {
   "codemirror_mode": {
    "name": "ipython",
    "version": 3
   },
   "file_extension": ".py",
   "mimetype": "text/x-python",
   "name": "python",
   "nbconvert_exporter": "python",
   "pygments_lexer": "ipython3",
   "version": "3.12.8"
  }
 },
 "nbformat": 4,
 "nbformat_minor": 5
}
