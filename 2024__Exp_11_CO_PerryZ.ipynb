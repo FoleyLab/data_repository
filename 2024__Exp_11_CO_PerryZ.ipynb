{
  "cells": [
    {
      "cell_type": "markdown",
      "metadata": {
        "id": "view-in-github",
        "colab_type": "text"
      },
      "source": [
        "<a href=\"https://colab.research.google.com/github/FoleyLab/data_repository/blob/main/2024__Exp_11_CO_PerryZ.ipynb\" target=\"_parent\"><img src=\"https://colab.research.google.com/assets/colab-badge.svg\" alt=\"Open In Colab\"/></a>"
      ]
    },
    {
      "cell_type": "markdown",
      "metadata": {
        "id": "US0Y37R-DbrT"
      },
      "source": [
        "# Run this cell before beginning!"
      ]
    },
    {
      "cell_type": "code",
      "execution_count": null,
      "metadata": {
        "id": "dumVMj-bDbrU"
      },
      "outputs": [],
      "source": [
        "# @title\n",
        "import numpy as np\n",
        "from scipy import constants\n",
        "import matplotlib.pyplot as plt\n",
        "\n",
        "def extract_fit(x, y):\n",
        "    \"\"\"\n",
        "    Fit a 3rd order polynomial to the data\n",
        "    and return a dictionary containing the\n",
        "    coefficients and the polynomial\n",
        "    evaluated along a grid of 100 points\n",
        "    \"\"\"\n",
        "\n",
        "    # fit polynomial\n",
        "    coeffs,covM = np.polyfit(x, y, 3, cov=True)\n",
        "\n",
        "    # Create a new x array for the fitted curve\n",
        "    x_fit = np.linspace(x[0], x[-1], 100)\n",
        "\n",
        "    # Evaluate the fitted curve at the new x value\n",
        "    y_fit = np.polyval(coeffs, x_fit)\n",
        "\n",
        "    # save data to a dictionary for returning\n",
        "    fit_dict = {\n",
        "      \"a0\" : coeffs[3],\n",
        "      \"a0 Std. Error\" : np.sqrt(covM[3,3]),\n",
        "      \"a1\" : coeffs[2],\n",
        "      \"a1 Std. Error\" : np.sqrt(covM[2,2]),\n",
        "      \"a2\" : coeffs[1],\n",
        "      \"a2 Std. Error\" : np.sqrt(covM[1,1]),\n",
        "      \"a3\" : coeffs[0],\n",
        "      \"a3 Std. Error\" : np.sqrt(covM[0,0]),\n",
        "      \"x-fit\" : x_fit,\n",
        "      \"y-fit\" : y_fit,\n",
        "      \"cov\" : covM\n",
        "    }\n",
        "    return fit_dict\n",
        "\n",
        "\n",
        "# prefix url for data files that students will upload\n",
        "_url_prefix = \"https://raw.githubusercontent.com/FoleyLab/data_repository/main/CO_Spectroscopic_data/\"\n",
        "_reference_fund_url = \"https://raw.githubusercontent.com/FoleyLab/data_repository/main/CO_Spectroscopic_data/CO_fundamental_reference_data.csv\"\n",
        "_reference_over_url = \"https://raw.githubusercontent.com/FoleyLab/data_repository/main/CO_Spectroscopic_data/CO_overtone_reference_data.csv\"\n",
        "\n",
        "_reference_fundamental = np.loadtxt(_reference_fund_url,  delimiter=',')\n",
        "_reference_overtone = np.loadtxt(_reference_over_url, delimiter=',')\n",
        "\n",
        "# fundamental\n",
        "_r_x_f = _reference_fundamental[:,1]\n",
        "_r_y_f = _reference_fundamental[:,0]\n",
        "\n",
        "# overtone\n",
        "_r_x_o = _reference_overtone[:,1]\n",
        "_r_y_o = _reference_overtone[:,0]\n",
        "\n",
        "# extract parameters from data\n",
        "_ref_fund_dict = extract_fit(_r_x_f, _r_y_f)\n",
        "_ref_over_dict = extract_fit(_r_x_o, _r_y_o)\n",
        "\n",
        "\n",
        "# constants Need to make this into an equation\n",
        "_reference_mu_CO = 1.1385e-26\n",
        "_reference_mass_C12 = 1.99e-26\n",
        "_reference_mass_O16 = 2.656e-26\n",
        "_reference_c_cms = constants.c * 100\n",
        "_reference_a0_f = _ref_fund_dict[\"a0\"]\n",
        "_reference_a1_f = _ref_fund_dict[\"a1\"]\n",
        "_reference_a2_f = _ref_fund_dict[\"a2\"]\n",
        "_reference_a3_f = _ref_fund_dict[\"a3\"]\n",
        "_reference_a0_o = _ref_over_dict[\"a0\"]\n",
        "_reference_a1_o = _ref_over_dict[\"a1\"]\n",
        "_reference_a2_o = _ref_over_dict[\"a2\"]\n",
        "_reference_a3_o = _ref_over_dict[\"a3\"]\n",
        "_reference_alpha_f = 0.017506389984477955\n",
        "_reference_alpha_o = 0.035010222139057766\n",
        "_reference_Be_f = 1.9311559637590645\n",
        "_reference_Be_o = 1.940110881960663\n",
        "_reference_D_f = 6.060731667962634e-06\n",
        "_reference_D_o = 6.352601518484235e-06\n",
        "_reference_I_f = 1.4495334591456917e-46\n",
        "_reference_I_o = 1.4428428861079222e-46\n",
        "_reference_req_f = 1.1283597989456911e-10\n",
        "_reference_req_o = 1.1257527169485772e-10\n",
        "_reference_nu_e = 2169.6214211228644\n",
        "_reference_nu_xe = 13.224967570058652\n",
        "_reference_k = 1901.5252543663048\n",
        "_reference_beta = 23192150909.946667\n",
        "_reference_De = 1.767624634453031e-18"
      ]
    },
    {
      "cell_type": "markdown",
      "metadata": {
        "id": "4M-Tpx0NZnqg"
      },
      "source": [
        "# Extracting the spectroscopic parameters from spectral data\n",
        "## The Rotation-Vibration Spectrum of a diatomic molecule\n",
        "1. Read experimental data from .txt file\n",
        "    * 3 files (fundamental C-12, Fund. C-13, overtone C-12)\n",
        "    * Students must set up a file in x,y format with headers m & Wavenumbers (cm^-1)\n",
        "2. Fit a cubic polynomial to the data\n",
        "3. Use fitting parameters to calculate stuff\n",
        "4. propagate error from fitting parameter uncertainties\n",
        "\n",
        "###Instructions:\n",
        "You will not be writing a full report for Experiment 11.  You will be turning in this (1) Colab document, (2) a pdf of your spectra, and (3) a hand written copy of your calculations.  \n",
        "To make a copy of this colab notebook, go to File--> Save a copy in Drive Change the name of the file to your last name_Exp11.  To give me editor access, to go the Share icon in the top right hand and add bwoods22@charlotte.edu as an editor.\n",
        "\n",
        "The theory and background needed for this experiment can be found in the lab textbook (Experiments in Physical Chemistry 9th Ed. by Nibler et.al.)  and the handout found on Canvas. You will need these resources in order to complete this lab.\n",
        "\n",
        "# Introduction\n",
        "\n",
        "By the end of the experiment, students will be able to:\n",
        "\n",
        "* Set up appropriate parameters for FITR using a gas manifold to fill gas cell.\n",
        "* Identify R and P branches in IR spectra\n",
        "* Identify and label m values for IR spectra\n",
        "* Use python coding to create equations to fit data and calculate results\n",
        "* Calculate bond length, α, $B_e$ , D for C-O for harmonic oscillator model, for C-12 & C-13 and for the first overtone\n",
        "* Calculate the anharmonicity and discuss the limitations of the harmonic oscillator model\n",
        "* Compare experimental values of bond length, $B_e$, and D to theoretical values found from fitting the Morse Pontential from computational data\n",
        "* Propagate error from fitting parameters to determine the uncertainty of computed values and determine the source of highest error.\n"
      ]
    },
    {
      "cell_type": "markdown",
      "source": [
        "# Experimental Parameters\n",
        "These values will not be used for calculations but do need to be noted.\n",
        "\n",
        "**Table 1. Experimental set-up information**\n",
        "\n",
        "| Parameter     | Value (with proper units)  |\n",
        "| ----------- | ----------- |\n",
        "| Resolution     |   text     |\n",
        "| Scan range   | Text        |\n",
        "|Pressure for overtone| text|\n",
        "|Pressure for fundamental| text|\n",
        "\n",
        " Mention any issues or changes to procedures here:\n",
        "\n"
      ],
      "metadata": {
        "id": "K39ieWtFbWRe"
      }
    },
    {
      "cell_type": "markdown",
      "metadata": {
        "id": "iNvFkGihPnLM"
      },
      "source": [
        "# Uploading your data\n",
        "**Save your IR data using the following naming conventions**:\n",
        "\"CO_fundamental_LastNamesOfTeamMembers.csv\" for the fundamental data where you have used the last names of all team members using [Camel Case](https://en.wikipedia.org/wiki/Camel_case).  Use the same style and last name order for the overtone and isotope data, (e.g. \"CO_overtone_LastNamesOfTeamMembers.csv\", etc).\n",
        "* Must be .csv file with the format of wavenumber, m-value\n",
        "* File should not have a header, but should start with the first line of data\n",
        "* File should not have a new-line or carriage return after the final value of data"
      ]
    },
    {
      "cell_type": "markdown",
      "metadata": {
        "id": "8sCKZsCeavdx"
      },
      "source": [
        "After you have uploaded your data to [this folder](https://github.com/FoleyLab/data_repository/tree/main/CO_Spectroscopic_data), update the file name variables below and run the code block."
      ]
    },
    {
      "cell_type": "code",
      "execution_count": null,
      "metadata": {
        "id": "yjiInp5lbCIk",
        "colab": {
          "base_uri": "https://localhost:8080/"
        },
        "outputId": "e1d5bee8-e914-4d1f-845f-9bc420090940"
      },
      "outputs": [
        {
          "output_type": "stream",
          "name": "stdout",
          "text": [
            "https://raw.githubusercontent.com/FoleyLab/data_repository/main/CO_Spectroscopic_data/CO_fundamental_reference_data.csv\n",
            "https://raw.githubusercontent.com/FoleyLab/data_repository/main/CO_Spectroscopic_data/CO_overtone_reference_data.csv\n"
          ]
        }
      ],
      "source": [
        "fundamental_filename = \"CO_fundamental_reference_data.csv\" #<== replace with the name of the file containing your fundamental data\n",
        "overtone_filename = \"CO_overtone_reference_data.csv\" #<== replace with the name of the file containing your overtone data\n",
        "isotope_filename = \"CO_fundamental_reference_data.csv\" #<== replace with the name of the file containing your isotope data\n",
        "my_fundamental_url = _url_prefix + fundamental_filename\n",
        "my_overtone_url = _url_prefix + overtone_filename\n",
        "my_isotope_url = _url_prefix + isotope_filename\n",
        "print(my_fundamental_url)\n",
        "print(my_overtone_url)"
      ]
    },
    {
      "cell_type": "markdown",
      "source": [
        "#Plotting your data\n",
        "The following code blocks will plot the data for the fundamental and overtone for C-12 isotope of CO, you will need to modify the code responsible for labeling the x- and y- axis with the correct labels with units."
      ],
      "metadata": {
        "id": "BkbLrDSzhpRI"
      }
    },
    {
      "cell_type": "code",
      "execution_count": null,
      "metadata": {
        "id": "i0nMXUmzcDMJ",
        "colab": {
          "base_uri": "https://localhost:8080/",
          "height": 1000
        },
        "outputId": "e321fbad-dd31-4776-b204-8c80edc635e4"
      },
      "outputs": [
        {
          "output_type": "display_data",
          "data": {
            "text/plain": [
              "<Figure size 640x480 with 1 Axes>"
            ],
            "image/png": "[encoded data removed]"
          },
          "metadata": {}
        },
        {
          "output_type": "display_data",
          "data": {
            "text/plain": [
              "<Figure size 640x480 with 1 Axes>"
            ],
            "image/png": "[encoded data removed]"
          },
          "metadata": {}
        },
        {
          "output_type": "display_data",
          "data": {
            "text/plain": [
              "<Figure size 640x480 with 1 Axes>"
            ],
            "image/png": "[encoded data removed]"
          },
          "metadata": {}
        },
        {
          "output_type": "stream",
          "name": "stdout",
          "text": [
            " Results from NumPy Curve Fit to Fundamental Data\n",
            " a0: 2143.171485982747 +/- 0.002326147106302213 cm^-1\n",
            " a1: 3.827299147549173 +/- 0.00021824052644139793 cm^-1\n",
            " a2: -0.017506389984477955 +/- 6.762776566551093e-06 cm^-1\n",
            " a3: -2.4242926671850537e-05 +/- 4.059175373665849e-07 cm^-1\n",
            " \n",
            " Results from NumPy Curve Fit to Overtone Data\n",
            " a0: 4259.893036825377 +/- 0.0018331588611932791 cm^-1\n",
            " a1: 3.8102013196432103 +/- 0.0002150382681547577 cm^-1\n",
            " a2: -0.035010222139057766 +/- 7.092512912654886e-06 cm^-1\n",
            " a3: -2.541040607393694e-05 +/- 5.717852991413751e-07 cm^-1\n",
            " \n",
            " Results from NumPy Curve Fit to Isotope Data\n",
            " a0: 2143.171485982747 +/- 0.002326147106302213 cm^-1\n",
            " a1: 3.827299147549173 +/- 0.00021824052644139793 cm^-1\n",
            " a2: -0.017506389984477955 +/- 6.762776566551093e-06 cm^-1\n",
            " a3: -2.4242926671850537e-05 +/- 4.059175373665849e-07 cm^-1\n"
          ]
        }
      ],
      "source": [
        "# Write a helper function to reduce code overload\n",
        "def plot_data(x_values, y_values, x_fit, y_fit, data_label):\n",
        "  # Plot the data and the fitted curve\n",
        "  plt.plot(x_values, y_values, 'o', label=f\"{data_label} Data\")\n",
        "  plt.plot(x_fit, y_fit, '--', label=f\"{data_label} Fit\")\n",
        "  plt.xlabel(\"m Value\")\n",
        "  plt.ylabel(\"Transition Energy (cm$^{-1}$)\")\n",
        "  plt.legend()\n",
        "  plt.show()\n",
        "\n",
        "data_f = np.loadtxt(my_fundamental_url,  delimiter=',')\n",
        "data_o = np.loadtxt(my_overtone_url, delimiter=',')\n",
        "data_i = np.loadtxt(my_isotope_url, delimiter=',')\n",
        "\n",
        "# fundamental\n",
        "x_f = data_f[:,1]\n",
        "y_f = data_f[:,0]\n",
        "\n",
        "# overtone\n",
        "x_o = data_o[:,1]\n",
        "y_o = data_o[:,0]\n",
        "\n",
        "# isotope\n",
        "x_i = data_i[:,1]\n",
        "y_i = data_i[:,0]\n",
        "\n",
        "\n",
        "# extract parameters from data\n",
        "fund_dict = extract_fit(x_f, y_f)\n",
        "over_dict = extract_fit(x_o, y_o)\n",
        "iso_dict = extract_fit(x_i, y_i)\n",
        "\n",
        "# get lines of best fit from data\n",
        "x_f_fit = fund_dict[\"x-fit\"]\n",
        "y_f_fit = fund_dict[\"y-fit\"]\n",
        "\n",
        "x_o_fit = over_dict[\"x-fit\"]\n",
        "y_o_fit = over_dict[\"y-fit\"]\n",
        "\n",
        "x_i_fit = iso_dict[\"x-fit\"]\n",
        "y_i_fit = iso_dict[\"y-fit\"]\n",
        "\n",
        "# Plot the data and the fitted curve\n",
        "plot_data(x_f, y_f, x_f_fit, y_f_fit, 'Fundamental')\n",
        "\n",
        "# Plot the data and the fitted curve\n",
        "plot_data(x_o, y_o, x_o_fit, y_o_fit, 'Overtone')\n",
        "\n",
        "# Plot the data and the fitted curve\n",
        "plot_data(x_i, y_i, x_i_fit, y_i_fit, 'Isotope')\n",
        "\n",
        "\n",
        "print(F' Results from NumPy Curve Fit to Fundamental Data')\n",
        "print(F' a0: {fund_dict[\"a0\"]} +/- {fund_dict[\"a0 Std. Error\"]} cm^-1')\n",
        "print(F' a1: {fund_dict[\"a1\"]} +/- {fund_dict[\"a1 Std. Error\"]} cm^-1')\n",
        "print(F' a2: {fund_dict[\"a2\"]} +/- {fund_dict[\"a2 Std. Error\"]} cm^-1')\n",
        "print(F' a3: {fund_dict[\"a3\"]} +/- {fund_dict[\"a3 Std. Error\"]} cm^-1')\n",
        "print(\" \")\n",
        "print(F' Results from NumPy Curve Fit to Overtone Data')\n",
        "print(F' a0: {over_dict[\"a0\"]} +/- {over_dict[\"a0 Std. Error\"]} cm^-1')\n",
        "print(F' a1: {over_dict[\"a1\"]} +/- {over_dict[\"a1 Std. Error\"]} cm^-1')\n",
        "print(F' a2: {over_dict[\"a2\"]} +/- {over_dict[\"a2 Std. Error\"]} cm^-1')\n",
        "print(F' a3: {over_dict[\"a3\"]} +/- {over_dict[\"a3 Std. Error\"]} cm^-1')\n",
        "print(\" \")\n",
        "print(F' Results from NumPy Curve Fit to Isotope Data')\n",
        "print(F' a0: {iso_dict[\"a0\"]} +/- {iso_dict[\"a0 Std. Error\"]} cm^-1')\n",
        "print(F' a1: {iso_dict[\"a1\"]} +/- {iso_dict[\"a1 Std. Error\"]} cm^-1')\n",
        "print(F' a2: {iso_dict[\"a2\"]} +/- {iso_dict[\"a2 Std. Error\"]} cm^-1')\n",
        "print(F' a3: {iso_dict[\"a3\"]} +/- {iso_dict[\"a3 Std. Error\"]} cm^-1')"
      ]
    },
    {
      "cell_type": "markdown",
      "metadata": {
        "id": "t-D7SRLlz_UT"
      },
      "source": [
        "#Interpreting plots\n",
        "Before moving on, take a moment to analyze the plots and describe them. Double click in this textbook to edit and add your answers.\n",
        "\n",
        "**Question 1**: Make sure your graph is reasonable.  Does the data points fit on the regression line?  Does the trend between frequency and m values behave as you expect?  If you had to remove data points, mention it here.\n",
        "\n",
        "**Question 2**: Compare the energy level of the overtone and fundamental:\n",
        "\n",
        "What is the fundamental transtion?\n",
        "\n",
        "What vibrational transition does the overtone account for?\n",
        "\n",
        "What is the approximate ratio of the overtone to the fundamental experimental values?\n",
        "\n",
        "Does the plot agree with your expectations of the energy difference between the two transitions? Why or why not?\n",
        "\n",
        "##Finding the fitting parameters\n",
        "\n",
        "We will now compute rotational and vibrational parameters from this fit.\n",
        "The following block will store the polynomial coefficients from the fundamental, overtone, and isotope\n",
        "data.  The  cubic polynomial fit (Eqn 21 in the handout) for each data set is:\n",
        "\n",
        "$$ \\bar{\\nu} = a_0 + a_1 m + a_2 m^2 + a_3 m^3 $$\n",
        "\n",
        "We will associate the coefficients from the fundamental data as follows:\n",
        "\n",
        "$a_n \\rightarrow $ `an_f`\n",
        "\n",
        "from the overtone data as\n",
        "\n",
        "$a_n \\rightarrow $ `an_o`\n",
        "\n",
        "and from the isotope data as\n",
        "\n",
        "$a_n \\rightarrow $ `an_i`\n",
        "\n",
        "We will work through the fundamental and overtone for C-12 and then you will replicate the process of the fundamental for C-13 using similar codes."
      ]
    },
    {
      "cell_type": "code",
      "execution_count": null,
      "metadata": {
        "id": "yZ4OHRMUaNoE"
      },
      "outputs": [],
      "source": [
        "a0_f = fund_dict[\"a0\"]\n",
        "a1_f = fund_dict[\"a1\"]\n",
        "a2_f = fund_dict[\"a2\"]\n",
        "a3_f = fund_dict[\"a3\"]\n",
        "\n",
        "a0_o = over_dict[\"a0\"]\n",
        "a1_o = over_dict[\"a1\"]\n",
        "a2_o = over_dict[\"a2\"]\n",
        "a3_o = over_dict[\"a3\"]\n",
        "\n",
        "# need isotope data\n",
        "a0_i = iso_dict[\"a0\"]\n",
        "a1_i = iso_dict[\"a1\"]\n",
        "a2_i = iso_dict[\"a2\"]\n",
        "a3_i = iso_dict[\"a3\"]\n",
        "\n",
        "\n",
        "\n",
        "# print coefficients\n",
        "#print(F'a0 for the fundamental: {a0_f}')\n",
        "#print(F'a1 for the fundamental: {a1_f}')\n",
        "#print(F'a2 for the fundamental: {a2_f}')\n",
        "#print(F'a3 for the fundamental: {a3_f}')\n",
        "#print(F'a0 for the overtone: {a0_o}')\n",
        "#print(F'a1 for the overtone: {a1_o}')\n",
        "#print(F'a2 for the overtone: {a2_o}')\n",
        "#print(F'a3 for the overtone: {a3_o}')\n",
        "#print(F'a0 for the isotopomer: {a0_i}')\n",
        "#print(F'a1 for the isotopomer: {a1_i}')\n",
        "#print(F'a2 for the isotopomer: {a2_i}')\n",
        "#print(F'a3 for the isotopomer: {a3_i}')"
      ]
    },
    {
      "cell_type": "markdown",
      "metadata": {
        "id": "pimmuGhMDbrX"
      },
      "source": [
        "Next we will complete some functions that will to enable us to compute various rotational and vibrational properties. The format for this section is as follows:\n",
        "\n",
        "1. We will provide the relevant equation\n",
        "2. We will provide a related function template with documentation that you must complete with python code that implements the relevant equation\n",
        "3. We will provide a block of code to be completed that calls the relevant function on your stored data to compute properties from your data."
      ]
    },
    {
      "cell_type": "markdown",
      "metadata": {
        "id": "lA0iGGzvkxCl"
      },
      "source": [
        "A.  Implement a function to compute reduced mass based on the equation\n",
        "\n",
        "$$ \\mu = \\frac{m_A m_B}{m_A + m_B} $$"
      ]
    },
    {
      "cell_type": "code",
      "execution_count": null,
      "metadata": {
        "id": "rVi8fOpvp-JW",
        "outputId": "7927f521-f8b1-4598-d269-edbeb5e231d5",
        "colab": {
          "base_uri": "https://localhost:8080/",
          "height": 332
        }
      },
      "outputs": [
        {
          "output_type": "error",
          "ename": "NameError",
          "evalue": "name 'mu' is not defined",
          "traceback": [
            "\u001b[0;31m---------------------------------------------------------------------------\u001b[0m",
            "\u001b[0;31mNameError\u001b[0m                                 Traceback (most recent call last)",
            "\u001b[0;32m<ipython-input-5-1004e8252164>\u001b[0m in \u001b[0;36m<cell line: 27>\u001b[0;34m()\u001b[0m\n\u001b[1;32m     25\u001b[0m \u001b[0;31m# Call the compute_reduced_mass function on reference masses of carbon 12 and carbon 16 and store the result in computed_mu_CO\u001b[0m\u001b[0;34m\u001b[0m\u001b[0;34m\u001b[0m\u001b[0m\n\u001b[1;32m     26\u001b[0m \u001b[0;34m\u001b[0m\u001b[0m\n\u001b[0;32m---> 27\u001b[0;31m \u001b[0mcomputed_mu_CO\u001b[0m \u001b[0;34m=\u001b[0m \u001b[0mcompute_reduced_mass\u001b[0m\u001b[0;34m(\u001b[0m\u001b[0m_reference_mass_C12\u001b[0m\u001b[0;34m,\u001b[0m \u001b[0m_reference_mass_O16\u001b[0m\u001b[0;34m)\u001b[0m\u001b[0;34m\u001b[0m\u001b[0;34m\u001b[0m\u001b[0m\n\u001b[0m\u001b[1;32m     28\u001b[0m \u001b[0;34m\u001b[0m\u001b[0m\n\u001b[1;32m     29\u001b[0m \u001b[0;31m# we are go\u001b[0m\u001b[0;34m\u001b[0m\u001b[0;34m\u001b[0m\u001b[0m\n",
            "\u001b[0;32m<ipython-input-5-1004e8252164>\u001b[0m in \u001b[0;36mcompute_reduced_mass\u001b[0;34m(mass_a, mass_b)\u001b[0m\n\u001b[1;32m     21\u001b[0m     \u001b[0;31m#<== insert code to compute mu here\u001b[0m\u001b[0;34m\u001b[0m\u001b[0;34m\u001b[0m\u001b[0m\n\u001b[1;32m     22\u001b[0m \u001b[0;34m\u001b[0m\u001b[0m\n\u001b[0;32m---> 23\u001b[0;31m     \u001b[0;32mreturn\u001b[0m \u001b[0mmu\u001b[0m\u001b[0;34m\u001b[0m\u001b[0;34m\u001b[0m\u001b[0m\n\u001b[0m\u001b[1;32m     24\u001b[0m \u001b[0;34m\u001b[0m\u001b[0m\n\u001b[1;32m     25\u001b[0m \u001b[0;31m# Call the compute_reduced_mass function on reference masses of carbon 12 and carbon 16 and store the result in computed_mu_CO\u001b[0m\u001b[0;34m\u001b[0m\u001b[0;34m\u001b[0m\u001b[0m\n",
            "\u001b[0;31mNameError\u001b[0m: name 'mu' is not defined"
          ]
        }
      ],
      "source": [
        "def compute_reduced_mass(mass_a, mass_b):\n",
        "    \"\"\"\n",
        "    Compute reduced mass using this formula\n",
        "\n",
        "    mu = mass_a * mass_b / (mass_a + mass_b)\n",
        "\n",
        "    Arguments\n",
        "    ---------\n",
        "    mass_a : float\n",
        "        the mass of atom a in kg (e.g. mass of C)\n",
        "\n",
        "    mass_b : float\n",
        "        the mass of atom b in kg (e.g. mass of O)\n",
        "\n",
        "    Returns\n",
        "    -------\n",
        "    mu : float\n",
        "        the reduced mass of the diatomic (e.g. reduced mass of CO)\n",
        "    \"\"\"\n",
        "\n",
        "    #<== insert code to compute mu here\n",
        "\n",
        "    return mu\n",
        "\n",
        "# Call the compute_reduced_mass function on reference masses of carbon 12 and carbon 16 and store the result in computed_mu_CO\n",
        "\n",
        "computed_mu_CO = compute_reduced_mass(_reference_mass_C12, _reference_mass_O16)\n",
        "\n",
        "# we are go\n",
        "assert np.isclose(computed_mu_CO * 1e20, _reference_mu_CO * 1e20)"
      ]
    },
    {
      "cell_type": "markdown",
      "metadata": {
        "id": "aWyKjSWJDbrY"
      },
      "source": [
        "Define the mass of $^{12}$C and $^{16}$O in kilograms and store to the variables `mass_C12` and `mass_O16`\n",
        "and then call the `compute_reduced_mass()` function on those two masses and store the output to\n",
        "`mu_CO`."
      ]
    },
    {
      "cell_type": "code",
      "execution_count": null,
      "metadata": {
        "id": "Y7kE-vYmDbrY"
      },
      "outputs": [],
      "source": [
        "#<== assign mass of carbon 12 here\n",
        "\n",
        "\n",
        "#<== assign mass of oxygen 16 here\n",
        "\n",
        "\n",
        "#<== compute reduced mass of CO here\n",
        "\n",
        "\n",
        "#<== print mu_CO\n",
        "\n",
        "assert np.isclose(mu_CO * 1e20, _reference_mu_CO * 1e20)"
      ]
    },
    {
      "cell_type": "markdown",
      "source": [
        "##Rotational Parameters\n",
        "We will first start with analyzing the data to calculate the rotational parameters: $B_e$ , $ \\alpha_e$, D, $I_e$, and $r_e$. Before we get into the calculations, let's pause and make sure we understand what the parameters mean so when you calculate the values you can determine if they are reasonable.\n",
        "\n",
        "**Question 3**: What does each of the variables mean?  Define all 5 variables.\n",
        "\n",
        "\n",
        "| Parameter     | Definition  |\n",
        "| ----------- | ----------- |\n",
        "| $B_e$|   text     |\n",
        "| $ \\alpha_e$| Text        |\n",
        "|$D$| text|\n",
        "|$I_e$| text|\n",
        "|$r_e$ | text|\n",
        "\n",
        "**Question 4**:Before analyzing your data, let's make some predictions. What kind of bond is between the C and O in CO?  \n",
        "\n",
        "Would the number of bonds impact the moment of interia?  Defend your answer in 2 to 3 sentences. Defend your answer in 2 to 3 complete sentences.\n",
        "\n",
        "If we were examining NO instead of CO, would the moment of inertia be affected?  Defend your answer in 2 to 3 complete sentences.\n",
        "\n",
        "\n",
        "\n",
        "**Question 5:** The spacing between the rotational peaks is not constant for a rovibrational spectrum. Which contribution to the term energy leads to changes in the spacing between peaks?"
      ],
      "metadata": {
        "id": "XMSiDUfOiU94"
      }
    },
    {
      "cell_type": "markdown",
      "metadata": {
        "id": "tnZzNlp5gj1p"
      },
      "source": [
        "###Calculation of rotational parameters\n",
        "These equations are the same as in your handout and textbook, they are repeated here for your convenience.\n",
        "$$ \\alpha = -a_2 $$\n"
      ]
    },
    {
      "cell_type": "code",
      "execution_count": null,
      "metadata": {
        "id": "o6WefEikDbrY"
      },
      "outputs": [],
      "source": [
        "def compute_alpha(a_2):\n",
        "    \"\"\"\n",
        "    Compute the \\alpha value from a given a_2 value using the formula\n",
        "    alpha = - a_2\n",
        "\n",
        "    Arguments\n",
        "    ---------\n",
        "    a_2 : float\n",
        "        the quadratic coefficient a_2 from your polynomial fit\n",
        "\n",
        "    Returns\n",
        "    -------\n",
        "    alpha : float\n",
        "        The quadratic contribution to the rotational constant\n",
        "    \"\"\"\n",
        "\n",
        "    #<== insert code to compute alpha here\n",
        "\n",
        "    return alpha\n",
        "\n",
        "assert np.isclose(compute_alpha(_reference_a2_f), _reference_alpha_f)"
      ]
    },
    {
      "cell_type": "markdown",
      "metadata": {
        "id": "y7P8epbFDbrY"
      },
      "source": [
        "Compute an $\\alpha$ value for your fundamental data using the variable `a2_f` as input and\n",
        "store it to a variable called `alpha_f`.  Then, compute an $\\alpha$ value for your overtone data\n",
        "using the variable `a2_o` as input and store it to a variable called `alpha_o`."
      ]
    },
    {
      "cell_type": "code",
      "execution_count": null,
      "metadata": {
        "id": "2UFa7zM4hpDV"
      },
      "outputs": [],
      "source": [
        "#<== insert code to compute and print alpha_f from a2_f using the compute_alpha() function\n"
      ]
    },
    {
      "cell_type": "markdown",
      "metadata": {
        "id": "4tfHKr0UhgYH"
      },
      "source": [
        "$$ B_e = \\frac{a_1}{2} + \\alpha $$"
      ]
    },
    {
      "cell_type": "code",
      "execution_count": null,
      "metadata": {
        "id": "pdjzyg6JDbrZ"
      },
      "outputs": [],
      "source": [
        "def compute_Be(a_1, a_2):\n",
        "    \"\"\"\n",
        "    Compute the Be value from given a_1 and a_2 values, using the formula\n",
        "    Be = a_1 / 2 + alpha\n",
        "\n",
        "    where you can use the compute_alpha() function to compute alpha from a_2\n",
        "\n",
        "    Arguments\n",
        "    ---------\n",
        "    a_1 : float\n",
        "        the linear coefficient from your polynomial fit\n",
        "\n",
        "    a_2 : float\n",
        "        the quadratic coefficient from your polynomial fit\n",
        "\n",
        "    Returns\n",
        "    -------\n",
        "    Be : float\n",
        "        The rotational constant in wavenumbers\n",
        "\n",
        "    \"\"\"\n",
        "\n",
        "    #<== insert code to compute alpha here\n",
        "\n",
        "\n",
        "    #<== insert code to compute Be here\n",
        "\n",
        "    return Be\n",
        "\n",
        "assert np.isclose(compute_Be(_reference_a1_f, _reference_a2_f), _reference_Be_f)"
      ]
    },
    {
      "cell_type": "code",
      "execution_count": null,
      "metadata": {
        "id": "lBJZZa6dfXbk"
      },
      "outputs": [],
      "source": [
        "# Be for fundamental\n",
        "\n",
        "\n",
        "# Be for overtone\n",
        "\n",
        "\n",
        "#print values"
      ]
    },
    {
      "cell_type": "markdown",
      "metadata": {
        "id": "jDP_EDypirhI"
      },
      "source": [
        "$$ I = \\frac{h}{8 \\pi^2 c B_e} $$"
      ]
    },
    {
      "cell_type": "code",
      "execution_count": null,
      "metadata": {
        "id": "V5s2LHKXDbrZ"
      },
      "outputs": [],
      "source": [
        "def compute_I(Be):\n",
        "    \"\"\"\n",
        "    Compute the moment of inertia I value from given Be value using the formula\n",
        "    I = h / (8 * pi^2 * c * Be)\n",
        "\n",
        "    Arguments\n",
        "    ---------\n",
        "    Be : float\n",
        "        the rotational constant in wavenumbers\n",
        "\n",
        "    Returns\n",
        "    -------\n",
        "    I : float\n",
        "        The moment of inertia in SI units (kg * m^2)\n",
        "\n",
        "    \"\"\"\n",
        "    # speed of light in cm / s\n",
        "    c = constants.c * 100\n",
        "\n",
        "\n",
        "    # Planck's constant in SI units\n",
        "    h = constants.h\n",
        "\n",
        "\n",
        "    #<== insert code to compute I here\n",
        "\n",
        "    return I\n",
        "\n",
        "assert np.isclose(compute_I(_reference_Be_f), _reference_I_f)"
      ]
    },
    {
      "cell_type": "code",
      "execution_count": null,
      "metadata": {
        "id": "VXCT_pFpiqU1"
      },
      "outputs": [],
      "source": [
        "# I for fundamental\n",
        "\n",
        "\n",
        "# I for overtone\n",
        "\n",
        "#print values"
      ]
    },
    {
      "cell_type": "markdown",
      "metadata": {
        "id": "UpS9rXOGklN8"
      },
      "source": [
        "$$ r_e = \\sqrt{\\frac{I}{\\mu} } $$\n"
      ]
    },
    {
      "cell_type": "code",
      "execution_count": null,
      "metadata": {
        "id": "ExhuimXRDbra"
      },
      "outputs": [],
      "source": [
        "def compute_re(I, mu):\n",
        "    \"\"\"\n",
        "    Compute the equilibrium bondlength from the moment of inertia and reduced mass\n",
        "    re = sqrt{ I / mu }\n",
        "\n",
        "    Arguments\n",
        "    ---------\n",
        "    I : float\n",
        "        the rotational constant in SI units\n",
        "\n",
        "    mu : float\n",
        "        the reduced mass in SI units\n",
        "\n",
        "    Returns\n",
        "    -------\n",
        "    re : float\n",
        "        The equilibrium bondlength in SI units\n",
        "\n",
        "    \"\"\"\n",
        "    #<== insert code to compute re here!\n",
        "\n",
        "    return re\n",
        "\n",
        "assert np.isclose(compute_re(_reference_I_f, _reference_mu_CO), _reference_req_f)"
      ]
    },
    {
      "cell_type": "code",
      "execution_count": null,
      "metadata": {
        "id": "AGkhochIiBRi"
      },
      "outputs": [],
      "source": [
        "# equilibrium bondlength from fundamental\n",
        "\n",
        "\n",
        "# equibibrium bondlength from overtone\n",
        "\n",
        "\n",
        "#print values\n"
      ]
    },
    {
      "cell_type": "markdown",
      "metadata": {
        "id": "DzcXBpATh6-L"
      },
      "source": [
        "$$ D = -\\frac{a_3}{4} $$"
      ]
    },
    {
      "cell_type": "code",
      "execution_count": null,
      "metadata": {
        "id": "Ad8iUweiDbra"
      },
      "outputs": [],
      "source": [
        "def compute_D(a_3):\n",
        "    \"\"\"\n",
        "    Compute the dissociation energy in wavenumbers\n",
        "    D = -a_3 / 4\n",
        "\n",
        "    Arguments\n",
        "    ---------\n",
        "    a_3 : float\n",
        "        the cubic coefficient from your polynomial fit\n",
        "\n",
        "    Returns\n",
        "    -------\n",
        "    D : float\n",
        "        The dissociation energy in wavenumbers\n",
        "\n",
        "    \"\"\"\n",
        "    #<== insert code to compute D here!\n",
        "\n",
        "\n",
        "    return D\n",
        "\n",
        "assert np.isclose(compute_D(_reference_a3_f), _reference_D_f)"
      ]
    },
    {
      "cell_type": "code",
      "execution_count": null,
      "metadata": {
        "id": "MesqFf-dhXn1"
      },
      "outputs": [],
      "source": [
        "# D for fundamental\n",
        "\n",
        "\n",
        "# D for overtone\n",
        "\n",
        "\n",
        "#print"
      ]
    },
    {
      "cell_type": "markdown",
      "source": [
        "##Vibrational Parameters\n",
        "In this section you will calculate the vibrational parameters: $ν ̃_e$, $ν ̃_e x_e, $ $k$, β, and $D_e$.  You will need to use the fundamental and overtone values to determine these parameters. As before, we will start by defining each variable\n",
        "\n",
        "**Question 6:** Define all 5 variables:\n",
        "\n",
        "| Parameter     | Definition  |\n",
        "| ----------- | ----------- |\n",
        "| $ν ̃_e$|   text     |\n",
        "| $ν ̃_e x_e$| Text        |\n",
        "|$k$| text|\n",
        "|$β$| text|\n",
        "|$D_e$| text|\n",
        "\n",
        "\n",
        "**Question 7**: What are the SI units of the force constant?\n",
        "\n",
        "**Question 8:** You are asked to explain force constants and springs to a middle school science class. You are given balls and springs of different kinds. In 2 to 4 sentences, how are you going to explain the concepts using the provided resources?\n",
        "\n",
        "**Question 9:**  Does the bond type (single, double, triple) impact the force constant? Explain your reasoning and defend your answer in 2 to 5 sentences.\n",
        "\n",
        "**Question 10:**  The contributions from the anharmonic terms to the transition frequency change with higher energy overtones. Would you expect these contributions to be more or less important for highly stretched or compressed configurations? Explain your reasoning in 2 to 5 sentences.\n"
      ],
      "metadata": {
        "id": "saTwFiIGkYiD"
      }
    },
    {
      "cell_type": "markdown",
      "metadata": {
        "id": "DUL6L5I1lz-l"
      },
      "source": [
        "$$ v_e = 3 a_{0,f} - a_{0,o} $$"
      ]
    },
    {
      "cell_type": "code",
      "execution_count": null,
      "metadata": {
        "id": "WYJIa5Xrjmpw"
      },
      "outputs": [],
      "source": [
        "def compute_nu_e(a0_f, a0_o):\n",
        "    \"\"\"\n",
        "    Compute the Harmonic frequency\n",
        "    nu_e = 3 a0_f - a0_o\n",
        "\n",
        "    Arguments\n",
        "    ---------\n",
        "    a0_f : float\n",
        "        the constant coefficient from the polynomial fit to fundamental data\n",
        "\n",
        "    a0_o : float\n",
        "        the constant coefficient from the polynomial fit to the overtone data\n",
        "\n",
        "    Returns\n",
        "    -------\n",
        "    nu_e : float\n",
        "        The harmonic approximation to the vibrational frequency in wavenumbers\n",
        "\n",
        "    \"\"\"\n",
        "    #<== insert code to compute nu_e here!\n",
        "\n",
        "\n",
        "    return nu_e\n",
        "\n",
        "assert np.isclose(compute_nu_e(a0_f, a0_o), _reference_nu_e)"
      ]
    },
    {
      "cell_type": "code",
      "execution_count": null,
      "metadata": {
        "id": "f8pCYJL2lqhn"
      },
      "outputs": [],
      "source": [
        "\n",
        "#print value\n",
        "print(ve)"
      ]
    },
    {
      "cell_type": "markdown",
      "metadata": {
        "id": "5O6UkO6U9kRF"
      },
      "source": [
        "$$ v_{xe} = \\frac{v_e - a_{0,f}}{2} $$"
      ]
    },
    {
      "cell_type": "code",
      "execution_count": null,
      "metadata": {
        "id": "NNwMEfahDbrb"
      },
      "outputs": [],
      "source": [
        "def compute_nu_xe(nu_e, a0_f):\n",
        "    \"\"\"\n",
        "    Compute the anharmonic correction\n",
        "    nu_xe = (nu_e - ao_f) / 2\n",
        "\n",
        "    Arguments\n",
        "    ---------\n",
        "    nu_e : float\n",
        "        the harmonic vibrational contribution\n",
        "\n",
        "    a0_f : float\n",
        "        the constant coefficient from the polynomial fit to the fundamental data\n",
        "\n",
        "    Returns\n",
        "    -------\n",
        "    nu_xe : float\n",
        "        The anharmonic correction in wavenumbers\n",
        "\n",
        "    \"\"\"\n",
        "    #<== insert code to compute nu_xe here!\n",
        "\n",
        "\n",
        "    return nu_xe\n",
        "\n",
        "assert np.isclose(compute_nu_xe(_reference_nu_e, _reference_a0_f), _reference_nu_xe)"
      ]
    },
    {
      "cell_type": "code",
      "execution_count": null,
      "metadata": {
        "id": "OW5CkEDFlrf8"
      },
      "outputs": [],
      "source": [
        "#print value"
      ]
    },
    {
      "cell_type": "markdown",
      "metadata": {
        "id": "Zz85hQo4-I2w"
      },
      "source": [
        "$$ k = (2 \\pi c v_e)^2 \\cdot \\mu $$"
      ]
    },
    {
      "cell_type": "code",
      "execution_count": null,
      "metadata": {
        "id": "djzL6EyJDbrb"
      },
      "outputs": [],
      "source": [
        "def compute_k(nu_e, mu):\n",
        "    \"\"\"\n",
        "    Compute the Harmonic force constant k = (2 * pi * c * nu_e)^2  * mu\n",
        "\n",
        "    Arguments\n",
        "    ---------\n",
        "    nu_e : float\n",
        "        the harmonic vibrational contribution\n",
        "\n",
        "    mu : float\n",
        "        the reduced mass in SI units\n",
        "\n",
        "    Returns\n",
        "    -------\n",
        "    k : float\n",
        "        The harmonic force constant in SI units (kg * m^2 / s^2)\n",
        "\n",
        "    \"\"\"\n",
        "    # speed of light in cm / s\n",
        "    c = constants.c * 100\n",
        "\n",
        "\n",
        "    #<== insert code to compute k here\n",
        "\n",
        "\n",
        "    return k\n",
        "\n",
        "assert np.isclose(compute_k(_reference_nu_e, _reference_mu_CO), _reference_k)"
      ]
    },
    {
      "cell_type": "code",
      "execution_count": null,
      "metadata": {
        "id": "8CjeiknB90T3"
      },
      "outputs": [],
      "source": [
        "#print values"
      ]
    },
    {
      "cell_type": "markdown",
      "metadata": {
        "id": "KgvY7_P0-bc4"
      },
      "source": [
        "$$ \\beta = \\sqrt{\\frac{8 \\pi^2 \\cdot c \\cdot v_{xe} \\cdot \\mu}{h}} $$"
      ]
    },
    {
      "cell_type": "code",
      "execution_count": null,
      "metadata": {
        "id": "e-Gh1Yn1Dbrc"
      },
      "outputs": [],
      "source": [
        "def compute_beta(nu_xe, mu):\n",
        "    \"\"\"\n",
        "    Compute the Harmonic force constant beta = sqrt( ( 8 pi^2 c nu_xe mu ) / h )\n",
        "\n",
        "    Arguments\n",
        "    ---------\n",
        "    nu_se : float\n",
        "        the anharmonic vibrational contribution\n",
        "\n",
        "    mu : float\n",
        "        the reduced mass in SI units\n",
        "\n",
        "    Returns\n",
        "    -------\n",
        "    beta : float\n",
        "        The exponential factor for the Morse potential\n",
        "\n",
        "    \"\"\"\n",
        "    # speed of light in cm / s\n",
        "    c = constants.c * 100\n",
        "\n",
        "    # plancks constant in SI units\n",
        "    h = constants.h\n",
        "    #insert code to calculate beta\n",
        "\n",
        "\n",
        "    return beta\n",
        "\n",
        "assert np.isclose(compute_beta(_reference_nu_xe, _reference_mu_CO), _reference_beta)"
      ]
    },
    {
      "cell_type": "markdown",
      "metadata": {
        "id": "0NE0Q7h4_Zxa"
      },
      "source": [
        "$$ D_e = \\frac{k}{2\\beta^2} $$"
      ]
    },
    {
      "cell_type": "code",
      "execution_count": null,
      "metadata": {
        "id": "F5BevRZLDbrc"
      },
      "outputs": [],
      "source": [
        "def compute_De(k, beta):\n",
        "    \"\"\"\n",
        "    Compute the dissociation energy\n",
        "\n",
        "    Arguments\n",
        "    ---------\n",
        "    k : float\n",
        "        the harmonic force constant\n",
        "\n",
        "    beta : float\n",
        "        the exponential term in the Morse potential\n",
        "\n",
        "    Returns\n",
        "    -------\n",
        "    De : float\n",
        "        The dissociation energy in SI units\n",
        "\n",
        "    \"\"\"\n",
        "\n",
        "    #<== insert code to compute and print De here\n",
        "\n",
        "\n",
        "    return De\n",
        "\n",
        "assert np.isclose(compute_De(_reference_k, _reference_beta), _reference_De)"
      ]
    },
    {
      "cell_type": "markdown",
      "source": [
        "##Isotope Effect\n",
        "\n",
        "Now that you have processed the fundamental and overtone spectra for C-12, you will need to repeat the steps for the fundamental spectrum for C-13.  Before you do, let's pause and think about the data before doing calculations.\n",
        "\n",
        "**Question 11:**  Based on your answer to Question 4, would you expect the bond length of C-O to be different for different isotopes? Assume bond strength isn't changing, just the masses. Defend your statements in 2 to 3 sentences.\n",
        "\n",
        "**Question 12:**  Looking at the IR spectrum of the fundamental, you will notice the location of vibrational energy to be offset for C-12 compared to C-13.  Why do you think this occurred? Defend your statements in 1 to 2 sentences.\n",
        "\n",
        "**Question 13:** The intensity of the peaks in the spectrum are related to the populations of the initial states for each transition.  Compare and contrast the the C-13 peaks to the C-12 peaks with respect to abundance of each isotope"
      ],
      "metadata": {
        "id": "503uIvacmhdN"
      }
    },
    {
      "cell_type": "code",
      "source": [
        "#upload isotope data, give specific details?"
      ],
      "metadata": {
        "id": "w510V9RJmqkU"
      },
      "execution_count": null,
      "outputs": []
    },
    {
      "cell_type": "code",
      "source": [
        "#Use the code blocks for plotting to plot the fundamental of C-13 isotope and fit the data.  Make sure to include labels.\n",
        "\n"
      ],
      "metadata": {
        "id": "9n6QJwoNmwMl"
      },
      "execution_count": null,
      "outputs": []
    },
    {
      "cell_type": "code",
      "source": [
        "# Use the appropriate code blocks to calculate the relevant rotational and vibrational parameters for C-13 isotope.  Hint:  You won't be able to calculate all the same parameters as we aren't able to collect an overtone spectrum."
      ],
      "metadata": {
        "id": "h7knPfREnHOF"
      },
      "execution_count": null,
      "outputs": []
    },
    {
      "cell_type": "markdown",
      "source": [
        "#End of lab questions\n",
        "Now that you have analyzed your data and performed the necessary calculations, you will need to do error propagation on your values.  For the error, you will need to hand write the work, including units and proper significant figures.  Write out the equation before you rearrange to make it clear on what values you are solving for.  You will turn in the handwritten calculations as a .pdf along with this colab.  You can combine the spectra and the calculations in one file, but it is not mandatory.  \n",
        "\n",
        "***Complete the end of report questions, for literature values make sure to cite your sources and values should be presented in the same units as calculated values for comparisons. Support your statements and conclusions with your data, mention specifics. ***\n",
        "\n",
        "1) Put data in a table with proper units, sig figs, and if needed, scientific notation.  Don't forget your uncertainty values! (Create a table)\n",
        "\n",
        "\n",
        "\n",
        "| Variable     |  C-12-fundamental  |C-12-overtone  |C-13 fundamental|\n",
        "| ----------- | ----------- | ----------- | ----------- |\n",
        "| variable|   value with units     | value with units    |value with units    |\n",
        "\n",
        "2) What was the value of $r_e$ calculated through Gaussian (with it's uncertainity) for the Data Analysis assignment?  Look up the literature value of the bond length for C-O. (With citation)\n",
        "\n",
        "Compare and contrast the theoretical value found through Gaussian to the experimental value you calculated for C-12.  Do they agree within error?  If not, come up with at least 2 reasons to explain the descripency.\n",
        "\n",
        "\n",
        " Compare and contrast to literature value (cite your source and if possible, mention how the literature value was determined, e.g. computationally or experimentally and if so what were the parameters?Do they agree within error?  If not, come up with at least 2 reasons to explain the descripency.\n",
        "\n",
        "\n",
        "\n",
        "3) What was the value for the force constant?  What does the value tell you able the system?  You may find it helpful to look up values of different bond types.  \n",
        "\n",
        "\n",
        "4) a) Compare and contrast the harmonic and Morse oscillator models by stating the assumptions made for each. Which model produced more accurate predictions of the physical parameters for the fundamental? What about the overtone and isotopic data? There are several variables you calculated that should be used to support your statements.\n",
        "\n",
        "\n",
        "b) What are the assumptions of the rigid rotor model? Considering these assumptions for rotational motion and those from part a) for the vibrational models, are these assumptions reasonable for the CO system? There are several variables you calculated that should be used to support your statements.\n",
        "\n",
        "\n",
        "5)  What were the values you calculated for the well depth from Gaussian and the experimental data?  What were the values you calculated for the well shape from Gaussian and the experimental data? Compare and contrast these values and methods of obtaining the values.  \n",
        "\n",
        "6) Critique your theoretical predictions of the rovibrational constants by comparing with your measured experimental results. Was the method and basis set you used able to achieve high accuracy? What might you change about the calculation to improve the accuracy?\n"
      ],
      "metadata": {
        "id": "ZfBl0bHDndD9"
      }
    }
  ],
  "metadata": {
    "colab": {
      "provenance": [],
      "include_colab_link": true
    },
    "kernelspec": {
      "display_name": "Python 3 (ipykernel)",
      "language": "python",
      "name": "python3"
    },
    "language_info": {
      "codemirror_mode": {
        "name": "ipython",
        "version": 3
      },
      "file_extension": ".py",
      "mimetype": "text/x-python",
      "name": "python",
      "nbconvert_exporter": "python",
      "pygments_lexer": "ipython3",
      "version": "3.8.13"
    }
  },
  "nbformat": 4,
  "nbformat_minor": 0
}